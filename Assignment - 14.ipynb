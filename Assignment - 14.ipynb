{
 "cells": [
  {
   "cell_type": "markdown",
   "id": "5bddd1a4",
   "metadata": {},
   "source": [
    "### 1. What does RGBA stand for?"
   ]
  },
  {
   "cell_type": "markdown",
   "id": "c17c4dec",
   "metadata": {},
   "source": [
    "- it stands for R - Red, G - Green, B - Blue, A - Alpha "
   ]
  },
  {
   "cell_type": "markdown",
   "id": "0d1a7c5d",
   "metadata": {},
   "source": [
    "### 2. From the Pillow module, how do you get the RGBA value of any images?"
   ]
  },
  {
   "cell_type": "code",
   "execution_count": 5,
   "id": "d5635ff3",
   "metadata": {},
   "outputs": [
    {
     "name": "stdout",
     "output_type": "stream",
     "text": [
      "[(255, 255, 255, 0), (255, 255, 255, 0), (255, 255, 255, 0), (255, 255, 255, 0), (255, 255, 255, 0), (255, 255, 255, 0), (255, 255, 255, 0), (255, 255, 255, 0), (255, 255, 255, 0), (255, 255, 255, 0), (255, 255, 255, 0), (255, 255, 255, 0), (255, 255, 255, 0), (255, 255, 255, 0), (255, 255, 255, 0), (255, 255, 255, 0), (255, 255, 255, 0), (255, 255, 255, 0), (255, 255, 255, 0), (255, 255, 255, 0), (255, 255, 255, 0), (255, 255, 255, 0), (255, 255, 255, 0), (255, 255, 255, 0), (255, 255, 255, 0), (255, 255, 255, 0), (255, 255, 255, 0), (255, 255, 255, 0), (255, 255, 255, 0), (255, 255, 255, 0), (255, 255, 255, 0), (255, 255, 255, 0), (255, 255, 255, 0), (255, 255, 255, 0), (255, 255, 255, 0), (255, 255, 255, 0), (255, 255, 255, 0), (255, 255, 255, 0), (255, 255, 255, 0), (255, 255, 255, 0), (255, 255, 255, 0), (255, 255, 255, 0), (255, 255, 255, 0), (255, 255, 255, 0), (255, 255, 255, 0), (255, 255, 255, 0), (255, 255, 255, 0), (255, 255, 255, 0), (255, 255, 255, 0), (255, 255, 255, 0), (255, 255, 255, 0), (255, 255, 255, 0), (255, 255, 255, 0), (255, 255, 255, 0), (255, 255, 255, 0), (255, 255, 255, 0), (255, 255, 255, 0), (255, 255, 255, 0), (255, 255, 255, 0), (255, 255, 255, 0), (255, 255, 255, 0), (255, 255, 255, 0), (255, 255, 255, 0), (255, 255, 255, 0), (255, 255, 255, 0), (255, 255, 255, 0), (255, 255, 255, 0), (255, 255, 255, 0), (255, 255, 255, 0), (255, 255, 255, 0), (255, 255, 255, 0), (255, 255, 255, 0), (255, 255, 255, 0), (255, 255, 255, 0), (255, 255, 255, 0), (255, 255, 255, 0), (255, 255, 255, 0), (255, 255, 255, 0), (255, 255, 255, 0), (255, 255, 255, 0), (255, 255, 255, 0), (255, 255, 255, 0), (255, 255, 255, 0), (255, 255, 255, 0), (255, 255, 255, 0), (255, 255, 255, 0), (255, 255, 255, 0), (255, 255, 255, 0), (255, 255, 255, 0), (255, 255, 255, 0), (255, 255, 255, 0), (255, 255, 255, 0), (255, 255, 255, 0), (255, 255, 255, 0), (255, 255, 255, 0), (255, 255, 255, 0), (255, 255, 255, 0), (255, 255, 255, 0), (255, 255, 255, 0), (255, 255, 255, 0), (255, 255, 255, 0), (255, 255, 255, 0), (255, 255, 255, 0), (255, 255, 255, 0), (255, 255, 255, 0), (255, 255, 255, 0), (255, 255, 255, 0), (255, 255, 255, 0), (255, 255, 255, 0), (255, 255, 255, 0), (255, 255, 255, 0), (255, 255, 255, 0), (255, 255, 255, 0), (255, 255, 255, 0), (255, 255, 255, 0), (255, 255, 255, 0), (255, 255, 255, 0), (255, 255, 255, 0), (255, 255, 255, 0), (255, 255, 255, 0), (255, 255, 255, 0), (255, 255, 255, 0), (255, 255, 255, 0), (255, 255, 255, 0), (255, 255, 255, 0), (255, 255, 255, 0), (255, 255, 255, 0), (255, 255, 255, 0), (255, 255, 255, 0), (255, 255, 255, 0), (255, 255, 255, 0), (255, 255, 255, 0), (255, 255, 255, 0), (255, 255, 255, 0), (255, 255, 255, 0), (255, 255, 255, 0), (255, 255, 255, 0), (255, 255, 255, 0), (255, 255, 255, 0), (255, 255, 255, 0), (255, 255, 255, 0), (255, 255, 255, 0), (255, 255, 255, 0), (255, 255, 255, 0), (255, 255, 255, 0), (255, 255, 255, 0), (255, 255, 255, 0), (255, 255, 255, 0), (255, 255, 255, 0), (255, 255, 255, 0), (255, 255, 255, 0), (255, 255, 255, 0), (255, 255, 255, 0), (255, 255, 255, 0), (255, 255, 255, 0), (255, 255, 255, 0), (255, 255, 255, 0), (255, 255, 255, 0), (255, 255, 255, 0), (255, 255, 255, 0), (255, 255, 255, 0), (255, 255, 255, 0), (255, 255, 255, 0), (255, 255, 255, 0), (255, 255, 255, 0), (255, 255, 255, 0), (255, 255, 255, 0), (255, 255, 255, 0), (255, 255, 255, 0), (255, 255, 255, 0), (255, 255, 255, 0), (255, 255, 255, 0), (255, 255, 255, 0), (255, 255, 255, 0), (255, 255, 255, 0), (255, 255, 255, 0), (255, 255, 255, 0), (255, 255, 255, 0), (255, 255, 255, 0), (255, 255, 255, 0), (255, 255, 255, 0), (255, 255, 255, 0), (255, 255, 255, 0), (255, 255, 255, 0), (255, 255, 255, 0), (255, 255, 255, 0), (255, 255, 255, 0), (255, 255, 255, 0), (255, 255, 255, 0), (255, 255, 255, 0), (255, 255, 255, 0), (255, 255, 255, 0), (255, 255, 255, 0), (255, 255, 255, 0), (255, 255, 255, 0), (255, 255, 255, 0), (255, 255, 255, 0), (255, 255, 255, 0), (255, 255, 255, 0), (255, 255, 255, 0), (255, 255, 255, 0), (255, 255, 255, 0), (255, 255, 255, 0), (255, 255, 255, 0), (255, 255, 255, 0), (255, 255, 255, 0), (255, 255, 255, 0), (255, 255, 255, 0), (255, 255, 255, 0), (255, 255, 255, 0), (255, 255, 255, 0), (255, 255, 255, 0), (255, 255, 255, 0), (255, 255, 255, 0), (255, 255, 255, 0), (255, 255, 255, 0), (255, 255, 255, 0), (255, 255, 255, 0), (255, 255, 255, 0), (255, 255, 255, 0), (255, 255, 255, 0), (255, 255, 255, 0), (255, 255, 255, 0), (255, 255, 255, 0), (255, 255, 255, 0), (255, 255, 255, 0), (255, 255, 255, 0), (255, 255, 255, 0), (255, 255, 255, 0), (255, 255, 255, 0), (255, 255, 255, 0), (255, 255, 255, 0), (255, 255, 255, 0), (255, 255, 255, 0), (255, 255, 255, 0), (255, 255, 255, 0), (255, 255, 255, 0), (255, 255, 255, 0), (255, 255, 255, 0), (255, 255, 255, 0), (255, 255, 255, 0), (255, 255, 255, 0), (255, 255, 255, 0), (255, 255, 255, 0), (255, 255, 255, 0), (255, 255, 255, 0), (255, 255, 255, 0), (255, 255, 255, 0), (255, 255, 255, 0), (255, 255, 255, 0), (255, 255, 255, 0), (255, 255, 255, 0), (255, 255, 255, 0), (255, 255, 255, 0), (255, 255, 255, 0), (255, 255, 255, 0), (255, 255, 255, 0), (255, 255, 255, 0), (255, 255, 255, 0), (255, 255, 255, 0), (255, 255, 255, 0), (255, 255, 255, 0), (255, 255, 255, 0), (255, 255, 255, 0), (255, 255, 255, 0), (255, 255, 255, 0), (255, 255, 255, 0), (255, 255, 255, 0), (255, 255, 255, 0), (255, 255, 255, 0), (255, 255, 255, 0), (255, 255, 255, 0), (255, 255, 255, 0), (255, 255, 255, 0), (255, 255, 255, 0), (255, 255, 255, 0), (255, 255, 255, 0), (255, 255, 255, 0), (255, 255, 255, 0), (255, 255, 255, 0), (255, 255, 255, 0), (255, 255, 255, 0), (255, 255, 255, 0), (255, 255, 255, 0), (255, 255, 255, 0), (255, 255, 255, 0), (255, 255, 255, 0), (255, 255, 255, 0), (255, 255, 255, 0), (255, 255, 255, 0), (255, 255, 255, 0), (255, 255, 255, 0), (255, 255, 255, 0), (255, 255, 255, 0), (255, 255, 255, 0), (255, 255, 255, 0), (255, 255, 255, 0), (255, 255, 255, 0), (255, 255, 255, 0), (255, 255, 255, 0), (255, 255, 255, 0), (255, 255, 255, 0), (255, 255, 255, 0), (255, 255, 255, 0), (255, 255, 255, 0), (255, 255, 255, 0), (255, 255, 255, 0), (255, 255, 255, 0), (255, 255, 255, 0), (255, 255, 255, 0), (255, 255, 255, 0), (255, 255, 255, 0), (255, 255, 255, 0), (255, 255, 255, 0), (255, 255, 255, 0), (255, 255, 255, 0), (255, 255, 255, 0), (255, 255, 255, 0), (255, 255, 255, 0), (255, 255, 255, 0), (255, 255, 255, 0), (255, 255, 255, 0), (255, 255, 255, 0), (255, 255, 255, 0), (255, 255, 255, 0), (255, 255, 255, 0), (255, 255, 255, 0), (255, 255, 255, 0), (255, 255, 255, 0), (255, 255, 255, 0), (255, 255, 255, 0), (255, 255, 255, 0), (255, 255, 255, 0), (255, 255, 255, 0), (255, 255, 255, 0), (255, 255, 255, 0), (255, 255, 255, 0), (255, 255, 255, 0), (255, 255, 255, 0), (255, 255, 255, 0), (255, 255, 255, 0), (255, 255, 255, 0), (255, 255, 255, 0), (255, 255, 255, 0), (255, 255, 255, 0), (255, 255, 255, 0), (255, 255, 255, 0), (255, 255, 255, 0), (255, 255, 255, 0), (255, 255, 255, 0), (255, 255, 255, 0), (255, 255, 255, 0), (255, 255, 255, 0), (255, 255, 255, 0), (255, 255, 255, 0), (255, 255, 255, 0), (255, 255, 255, 0), (255, 255, 255, 0), (255, 255, 255, 0), (255, 255, 255, 0), (255, 255, 255, 0), (255, 255, 255, 0), (255, 255, 255, 0), (255, 255, 255, 0), (255, 255, 255, 0), (255, 255, 255, 0), (255, 255, 255, 0), (255, 255, 255, 0), (255, 255, 255, 0), (255, 255, 255, 0), (255, 255, 255, 0), (255, 255, 255, 0), (255, 255, 255, 0), (255, 255, 255, 0), (255, 255, 255, 0), (255, 255, 255, 0), (255, 255, 255, 0), (255, 255, 255, 0), (255, 255, 255, 0), (255, 255, 255, 0), (255, 255, 255, 0), (255, 255, 255, 0), (255, 255, 255, 0), (255, 255, 255, 0), (255, 255, 255, 0), (255, 255, 255, 0), (255, 255, 255, 0), (255, 255, 255, 0), (255, 255, 255, 0), (255, 255, 255, 0), (255, 255, 255, 0), (255, 255, 255, 0), (255, 255, 255, 0), (255, 255, 255, 0), (255, 255, 255, 0), (255, 255, 255, 0), (255, 255, 255, 0), (255, 255, 255, 0), (255, 255, 255, 0), (255, 255, 255, 0), (255, 255, 255, 0), (255, 255, 255, 0), (255, 255, 255, 0), (255, 255, 255, 0), (255, 255, 255, 0), (255, 255, 255, 0), (255, 255, 255, 0), (255, 255, 255, 0), (255, 255, 255, 0), (255, 255, 255, 0), (255, 255, 255, 0), (255, 255, 255, 0), (255, 255, 255, 0), (255, 255, 255, 0), (255, 255, 255, 0), (255, 255, 255, 0), (255, 255, 255, 0), (255, 255, 255, 0), (255, 255, 255, 0), (255, 255, 255, 0), (255, 255, 255, 0), (255, 255, 255, 0), (255, 255, 255, 0), (255, 255, 255, 0), (255, 255, 255, 0), (255, 255, 255, 0), (255, 255, 255, 0), (255, 255, 255, 0), (255, 255, 255, 0), (255, 255, 255, 0), (255, 255, 255, 0), (255, 255, 255, 0), (255, 255, 255, 0), (255, 255, 255, 0), (255, 255, 255, 0), (255, 255, 255, 0), (255, 255, 255, 0), (255, 255, 255, 0), (255, 255, 255, 0), (255, 255, 255, 0), (255, 255, 255, 0), (255, 255, 255, 0), (255, 255, 255, 0), (255, 255, 255, 0), (255, 255, 255, 0), (255, 255, 255, 0), (255, 255, 255, 0), (255, 255, 255, 0), (255, 255, 255, 0), (255, 255, 255, 0), (255, 255, 255, 0), (255, 255, 255, 0), (255, 255, 255, 0), (255, 255, 255, 0), (255, 255, 255, 0), (255, 255, 255, 0), (255, 255, 255, 0), (255, 255, 255, 0), (255, 255, 255, 0), (255, 255, 255, 0), (255, 255, 255, 0), (255, 255, 255, 0), (255, 255, 255, 0), (255, 255, 255, 0), (255, 255, 255, 0), (255, 255, 255, 0), (255, 255, 255, 0), (255, 255, 255, 0), (255, 255, 255, 0), (255, 255, 255, 0), (255, 255, 255, 0), (255, 255, 255, 0), (255, 255, 255, 0), (255, 255, 255, 0), (255, 255, 255, 0), (255, 255, 255, 0), (255, 255, 255, 0), (255, 255, 255, 0), (255, 255, 255, 0), (255, 255, 255, 0), (255, 255, 255, 0), (255, 255, 255, 0), (255, 255, 255, 0), (255, 255, 255, 0), (255, 255, 255, 0), (255, 255, 255, 0), (255, 255, 255, 0), (255, 255, 255, 0), (255, 255, 255, 0), (255, 255, 255, 0), (255, 255, 255, 0), (255, 255, 255, 0), (255, 255, 255, 0), (255, 255, 255, 0), (255, 255, 255, 0), (255, 255, 255, 0), (255, 255, 255, 0), (255, 255, 255, 0), (255, 255, 255, 0), (255, 255, 255, 0), (255, 255, 255, 0), (255, 255, 255, 0), (255, 255, 255, 0), (255, 255, 255, 0), (255, 255, 255, 0), (255, 255, 255, 0), (255, 255, 255, 0), (255, 255, 255, 0), (255, 255, 255, 0), (255, 255, 255, 0), (255, 255, 255, 0), (255, 255, 255, 0), (255, 255, 255, 0), (255, 255, 255, 0), (255, 255, 255, 0), (255, 255, 255, 0), (255, 255, 255, 0), (255, 255, 255, 0), (255, 255, 255, 0), (255, 255, 255, 0), (255, 255, 255, 0), (255, 255, 255, 0), (255, 255, 255, 0), (255, 255, 255, 0), (255, 255, 255, 0), (255, 255, 255, 0), (255, 255, 255, 0), (255, 255, 255, 0), (255, 255, 255, 0), (255, 255, 255, 0), (255, 255, 255, 0), (255, 255, 255, 0), (255, 255, 255, 0), (255, 255, 255, 0), (255, 255, 255, 0), (255, 255, 255, 0), (255, 255, 255, 0), (255, 255, 255, 0), (255, 255, 255, 0), (255, 255, 255, 0), (255, 255, 255, 0), (255, 255, 255, 0), (255, 255, 255, 0), (255, 255, 255, 0), (255, 255, 255, 0), (255, 255, 255, 0), (255, 255, 255, 0), (255, 255, 255, 0), (255, 255, 255, 0), (255, 255, 255, 0), (255, 255, 255, 0), (255, 255, 255, 0), (255, 255, 255, 0), (255, 255, 255, 0), (255, 255, 255, 0), (255, 255, 255, 0), (255, 255, 255, 0), (255, 255, 255, 0), (255, 255, 255, 0), (255, 255, 255, 0), (255, 255, 255, 0), (255, 255, 255, 0), (255, 255, 255, 0), (255, 255, 255, 0), (255, 255, 255, 0), (255, 255, 255, 0), (255, 255, 255, 0), (255, 255, 255, 0), (255, 255, 255, 0), (255, 255, 255, 0), (255, 255, 255, 0), (255, 255, 255, 0), (255, 255, 255, 0), (255, 255, 255, 0), (255, 255, 255, 0), (255, 255, 255, 0), (255, 255, 255, 0), (255, 255, 255, 0), (255, 255, 255, 0), (255, 255, 255, 0), (255, 255, 255, 0), (255, 255, 255, 0), (255, 255, 255, 0), (255, 255, 255, 0), (255, 255, 255, 0), (255, 255, 255, 0), (255, 255, 255, 0), (255, 255, 255, 0), (255, 255, 255, 0), (255, 255, 255, 0), (255, 255, 255, 0), (255, 255, 255, 0), (255, 255, 255, 0), (255, 255, 255, 0), (255, 255, 255, 0), (255, 255, 255, 0), (255, 255, 255, 0), (255, 255, 255, 0), (255, 255, 255, 0), (255, 255, 255, 0), (255, 255, 255, 0), (255, 255, 255, 0), (255, 255, 255, 0), (255, 255, 255, 0), (255, 255, 255, 0), (255, 255, 255, 0), (255, 255, 255, 0), (255, 255, 255, 0), (255, 255, 255, 0), (255, 255, 255, 0), (255, 255, 255, 0), (255, 255, 255, 0), (255, 255, 255, 0), (255, 255, 255, 0), (255, 255, 255, 0), (255, 255, 255, 0), (255, 255, 255, 0), (255, 255, 255, 0), (255, 255, 255, 0), (255, 255, 255, 0), (255, 255, 255, 0), (255, 255, 255, 0), (255, 255, 255, 0), (255, 255, 255, 0), (255, 255, 255, 0), (255, 255, 255, 0), (255, 255, 255, 0), (255, 255, 255, 0), (255, 255, 255, 0), (255, 255, 255, 0), (255, 255, 255, 0), (255, 255, 255, 0), (255, 255, 255, 0), (255, 255, 255, 0), (255, 255, 255, 0), (255, 255, 255, 0), (255, 255, 255, 0), (255, 255, 255, 0), (255, 255, 255, 0), (255, 255, 255, 0), (255, 255, 255, 0), (255, 255, 255, 0), (255, 255, 255, 0), (255, 255, 255, 0), (255, 255, 255, 0), (255, 255, 255, 0), (255, 255, 255, 0), (255, 255, 255, 0), (255, 255, 255, 0), (255, 255, 255, 0), (255, 255, 255, 0), (255, 255, 255, 0), (255, 255, 255, 0), (255, 255, 255, 0), (255, 255, 255, 0), (255, 255, 255, 0), (255, 255, 255, 0), (255, 255, 255, 0), (255, 255, 255, 0), (255, 255, 255, 0), (255, 255, 255, 0), (255, 255, 255, 0), (255, 255, 255, 0), (255, 255, 255, 0), (255, 255, 255, 0), (255, 255, 255, 0), (255, 255, 255, 0), (255, 255, 255, 0), (255, 255, 255, 0), (255, 255, 255, 0), (255, 255, 255, 0), (255, 255, 255, 0), (255, 255, 255, 0), (255, 255, 255, 0), (255, 255, 255, 0), (255, 255, 255, 0), (255, 255, 255, 0), (255, 255, 255, 0), (255, 255, 255, 0), (255, 255, 255, 0), (255, 255, 255, 0), (255, 255, 255, 0), (255, 255, 255, 0), (255, 255, 255, 0), (255, 255, 255, 0), (255, 255, 255, 0), (255, 255, 255, 0), (255, 255, 255, 0), (255, 255, 255, 0), (255, 255, 255, 0), (255, 255, 255, 0), (255, 255, 255, 0), (255, 255, 255, 0), (255, 255, 255, 0), (255, 255, 255, 0), (255, 255, 255, 0), (255, 255, 255, 0), (255, 255, 255, 0), (255, 255, 255, 0), (255, 255, 255, 0), (255, 255, 255, 0), (255, 255, 255, 0), (255, 255, 255, 0), (255, 255, 255, 0), (255, 255, 255, 0), (255, 255, 255, 0), (255, 255, 255, 0), (255, 255, 255, 0), (255, 255, 255, 0), (255, 255, 255, 0), (255, 255, 255, 0), (255, 255, 255, 0), (255, 255, 255, 0), (255, 255, 255, 0), (255, 255, 255, 0), (255, 255, 255, 0), (255, 255, 255, 0), (255, 255, 255, 0), (255, 255, 255, 0), (255, 255, 255, 0), (255, 255, 255, 0), (255, 255, 255, 0), (255, 255, 255, 0), (255, 255, 255, 0), (255, 255, 255, 0), (255, 255, 255, 0), (255, 255, 255, 0), (255, 255, 255, 0), (255, 255, 255, 0), (255, 255, 255, 0), (255, 255, 255, 0), (255, 255, 255, 0), (255, 255, 255, 0), (255, 255, 255, 0), (255, 255, 255, 0), (255, 255, 255, 0), (255, 255, 255, 0), (255, 255, 255, 0), (255, 255, 255, 0), (255, 255, 255, 0), (255, 255, 255, 0), (255, 255, 255, 0), (255, 255, 255, 0), (255, 255, 255, 0), (255, 255, 255, 0), (255, 255, 255, 0), (255, 255, 255, 0), (255, 255, 255, 0), (255, 255, 255, 0), (255, 255, 255, 0), (255, 255, 255, 0), (255, 255, 255, 0), (255, 255, 255, 0), (255, 255, 255, 0), (255, 255, 255, 0), (255, 255, 255, 0), (255, 255, 255, 0), (255, 255, 255, 0), (255, 255, 255, 0), (255, 255, 255, 0), (255, 255, 255, 0), (255, 255, 255, 0), (255, 255, 255, 0), (255, 255, 255, 0), (255, 255, 255, 0), (255, 255, 255, 0), (255, 255, 255, 0), (255, 255, 255, 0), (255, 255, 255, 0), (255, 255, 255, 0), (255, 255, 255, 0), (255, 255, 255, 0), (255, 255, 255, 0), (255, 255, 255, 0), (255, 255, 255, 0), (255, 255, 255, 0), (255, 255, 255, 0), (255, 255, 255, 0), (255, 255, 255, 0), (255, 255, 255, 0), (255, 255, 255, 0), (255, 255, 255, 0), (255, 255, 255, 0), (255, 255, 255, 0), (255, 255, 255, 0), (255, 255, 255, 0), (255, 255, 255, 0), (255, 255, 255, 0), (255, 255, 255, 0), (255, 255, 255, 0), (255, 255, 255, 0), (255, 255, 255, 0), (255, 255, 255, 0), (255, 255, 255, 0), (255, 255, 255, 0), (255, 255, 255, 0), (255, 255, 255, 0), (255, 255, 255, 0), (255, 255, 255, 0), (255, 255, 255, 0), (255, 255, 255, 0), (255, 255, 255, 0), (255, 255, 255, 0), (255, 255, 255, 0), (255, 255, 255, 0), (255, 255, 255, 0), (255, 255, 255, 0), (255, 255, 255, 0), (255, 255, 255, 0), (255, 255, 255, 0), (255, 255, 255, 0), (255, 255, 255, 0), (255, 255, 255, 0), (255, 255, 255, 0), (255, 255, 255, 0), (255, 255, 255, 0), (255, 255, 255, 0), (255, 255, 255, 0), (255, 255, 255, 0), (255, 255, 255, 0), (255, 255, 255, 0), (255, 255, 255, 0), (255, 255, 255, 0), (255, 255, 255, 0), (255, 255, 255, 0), (255, 255, 255, 0), (255, 255, 255, 0), (255, 255, 255, 0), (255, 255, 255, 0), (255, 255, 255, 0), (255, 255, 255, 0), (255, 255, 255, 0), (255, 255, 255, 0), (255, 255, 255, 0), (255, 255, 255, 0), (255, 255, 255, 0), (255, 255, 255, 0), (255, 255, 255, 0), (255, 255, 255, 0), (255, 255, 255, 0), (255, 255, 255, 0), (255, 255, 255, 0), (255, 255, 255, 0), (255, 255, 255, 0), (255, 255, 255, 0), (255, 255, 255, 0), (255, 255, 255, 0), (255, 255, 255, 0), (255, 255, 255, 0), (255, 255, 255, 0), (255, 255, 255, 0), (255, 255, 255, 0), (255, 255, 255, 0), (255, 255, 255, 0), (255, 255, 255, 0), (255, 255, 255, 0), (255, 255, 255, 0), (255, 255, 255, 0), (255, 255, 255, 0), (255, 255, 255, 0), (255, 255, 255, 0), (255, 255, 255, 0), (255, 255, 255, 0), (255, 255, 255, 0), (255, 255, 255, 0), (255, 255, 255, 0), (255, 255, 255, 0), (255, 255, 255, 0), (255, 255, 255, 0), (255, 255, 255, 0), (255, 255, 255, 0), (255, 255, 255, 0), (255, 255, 255, 0), (255, 255, 255, 0), (255, 255, 255, 0), (255, 255, 255, 0), (255, 255, 255, 0), (255, 255, 255, 0), (255, 255, 255, 0), (255, 255, 255, 0), (255, 255, 255, 0), (255, 255, 255, 0), (255, 255, 255, 0), (255, 255, 255, 0), (255, 255, 255, 0), (255, 255, 255, 0), (255, 255, 255, 0), (255, 255, 255, 0), (255, 255, 255, 0), (255, 255, 255, 0), (255, 255, 255, 0), (255, 255, 255, 0), (255, 255, 255, 0), (255, 255, 255, 0), (255, 255, 255, 0), (255, 255, 255, 0), (255, 255, 255, 0), (255, 255, 255, 0), (255, 255, 255, 0), (255, 255, 255, 0)]\n"
     ]
    }
   ],
   "source": [
    "from PIL import Image\n",
    "\n",
    "img = Image.open(r'C:\\Users\\ARYAN\\Downloads\\eye.png')\n",
    "\n",
    "rgba = img.convert(\"RGBA\")\n",
    "\n",
    "datas = rgba.getdata()\n",
    "\n",
    "rgba = []\n",
    "\n",
    "for item in datas:\n",
    "    if item[0] == 0 and item[1] == 0 and item[2] == 0:\n",
    "        \n",
    "        rgba.append((255, 255, 255, 0))\n",
    "    else:\n",
    "        rgba.append(item)\n",
    "    \n",
    "print(rgba)"
   ]
  },
  {
   "cell_type": "markdown",
   "id": "1249a2fe",
   "metadata": {},
   "source": [
    "### 3. What is a box tuple, and how does it work?"
   ]
  },
  {
   "cell_type": "markdown",
   "id": "e9e407dc",
   "metadata": {},
   "source": [
    "- box tuple is a tuple data type that provides access to read only.\n",
    "\n",
    "- it is basically used to store data so that it cannot be manipulated."
   ]
  },
  {
   "cell_type": "markdown",
   "id": "b2738043",
   "metadata": {},
   "source": [
    "### 4. Use your image and load in notebook then, How can you find out the width and height of an Image object?"
   ]
  },
  {
   "cell_type": "code",
   "execution_count": 11,
   "id": "608c75ce",
   "metadata": {},
   "outputs": [
    {
     "name": "stdout",
     "output_type": "stream",
     "text": [
      "Width : 30\n",
      "Height : 30\n"
     ]
    },
    {
     "data": {
      "image/png": "[encoded data removed]",
      "text/plain": [
       "<Figure size 432x288 with 1 Axes>"
      ]
     },
     "metadata": {
      "needs_background": "light"
     },
     "output_type": "display_data"
    }
   ],
   "source": [
    "from PIL import Image\n",
    "import matplotlib.pyplot as plt\n",
    "\n",
    "img = Image.open(r'C:\\Users\\ARYAN\\Downloads\\eye.png')\n",
    "\n",
    "plt.imshow(img)\n",
    "\n",
    "print(\"Width :\",img.width)\n",
    "print(\"Height :\",img.height)"
   ]
  },
  {
   "cell_type": "markdown",
   "id": "cfbd3fce",
   "metadata": {},
   "source": [
    "### 5. What method would you call to get Image object for a 100×100 image, excluding the lower-left quarter of it?"
   ]
  },
  {
   "cell_type": "code",
   "execution_count": 22,
   "id": "6a304b0c",
   "metadata": {},
   "outputs": [
    {
     "data": {
      "text/plain": [
       "(100, 100)"
      ]
     },
     "execution_count": 22,
     "metadata": {},
     "output_type": "execute_result"
    },
    {
     "data": {
      "image/png": "[encoded data removed]",
      "text/plain": [
       "<Figure size 432x288 with 1 Axes>"
      ]
     },
     "metadata": {
      "needs_background": "light"
     },
     "output_type": "display_data"
    }
   ],
   "source": [
    "from PIL import Image\n",
    "import matplotlib.pyplot as plt\n",
    "\n",
    "img = Image.open(r'C:\\Users\\ARYAN\\Downloads\\eye.png')\n",
    "\n",
    "new_size = img.resize((100,100))\n",
    "\n",
    "plt.imshow(new_size)\n",
    "\n",
    "new_size.size"
   ]
  },
  {
   "cell_type": "markdown",
   "id": "babf3835",
   "metadata": {},
   "source": [
    "### 6. After making changes to an Image object, how could you save it as an image file?"
   ]
  },
  {
   "cell_type": "code",
   "execution_count": 23,
   "id": "93abb2a0",
   "metadata": {},
   "outputs": [],
   "source": [
    "new_size.save(\"eye_resize.png\")"
   ]
  },
  {
   "cell_type": "markdown",
   "id": "77e9d848",
   "metadata": {},
   "source": [
    "### 7. What module contains Pillow’s shape-drawing code?"
   ]
  },
  {
   "cell_type": "markdown",
   "id": "57a75c06",
   "metadata": {},
   "source": [
    "- ImageDraw"
   ]
  },
  {
   "cell_type": "code",
   "execution_count": 26,
   "id": "e39f7acb",
   "metadata": {},
   "outputs": [
    {
     "data": {
      "text/plain": [
       "<matplotlib.image.AxesImage at 0x2d50c989f70>"
      ]
     },
     "execution_count": 26,
     "metadata": {},
     "output_type": "execute_result"
    },
    {
     "data": {
      "image/png": "[encoded data removed]",
      "text/plain": [
       "<Figure size 432x288 with 1 Axes>"
      ]
     },
     "metadata": {
      "needs_background": "light"
     },
     "output_type": "display_data"
    }
   ],
   "source": [
    "# eg :\n",
    "\n",
    "from PIL import Image, ImageDraw\n",
    "import matplotlib.pyplot as plt\n",
    "\n",
    "img = Image.new('RGB', (500, 300), (125, 125, 125))\n",
    "draw = ImageDraw.Draw(img)\n",
    "draw.line((200, 100, 300, 200), fill=(0, 0, 0), width=10)\n",
    "\n",
    "plt.imshow(img)"
   ]
  },
  {
   "cell_type": "markdown",
   "id": "2d3832b2",
   "metadata": {},
   "source": [
    "### 8. Image objects do not have drawing methods. What kind of object does? How do you get this kind of object?"
   ]
  },
  {
   "cell_type": "markdown",
   "id": "1bca056d",
   "metadata": {},
   "source": [
    "- draw object do have the drawing methods.\n",
    "\n",
    "```\n",
    "from PIL import Image, ImageDraw\n",
    "img = Image.open('img_path.png')\n",
    "draw = ImageDraw.Draw(img)\n",
    "\n",
    "```"
   ]
  },
  {
   "cell_type": "code",
   "execution_count": null,
   "id": "0c3abd7e",
   "metadata": {},
   "outputs": [],
   "source": [
    "from PIL import Image, ImageDraw\n",
    "  \n",
    "img = Image.open('img_path.png')\n",
    "  \n",
    "# Creating a Draw object :\n",
    "draw = ImageDraw.Draw(img)\n",
    "\n",
    "# method to draw a vertical line :\n",
    "draw.line(xy=(50, 150, 150, 50),\n",
    "          fill=(0, 128, 0), width = 5)"
   ]
  }
 ],
 "metadata": {
  "kernelspec": {
   "display_name": "Python 3",
   "language": "python",
   "name": "python3"
  },
  "language_info": {
   "codemirror_mode": {
    "name": "ipython",
    "version": 3
   },
   "file_extension": ".py",
   "mimetype": "text/x-python",
   "name": "python",
   "nbconvert_exporter": "python",
   "pygments_lexer": "ipython3",
   "version": "3.8.8"
  },
  "varInspector": {
   "cols": {
    "lenName": 16,
    "lenType": 16,
    "lenVar": 40
   },
   "kernels_config": {
    "python": {
     "delete_cmd_postfix": "",
     "delete_cmd_prefix": "del ",
     "library": "var_list.py",
     "varRefreshCmd": "print(var_dic_list())"
    },
    "r": {
     "delete_cmd_postfix": ") ",
     "delete_cmd_prefix": "rm(",
     "library": "var_list.r",
     "varRefreshCmd": "cat(var_dic_list()) "
    }
   },
   "types_to_exclude": [
    "module",
    "function",
    "builtin_function_or_method",
    "instance",
    "_Feature"
   ],
   "window_display": false
  }
 },
 "nbformat": 4,
 "nbformat_minor": 5
}
