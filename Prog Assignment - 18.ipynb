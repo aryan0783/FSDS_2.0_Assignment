{
 "cells": [
  {
   "cell_type": "markdown",
   "id": "a79d1a65",
   "metadata": {},
   "source": [
    "### Question 1 Create a function that takes a list of non-negative integers and strings and return a new list without the strings.\n",
    "\n",
    "Examples :<br>\n",
    "filter_list([1, 2, &quot;a&quot;, &quot;b&quot;]) ➞ [1, 2]<br>\n",
    "filter_list([1, &quot;a&quot;, &quot;b&quot;, 0, 15]) ➞ [1, 0, 15]<br>\n",
    "filter_list([1, 2, &quot;aasf&quot;, &quot;1&quot;, &quot;123&quot;, 123]) ➞ [1, 2, 123]"
   ]
  },
  {
   "cell_type": "code",
   "execution_count": 1,
   "id": "ed4fe3f0",
   "metadata": {},
   "outputs": [],
   "source": [
    "def filter_list(n):\n",
    "    \n",
    "    if type(n) == list:\n",
    "        \n",
    "        new_ = []\n",
    "        \n",
    "        for i in n:\n",
    "            \n",
    "            if type(i) == int:\n",
    "                \n",
    "                new_ += [i]\n",
    "                \n",
    "        return new_\n",
    "                \n",
    "    else:\n",
    "        \n",
    "        return \"Please give list data type data!\""
   ]
  },
  {
   "cell_type": "code",
   "execution_count": 2,
   "id": "ee810783",
   "metadata": {},
   "outputs": [
    {
     "data": {
      "text/plain": [
       "[1, 2]"
      ]
     },
     "execution_count": 2,
     "metadata": {},
     "output_type": "execute_result"
    }
   ],
   "source": [
    "filter_list([1, 2, \"a\", \"b\"])"
   ]
  },
  {
   "cell_type": "code",
   "execution_count": 3,
   "id": "dea5147f",
   "metadata": {},
   "outputs": [
    {
     "data": {
      "text/plain": [
       "[1, 0, 15]"
      ]
     },
     "execution_count": 3,
     "metadata": {},
     "output_type": "execute_result"
    }
   ],
   "source": [
    "filter_list([1, \"a\", \"b\", 0, 15])"
   ]
  },
  {
   "cell_type": "code",
   "execution_count": 4,
   "id": "57df288a",
   "metadata": {},
   "outputs": [
    {
     "data": {
      "text/plain": [
       "[1, 2, 123]"
      ]
     },
     "execution_count": 4,
     "metadata": {},
     "output_type": "execute_result"
    }
   ],
   "source": [
    "filter_list([1, 2, \"aasf\", \"1\", \"123\", 123])"
   ]
  },
  {
   "cell_type": "markdown",
   "id": "89365982",
   "metadata": {},
   "source": [
    "### Question 2 The &quot;Reverser&quot; takes a string as input and returns that string in reverse order, with the opposite case.\n",
    "\n",
    "Examples<br>\n",
    "reverse(&quot;Hello World&quot;) ➞ &quot;DLROw OLLEh&quot;<br>\n",
    "reverse(&quot;ReVeRsE&quot;) ➞ &quot;eSrEvEr&quot;<br>\n",
    "reverse(&quot;Radar&quot;) ➞ &quot;RADAr&quot;<br>"
   ]
  },
  {
   "cell_type": "code",
   "execution_count": 6,
   "id": "9052c749",
   "metadata": {},
   "outputs": [],
   "source": [
    "def reverser(n):\n",
    "    \n",
    "    if type(n) == str:\n",
    "        \n",
    "        return (n.swapcase())[::-1]\n",
    "    \n",
    "    else:\n",
    "        \n",
    "        return \"Please give string data type data!\""
   ]
  },
  {
   "cell_type": "code",
   "execution_count": 7,
   "id": "dbf8084a",
   "metadata": {},
   "outputs": [
    {
     "data": {
      "text/plain": [
       "'DLROw OLLEh'"
      ]
     },
     "execution_count": 7,
     "metadata": {},
     "output_type": "execute_result"
    }
   ],
   "source": [
    "reverser('Hello World')"
   ]
  },
  {
   "cell_type": "code",
   "execution_count": 8,
   "id": "65b6ae55",
   "metadata": {},
   "outputs": [
    {
     "data": {
      "text/plain": [
       "'eSrEvEr'"
      ]
     },
     "execution_count": 8,
     "metadata": {},
     "output_type": "execute_result"
    }
   ],
   "source": [
    "reverser('ReVeRsE')"
   ]
  },
  {
   "cell_type": "code",
   "execution_count": 9,
   "id": "0da7e936",
   "metadata": {},
   "outputs": [
    {
     "data": {
      "text/plain": [
       "'RADAr'"
      ]
     },
     "execution_count": 9,
     "metadata": {},
     "output_type": "execute_result"
    }
   ],
   "source": [
    "reverser('Radar')"
   ]
  },
  {
   "cell_type": "markdown",
   "id": "46c14b01",
   "metadata": {},
   "source": [
    "### Question 3\n",
    "```\n",
    "You can assign variables from lists like this:\n",
    "lst = [1, 2, 3, 4, 5, 6]\n",
    "first = lst[0]\n",
    "middle = lst[1:-1]\n",
    "last = lst[-1]\n",
    "print(first) ➞ outputs 1\n",
    "print(middle) ➞ outputs [2, 3, 4, 5]\n",
    "print(last) ➞ outputs 6\n",
    "With Python 3, you can assign variables from lists in a much more succinct way. Create\n",
    "variables first, middle and last from the given list using destructuring assignment\n",
    "(check the Resources tab for some examples), where:\n",
    "first ➞ 1\n",
    "middle ➞ [2, 3, 4, 5]\n",
    "last ➞ 6\n",
    "\n",
    "Your task is to unpack the list writeyourcodehere into three variables, being first,\n",
    "middle, and last, with middle being everything in between the first and last element. Then\n",
    "print all three variables.\n",
    "```"
   ]
  },
  {
   "cell_type": "code",
   "execution_count": 11,
   "id": "1854c911",
   "metadata": {},
   "outputs": [
    {
     "name": "stdout",
     "output_type": "stream",
     "text": [
      "1 [2, 3, 4, 5] 6\n"
     ]
    }
   ],
   "source": [
    "lst = [1, 2, 3, 4, 5, 6]\n",
    "\n",
    "# destructuring assignment :\n",
    "first , *middle , last = lst\n",
    "\n",
    "# unpack :\n",
    "print(first, middle , last)"
   ]
  },
  {
   "cell_type": "markdown",
   "id": "574f1cfb",
   "metadata": {},
   "source": [
    "### Question 4 Write a function that calculates the factorial of a number recursively.\n",
    "```\n",
    "Examples\n",
    "factorial(5) ➞ 120\n",
    "factorial(3) ➞ 6\n",
    "factorial(1) ➞ 1\n",
    "factorial(0) ➞ 1\n",
    "```"
   ]
  },
  {
   "cell_type": "code",
   "execution_count": 12,
   "id": "4486c090",
   "metadata": {},
   "outputs": [],
   "source": [
    "def factorial(n):\n",
    "    \n",
    "    if type(n) == int or type(n) == float:\n",
    "        \n",
    "        value = n\n",
    "        \n",
    "        if n<=1:\n",
    "            \n",
    "            return 1\n",
    "        \n",
    "        else:\n",
    "            \n",
    "            return value * factorial(n-1)\n",
    "        \n",
    "    else:\n",
    "        \n",
    "        return 'Please give the appropriate data type value!'"
   ]
  },
  {
   "cell_type": "code",
   "execution_count": 13,
   "id": "19656d1b",
   "metadata": {},
   "outputs": [
    {
     "data": {
      "text/plain": [
       "120"
      ]
     },
     "execution_count": 13,
     "metadata": {},
     "output_type": "execute_result"
    }
   ],
   "source": [
    "factorial(5)"
   ]
  },
  {
   "cell_type": "markdown",
   "id": "d9409c82",
   "metadata": {},
   "source": [
    "### Question 5 Write a function that moves all elements of one type to the end of the list.\n",
    "\n",
    "\n",
    "Examples<br>\n",
    "move_to_end([1, 3, 2, 4, 4, 1], 1) ➞ [3, 2, 4, 4, 1, 1]<br>\n",
    "`# Move all the 1s to the end of the array.`<br>\n",
    "move_to_end([7, 8, 9, 1, 2, 3, 4], 9) ➞ [7, 8, 1, 2, 3, 4, 9]<br>\n",
    "move_to_end([&quot;a&quot;, &quot;a&quot;, &quot;a&quot;, &quot;b&quot;], &quot;a&quot;) ➞ [&quot;b&quot;, &quot;a&quot;, &quot;a&quot;, &quot;a&quot;]"
   ]
  },
  {
   "cell_type": "code",
   "execution_count": 27,
   "id": "d5e818c5",
   "metadata": {},
   "outputs": [],
   "source": [
    "def move_to_end(n,val):\n",
    "    \n",
    "    if type(n) == list:\n",
    "        \n",
    "        a = 0\n",
    "        count =0\n",
    "        \n",
    "        while a<len(n):\n",
    "            \n",
    "            if n[a] == val:\n",
    "                n.pop(a)\n",
    "                count+=1\n",
    "            \n",
    "            else: \n",
    "                a+=1\n",
    "                \n",
    "        return n + ([val]*count)\n",
    "    \n",
    "    else:\n",
    "        \n",
    "        return \"Please give appropriate data type data!\""
   ]
  },
  {
   "cell_type": "code",
   "execution_count": 28,
   "id": "6c019c90",
   "metadata": {},
   "outputs": [
    {
     "data": {
      "text/plain": [
       "[7, 8, 1, 2, 3, 4, 9]"
      ]
     },
     "execution_count": 28,
     "metadata": {},
     "output_type": "execute_result"
    }
   ],
   "source": [
    "move_to_end([7, 8, 9, 1, 2, 3, 4], 9)"
   ]
  },
  {
   "cell_type": "code",
   "execution_count": 29,
   "id": "87b25271",
   "metadata": {},
   "outputs": [
    {
     "data": {
      "text/plain": [
       "['b', 'a', 'a', 'a']"
      ]
     },
     "execution_count": 29,
     "metadata": {},
     "output_type": "execute_result"
    }
   ],
   "source": [
    "move_to_end([\"a\", \"a\", \"a\", \"b\"], \"a\")"
   ]
  }
 ],
 "metadata": {
  "kernelspec": {
   "display_name": "Python 3",
   "language": "python",
   "name": "python3"
  },
  "language_info": {
   "codemirror_mode": {
    "name": "ipython",
    "version": 3
   },
   "file_extension": ".py",
   "mimetype": "text/x-python",
   "name": "python",
   "nbconvert_exporter": "python",
   "pygments_lexer": "ipython3",
   "version": "3.8.8"
  },
  "varInspector": {
   "cols": {
    "lenName": 16,
    "lenType": 16,
    "lenVar": 40
   },
   "kernels_config": {
    "python": {
     "delete_cmd_postfix": "",
     "delete_cmd_prefix": "del ",
     "library": "var_list.py",
     "varRefreshCmd": "print(var_dic_list())"
    },
    "r": {
     "delete_cmd_postfix": ") ",
     "delete_cmd_prefix": "rm(",
     "library": "var_list.r",
     "varRefreshCmd": "cat(var_dic_list()) "
    }
   },
   "types_to_exclude": [
    "module",
    "function",
    "builtin_function_or_method",
    "instance",
    "_Feature"
   ],
   "window_display": false
  }
 },
 "nbformat": 4,
 "nbformat_minor": 5
}
