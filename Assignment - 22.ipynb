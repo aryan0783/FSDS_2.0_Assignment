{
 "cells": [
  {
   "cell_type": "markdown",
   "id": "f30e5a14",
   "metadata": {},
   "source": [
    "### 1. What is the result of the code, and explain?\n",
    "\n",
    "&gt;&gt;&gt; X = &#39;iNeuron&#39;<br>\n",
    "&gt;&gt;&gt; def func():<br>\n",
    "print(X)<br>\n",
    "\n",
    "&gt;&gt;&gt; func()<br>\n"
   ]
  },
  {
   "cell_type": "code",
   "execution_count": 3,
   "id": "b7d29c1a",
   "metadata": {},
   "outputs": [
    {
     "name": "stdout",
     "output_type": "stream",
     "text": [
      "iNeuron\n"
     ]
    }
   ],
   "source": [
    "X = 'iNeuron'\n",
    "def func():\n",
    "    print(X)\n",
    "func()"
   ]
  },
  {
   "cell_type": "markdown",
   "id": "f5976b72",
   "metadata": {},
   "source": [
    "- Reason for the iNeuron output as it prints the value of X.\n",
    "\n",
    "\n",
    "<hr style=\"border:2px solid gray\">"
   ]
  },
  {
   "cell_type": "markdown",
   "id": "510f7c46",
   "metadata": {},
   "source": [
    "### 2. What is the result of the code, and explain?\n",
    "\n",
    "&gt;&gt;&gt; X = &#39;iNeuron&#39;<br>\n",
    "&gt;&gt;&gt; def func():<br>\n",
    "X = &#39;NI!&#39;<br>\n",
    "\n",
    "&gt;&gt;&gt; func()<br>\n",
    "&gt;&gt;&gt; print(X)<br>"
   ]
  },
  {
   "cell_type": "code",
   "execution_count": 5,
   "id": "d2ca1d5c",
   "metadata": {},
   "outputs": [
    {
     "name": "stdout",
     "output_type": "stream",
     "text": [
      "iNeuron\n"
     ]
    }
   ],
   "source": [
    "X = 'iNeuron'\n",
    "def func():\n",
    "    X = 'NI!'\n",
    "\n",
    "func()\n",
    "print(X)"
   ]
  },
  {
   "cell_type": "markdown",
   "id": "37b14193",
   "metadata": {},
   "source": [
    "- Reason for the INeuron output is because of the scope, X = 'NI!' this value of X is in the local scope where as print function prints the global value\n",
    "\n",
    "\n",
    "<hr style=\"border:2px solid gray\">"
   ]
  },
  {
   "cell_type": "markdown",
   "id": "446a3587",
   "metadata": {},
   "source": [
    "### 3. What does this code print, and why?\n",
    "\n",
    "&gt;&gt;&gt; X = &#39;iNeuron&#39;<br>\n",
    "&gt;&gt;&gt; def func():<br>\n",
    "X = &#39;NI&#39;<br>\n",
    "print(X)<br>\n",
    "\n",
    "&gt;&gt;&gt; func()<br>\n",
    "&gt;&gt;&gt; print(X)<br>"
   ]
  },
  {
   "cell_type": "code",
   "execution_count": 7,
   "id": "0f353cba",
   "metadata": {},
   "outputs": [
    {
     "name": "stdout",
     "output_type": "stream",
     "text": [
      "NI\n",
      "iNeuron\n"
     ]
    }
   ],
   "source": [
    "X = 'iNeuron'\n",
    "def func():\n",
    "    X = 'NI'\n",
    "    print(X)\n",
    "\n",
    "func()\n",
    "print(X)"
   ]
  },
  {
   "cell_type": "markdown",
   "id": "14f77615",
   "metadata": {},
   "source": [
    "- func function prints the local value of x and print function outside the func function prints the global value of x.\n",
    "\n",
    "\n",
    "<hr style=\"border:2px solid gray\">"
   ]
  },
  {
   "cell_type": "markdown",
   "id": "5c72dcb9",
   "metadata": {},
   "source": [
    "### 4. What output does this code produce? Why?\n",
    "\n",
    "&gt;&gt;&gt; X = &#39;iNeuron&#39;<br>\n",
    "&gt;&gt;&gt; def func():<br>\n",
    "global X<br>\n",
    "X = &#39;NI&#39;<br>\n",
    "\n",
    "&gt;&gt;&gt; func()<br>\n",
    "&gt;&gt;&gt; print(X)<br>"
   ]
  },
  {
   "cell_type": "code",
   "execution_count": 8,
   "id": "b8e8d84a",
   "metadata": {},
   "outputs": [
    {
     "name": "stdout",
     "output_type": "stream",
     "text": [
      "NI\n"
     ]
    }
   ],
   "source": [
    "X = 'iNeuron'\n",
    "def func():\n",
    "    global X\n",
    "    X = 'NI'\n",
    "\n",
    "func()\n",
    "print(X)"
   ]
  },
  {
   "cell_type": "markdown",
   "id": "ff966ab6",
   "metadata": {},
   "source": [
    "- global keyword referred the global variable X , so now the scope of X is global and the changes made in func function is the changes made in the global variable.\n",
    "\n",
    "\n",
    "<hr style=\"border:2px solid gray\">"
   ]
  },
  {
   "cell_type": "markdown",
   "id": "14e85f93",
   "metadata": {},
   "source": [
    "### 5. What about this code—what’s the output, and why?\n",
    "\n",
    "&gt;&gt;&gt; X = &#39;iNeuron&#39;<br>\n",
    "&gt;&gt;&gt; def func():<br>\n",
    "X = &#39;NI&#39;<br>\n",
    "def nested():<br>\n",
    "print(X)<br>\n",
    "nested()<br>\n",
    "\n",
    "&gt;&gt;&gt; func()<br>\n",
    "&gt;&gt;&gt; X<br>"
   ]
  },
  {
   "cell_type": "code",
   "execution_count": 11,
   "id": "5179d8e2",
   "metadata": {},
   "outputs": [
    {
     "name": "stdout",
     "output_type": "stream",
     "text": [
      "iNeuron\n"
     ]
    },
    {
     "data": {
      "text/plain": [
       "'iNeuron'"
      ]
     },
     "execution_count": 11,
     "metadata": {},
     "output_type": "execute_result"
    }
   ],
   "source": [
    "X = 'iNeuron'\n",
    "def func():\n",
    "    X = 'NI'\n",
    "\n",
    "def nested():\n",
    "    print(X)\n",
    "\n",
    "nested()\n",
    "func()\n",
    "X"
   ]
  },
  {
   "cell_type": "markdown",
   "id": "9faf3327",
   "metadata": {},
   "source": [
    "- X = 'INeuron' so it return the value of the global X value.\n",
    "- also the 'INeuron' is printed by the nested function.\n",
    "\n",
    "\n",
    "<hr style=\"border:2px solid gray\">"
   ]
  },
  {
   "cell_type": "markdown",
   "id": "54e88e9e",
   "metadata": {},
   "source": [
    "### 6. How about this code: what is its output in Python 3, and explain?\n",
    "\n",
    "&gt;&gt;&gt; def func():<br>\n",
    "X = &#39;NI&#39;<br>\n",
    "def nested():<br>\n",
    "nonlocal X<br>\n",
    "X = &#39;Spam&#39;<br>\n",
    "nested()<br>\n",
    "print(X)<br>\n",
    "\n",
    "&gt;&gt;&gt; func()<br>"
   ]
  },
  {
   "cell_type": "code",
   "execution_count": 13,
   "id": "2a4c6fe8",
   "metadata": {},
   "outputs": [
    {
     "name": "stdout",
     "output_type": "stream",
     "text": [
      "Spam\n"
     ]
    }
   ],
   "source": [
    "def func():\n",
    "    X = 'NI'\n",
    "\n",
    "    def nested():\n",
    "        nonlocal X\n",
    "        X = 'Spam'\n",
    "    \n",
    "    nested()\n",
    "    print(X)\n",
    "\n",
    "func()"
   ]
  },
  {
   "cell_type": "markdown",
   "id": "9b96ba47",
   "metadata": {},
   "source": [
    "- in the local scope making X as nonlocal will change the value of X inside the func function so it give 'Spam' as the output\n",
    "\n",
    "\n",
    "\n",
    "<hr style=\"border:2px solid gray\">"
   ]
  }
 ],
 "metadata": {
  "kernelspec": {
   "display_name": "Python 3",
   "language": "python",
   "name": "python3"
  },
  "language_info": {
   "codemirror_mode": {
    "name": "ipython",
    "version": 3
   },
   "file_extension": ".py",
   "mimetype": "text/x-python",
   "name": "python",
   "nbconvert_exporter": "python",
   "pygments_lexer": "ipython3",
   "version": "3.8.8"
  },
  "varInspector": {
   "cols": {
    "lenName": 16,
    "lenType": 16,
    "lenVar": 40
   },
   "kernels_config": {
    "python": {
     "delete_cmd_postfix": "",
     "delete_cmd_prefix": "del ",
     "library": "var_list.py",
     "varRefreshCmd": "print(var_dic_list())"
    },
    "r": {
     "delete_cmd_postfix": ") ",
     "delete_cmd_prefix": "rm(",
     "library": "var_list.r",
     "varRefreshCmd": "cat(var_dic_list()) "
    }
   },
   "types_to_exclude": [
    "module",
    "function",
    "builtin_function_or_method",
    "instance",
    "_Feature"
   ],
   "window_display": false
  }
 },
 "nbformat": 4,
 "nbformat_minor": 5
}
