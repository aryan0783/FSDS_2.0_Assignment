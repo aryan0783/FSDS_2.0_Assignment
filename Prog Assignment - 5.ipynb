{
 "cells": [
  {
   "cell_type": "markdown",
   "id": "3f234040",
   "metadata": {},
   "source": [
    "### 1. Write a Python Program to Find LCM?"
   ]
  },
  {
   "cell_type": "code",
   "execution_count": 39,
   "id": "d3d10e78",
   "metadata": {},
   "outputs": [
    {
     "name": "stdout",
     "output_type": "stream",
     "text": [
      "Enter the no. 1 : 26\n",
      "Enter the no. 2 : 89\n",
      "2314.0\n"
     ]
    }
   ],
   "source": [
    "# applying the formula : lcm = a x b / hcf\n",
    "\n",
    "n1 = int(input(\"Enter the no. 1 : \"))\n",
    "n2 = int(input(\"Enter the no. 2 : \"))\n",
    "\n",
    "min_num = min(n1,n2)\n",
    "\n",
    "num1 = n1\n",
    "num2 = n2\n",
    "\n",
    "prod = 1\n",
    "\n",
    "a = 2\n",
    "\n",
    "# finding the hcf\n",
    "for i in range(min_num):\n",
    "    \n",
    "    if n1%a == 0 and n2%a == 0:\n",
    "        \n",
    "        n2 /= a\n",
    "        n1 /= a\n",
    "        prod *= a\n",
    "        \n",
    "    else:\n",
    "        \n",
    "        a += 1\n",
    "        \n",
    "print((num1*num2)/prod)"
   ]
  },
  {
   "cell_type": "markdown",
   "id": "d201c3be",
   "metadata": {},
   "source": [
    "### 2. Write a Python Program to Find HCF?"
   ]
  },
  {
   "cell_type": "code",
   "execution_count": 40,
   "id": "cd185878",
   "metadata": {},
   "outputs": [
    {
     "name": "stdout",
     "output_type": "stream",
     "text": [
      "Enter the no. 1 : 25\n",
      "Enter the no. 2 : 40\n",
      "5\n"
     ]
    }
   ],
   "source": [
    "n1 = int(input(\"Enter the no. 1 : \"))\n",
    "n2 = int(input(\"Enter the no. 2 : \"))\n",
    "\n",
    "min_num = min(n1,n2)\n",
    "\n",
    "num1 = n1\n",
    "num2 = n2\n",
    "\n",
    "prod = 1\n",
    "\n",
    "a = 2\n",
    "\n",
    "# finding the hcf\n",
    "for i in range(min_num):\n",
    "    \n",
    "    if n1%a == 0 and n2%a == 0:\n",
    "        \n",
    "        n2 /= a\n",
    "        n1 /= a\n",
    "        prod *= a\n",
    "        \n",
    "    else:\n",
    "        \n",
    "        a += 1\n",
    "\n",
    "print(prod)"
   ]
  },
  {
   "cell_type": "markdown",
   "id": "0044c40a",
   "metadata": {},
   "source": [
    "### 3. Write a Python Program to Convert Decimal to Binary, Octal and Hexadecimal?"
   ]
  },
  {
   "cell_type": "code",
   "execution_count": 42,
   "id": "205819dd",
   "metadata": {},
   "outputs": [
    {
     "name": "stdout",
     "output_type": "stream",
     "text": [
      "Enter the decimal value : 89\n",
      "\n",
      "Binary value : 0b1011001\n",
      "Octal value : 0o131\n",
      "Hexadecimal value : 0x59\n"
     ]
    }
   ],
   "source": [
    "n = int(input(\"Enter the decimal value : \"))\n",
    "\n",
    "print()\n",
    "print(f\"Binary value : {bin(n)}\")\n",
    "print(f\"Octal value : {oct(n)}\")\n",
    "print(f\"Hexadecimal value : {hex(n)}\")"
   ]
  },
  {
   "cell_type": "markdown",
   "id": "e879e846",
   "metadata": {},
   "source": [
    "### 4. Write a Python Program To Find ASCII value of a character?"
   ]
  },
  {
   "cell_type": "code",
   "execution_count": 45,
   "id": "9449c668",
   "metadata": {},
   "outputs": [
    {
     "name": "stdout",
     "output_type": "stream",
     "text": [
      "Enter the value : 7\n",
      "\n",
      "ASCII value of 7 : 55\n"
     ]
    }
   ],
   "source": [
    "n = input(\"Enter the value : \")\n",
    "\n",
    "print()\n",
    "print(f\"ASCII value of {n} : {ord(n)}\")"
   ]
  },
  {
   "cell_type": "markdown",
   "id": "7a741d38",
   "metadata": {},
   "source": [
    "### 5. Write a Python Program to Make a Simple Calculator with 4 basic mathematical operations?"
   ]
  },
  {
   "cell_type": "code",
   "execution_count": 46,
   "id": "72080625",
   "metadata": {},
   "outputs": [],
   "source": [
    "def calculator():\n",
    "    \n",
    "    n1 = int(input(\"Enter the first no. : \"))\n",
    "    n2 = int(input(\"Enter the second no. : \"))\n",
    "    \n",
    "    opt = input(\"Enter the operation(+,-,/,*) : \")\n",
    "    \n",
    "    if opt == '+':\n",
    "    \n",
    "        return n1 + n2\n",
    "    \n",
    "    elif opt == '-':\n",
    "        \n",
    "        return n1 - n2\n",
    "    \n",
    "    elif opt == '/':\n",
    "        \n",
    "        return n1 / n2\n",
    "    \n",
    "    elif opt == '*':\n",
    "        \n",
    "        return n1 * n2\n",
    "    \n",
    "    else :\n",
    "        \n",
    "        return \"Invalid operation!\""
   ]
  },
  {
   "cell_type": "code",
   "execution_count": 47,
   "id": "98246206",
   "metadata": {},
   "outputs": [
    {
     "name": "stdout",
     "output_type": "stream",
     "text": [
      "Enter the first no. : 45\n",
      "Enter the second no. : 78\n",
      "Enter the operation(+,-,/,*) : +\n"
     ]
    },
    {
     "data": {
      "text/plain": [
       "123"
      ]
     },
     "execution_count": 47,
     "metadata": {},
     "output_type": "execute_result"
    }
   ],
   "source": [
    "calculator()"
   ]
  }
 ],
 "metadata": {
  "kernelspec": {
   "display_name": "Python 3",
   "language": "python",
   "name": "python3"
  },
  "language_info": {
   "codemirror_mode": {
    "name": "ipython",
    "version": 3
   },
   "file_extension": ".py",
   "mimetype": "text/x-python",
   "name": "python",
   "nbconvert_exporter": "python",
   "pygments_lexer": "ipython3",
   "version": "3.8.8"
  },
  "varInspector": {
   "cols": {
    "lenName": 16,
    "lenType": 16,
    "lenVar": 40
   },
   "kernels_config": {
    "python": {
     "delete_cmd_postfix": "",
     "delete_cmd_prefix": "del ",
     "library": "var_list.py",
     "varRefreshCmd": "print(var_dic_list())"
    },
    "r": {
     "delete_cmd_postfix": ") ",
     "delete_cmd_prefix": "rm(",
     "library": "var_list.r",
     "varRefreshCmd": "cat(var_dic_list()) "
    }
   },
   "types_to_exclude": [
    "module",
    "function",
    "builtin_function_or_method",
    "instance",
    "_Feature"
   ],
   "window_display": false
  }
 },
 "nbformat": 4,
 "nbformat_minor": 5
}
