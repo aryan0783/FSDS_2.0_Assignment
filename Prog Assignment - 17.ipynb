{
 "cells": [
  {
   "cell_type": "markdown",
   "id": "712a938a",
   "metadata": {},
   "source": [
    "### Question1. Create a function that takes three arguments a, b, c and returns the sum of the numbers that are evenly divided by c from the range a, b inclusive.\n",
    "\n",
    "```\n",
    "Examples\n",
    "evenly_divisible(1, 10, 20) ➞ 0\n",
    "# No number between 1 and 10 can be evenly divided by 20.\n",
    "\n",
    "evenly_divisible(1, 10, 2) ➞ 30\n",
    "# 2 + 4 + 6 + 8 + 10 = 30\n",
    "\n",
    "evenly_divisible(1, 10, 3) ➞ 18\n",
    "# 3 + 6 + 9 = 18\n",
    "```"
   ]
  },
  {
   "cell_type": "code",
   "execution_count": 1,
   "id": "208824d6",
   "metadata": {},
   "outputs": [],
   "source": [
    "def evenly_divisible(a,b,c):\n",
    "    \n",
    "    value = 0\n",
    "    \n",
    "    for i in range(a,b+1):\n",
    "        \n",
    "        if i%c==0:\n",
    "            \n",
    "            value += i\n",
    "            \n",
    "    return value"
   ]
  },
  {
   "cell_type": "code",
   "execution_count": 2,
   "id": "3c73597a",
   "metadata": {},
   "outputs": [
    {
     "data": {
      "text/plain": [
       "0"
      ]
     },
     "execution_count": 2,
     "metadata": {},
     "output_type": "execute_result"
    }
   ],
   "source": [
    "evenly_divisible(1,10,20)"
   ]
  },
  {
   "cell_type": "code",
   "execution_count": 3,
   "id": "d6d5942a",
   "metadata": {},
   "outputs": [
    {
     "data": {
      "text/plain": [
       "30"
      ]
     },
     "execution_count": 3,
     "metadata": {},
     "output_type": "execute_result"
    }
   ],
   "source": [
    "evenly_divisible(1,10,2)"
   ]
  },
  {
   "cell_type": "code",
   "execution_count": 4,
   "id": "90eaa130",
   "metadata": {},
   "outputs": [
    {
     "data": {
      "text/plain": [
       "18"
      ]
     },
     "execution_count": 4,
     "metadata": {},
     "output_type": "execute_result"
    }
   ],
   "source": [
    "evenly_divisible(1,10,3)"
   ]
  },
  {
   "cell_type": "markdown",
   "id": "ad3f66b7",
   "metadata": {},
   "source": [
    "### Question2. Create a function that returns True if a given inequality expression is correct and False otherwise.\n",
    "\n",
    "```\n",
    "Examples :\n",
    "\n",
    "correct_signs(\"3 < 7 < 11\") ➞ True\n",
    "correct_signs(\"13 > 44 > 33 > 1\") ➞ False\n",
    "correct_signs(\"1 < 2 < 6 < 9 > 3\") ➞ True\n",
    "```"
   ]
  },
  {
   "cell_type": "code",
   "execution_count": 44,
   "id": "32f29528",
   "metadata": {},
   "outputs": [],
   "source": [
    "def correct_signs(n):\n",
    "\n",
    "    lis = n.split(' ')\n",
    "\n",
    "    exp_lis = []\n",
    "\n",
    "    for i in range((len(lis)-2)):\n",
    "\n",
    "        exp = ''\n",
    "\n",
    "        if i % 2 == 0:\n",
    "\n",
    "            exp = lis[i] + lis[i+1] + lis[i+2]\n",
    "\n",
    "            if exp not in exp_lis:\n",
    "\n",
    "                exp_lis += [exp]\n",
    "\n",
    "        else:\n",
    "\n",
    "            exp = lis[i+1] + lis[i+2] + lis[i+3]\n",
    "\n",
    "            if exp not in exp_lis:\n",
    "\n",
    "                exp_lis += [exp]\n",
    "\n",
    "    for i in exp_lis:\n",
    "\n",
    "        if eval(i):\n",
    "\n",
    "            continue\n",
    "\n",
    "        else:\n",
    "\n",
    "            return False\n",
    "\n",
    "    return True"
   ]
  },
  {
   "cell_type": "code",
   "execution_count": 39,
   "id": "b37f8017",
   "metadata": {},
   "outputs": [
    {
     "data": {
      "text/plain": [
       "True"
      ]
     },
     "execution_count": 39,
     "metadata": {},
     "output_type": "execute_result"
    }
   ],
   "source": [
    "correct_signs(\"3 < 7 < 11\")"
   ]
  },
  {
   "cell_type": "code",
   "execution_count": 40,
   "id": "c6fa44bd",
   "metadata": {},
   "outputs": [
    {
     "data": {
      "text/plain": [
       "False"
      ]
     },
     "execution_count": 40,
     "metadata": {},
     "output_type": "execute_result"
    }
   ],
   "source": [
    "correct_signs(\"13 > 44 > 33 > 1\")"
   ]
  },
  {
   "cell_type": "code",
   "execution_count": 45,
   "id": "b500a3ed",
   "metadata": {},
   "outputs": [
    {
     "data": {
      "text/plain": [
       "True"
      ]
     },
     "execution_count": 45,
     "metadata": {},
     "output_type": "execute_result"
    }
   ],
   "source": [
    "correct_signs(\"1 < 2 < 6 < 9 > 3\")"
   ]
  },
  {
   "cell_type": "markdown",
   "id": "6483dcf7",
   "metadata": {},
   "source": [
    "### Question3. Create a function that replaces all the vowels in a string with a specified character.\n",
    "\n",
    "```\n",
    "Examples\n",
    "replace_vowels(\"the aardvark\", \"#\") ➞ \"th# ##rdv#rk\"\n",
    "\n",
    "replace_vowels(\"minnie mouse\", \"?\") ➞ \"m?nn?? m??s?\"\n",
    "\n",
    "replace_vowels(\"shakespeare\", \"*\") ➞ \"sh*k*sp**r*\"\n",
    "\n",
    "```"
   ]
  },
  {
   "cell_type": "code",
   "execution_count": 10,
   "id": "f686ee9f",
   "metadata": {},
   "outputs": [],
   "source": [
    "def replace_vowels(word,char):\n",
    "    \n",
    "    if type(word) == str and type(char) == str:\n",
    "        \n",
    "        vowels = 'aeiou'\n",
    "        \n",
    "        word_ = ''\n",
    "        \n",
    "        for i in word:\n",
    "            \n",
    "            if i in vowels:\n",
    "                \n",
    "                word_ += char\n",
    "                \n",
    "            else:\n",
    "                \n",
    "                word_ += i\n",
    "                \n",
    "        return word_\n",
    "    \n",
    "    else:\n",
    "        \n",
    "        return \"Please enter the appropriate data type data!\""
   ]
  },
  {
   "cell_type": "code",
   "execution_count": 11,
   "id": "ed47d0b9",
   "metadata": {},
   "outputs": [
    {
     "data": {
      "text/plain": [
       "'sh*k*sp**r*'"
      ]
     },
     "execution_count": 11,
     "metadata": {},
     "output_type": "execute_result"
    }
   ],
   "source": [
    "replace_vowels(\"shakespeare\", \"*\")"
   ]
  },
  {
   "cell_type": "markdown",
   "id": "a4fb6083",
   "metadata": {},
   "source": [
    "### Question4. Write a function that calculates the factorial of a number recursively.\n",
    "\n",
    "```\n",
    "Examples\n",
    "factorial(5) ➞ 120\n",
    "factorial(3) ➞ 6\n",
    "factorial(1) ➞ 1\n",
    "factorial(0) ➞ 1\n",
    "```"
   ]
  },
  {
   "cell_type": "code",
   "execution_count": 13,
   "id": "e1e96cfe",
   "metadata": {},
   "outputs": [],
   "source": [
    "def factorial(value):\n",
    "    \n",
    "    if type(value) == float or type(value) == int:\n",
    "        \n",
    "        fact = value\n",
    "        \n",
    "        if value<=1:\n",
    "            \n",
    "            return 1\n",
    "        \n",
    "        else:\n",
    "            \n",
    "            return fact * factorial(value-1)\n",
    "        \n",
    "    else:\n",
    "        \n",
    "        return \"Please give appropriate data type value!\""
   ]
  },
  {
   "cell_type": "code",
   "execution_count": 14,
   "id": "7b5f9c2b",
   "metadata": {},
   "outputs": [
    {
     "data": {
      "text/plain": [
       "120"
      ]
     },
     "execution_count": 14,
     "metadata": {},
     "output_type": "execute_result"
    }
   ],
   "source": [
    "factorial(5)"
   ]
  },
  {
   "cell_type": "code",
   "execution_count": 15,
   "id": "04288a8c",
   "metadata": {},
   "outputs": [
    {
     "data": {
      "text/plain": [
       "6"
      ]
     },
     "execution_count": 15,
     "metadata": {},
     "output_type": "execute_result"
    }
   ],
   "source": [
    "factorial(3)"
   ]
  },
  {
   "cell_type": "markdown",
   "id": "b85315e1",
   "metadata": {},
   "source": [
    "### Question 5 Hamming distance is the number of characters that differ between two strings.\n",
    "```\n",
    "To illustrate:\n",
    "String1: \"abcbba\"\n",
    "String2: \"abcbda\"\n",
    "\n",
    "Hamming Distance: 1 - \"b\" vs. \"d\" is the only difference.\n",
    "\n",
    "Create a function that computes the hamming distance between two strings.\n",
    "\n",
    "Examples\n",
    "hamming_distance(\"abcde\", \"bcdef\") ➞ 5\n",
    "hamming_distance(\"abcde\", \"abcde\") ➞ 0\n",
    "hamming_distance(\"strong\", \"strung\") ➞ 1\n",
    "```"
   ]
  },
  {
   "cell_type": "code",
   "execution_count": 16,
   "id": "d1d13cd0",
   "metadata": {},
   "outputs": [],
   "source": [
    "def hamming_distance(str1,str2):\n",
    "    \n",
    "    if type(str1) == str and type(str2) == str:\n",
    "        \n",
    "        if len(str1) == len(str2):\n",
    "            \n",
    "            dist = 0\n",
    "            \n",
    "            for i in range(len(str1)):\n",
    "                \n",
    "                if str1[i] == str2[i]:\n",
    "                    \n",
    "                    continue\n",
    "                    \n",
    "                else:\n",
    "                    \n",
    "                    dist += 1\n",
    "                    \n",
    "            return dist\n",
    "        \n",
    "        else:\n",
    "            \n",
    "            return \"Please give appropriate data type value!\""
   ]
  },
  {
   "cell_type": "code",
   "execution_count": 17,
   "id": "e0eae501",
   "metadata": {},
   "outputs": [
    {
     "data": {
      "text/plain": [
       "5"
      ]
     },
     "execution_count": 17,
     "metadata": {},
     "output_type": "execute_result"
    }
   ],
   "source": [
    "hamming_distance(\"abcde\", \"bcdef\")"
   ]
  },
  {
   "cell_type": "code",
   "execution_count": 18,
   "id": "c910f5b3",
   "metadata": {},
   "outputs": [
    {
     "data": {
      "text/plain": [
       "0"
      ]
     },
     "execution_count": 18,
     "metadata": {},
     "output_type": "execute_result"
    }
   ],
   "source": [
    "hamming_distance(\"abcde\", \"abcde\")"
   ]
  },
  {
   "cell_type": "code",
   "execution_count": 19,
   "id": "ad9be41b",
   "metadata": {},
   "outputs": [
    {
     "data": {
      "text/plain": [
       "1"
      ]
     },
     "execution_count": 19,
     "metadata": {},
     "output_type": "execute_result"
    }
   ],
   "source": [
    "hamming_distance(\"strong\", \"strung\")"
   ]
  }
 ],
 "metadata": {
  "kernelspec": {
   "display_name": "Python 3",
   "language": "python",
   "name": "python3"
  },
  "language_info": {
   "codemirror_mode": {
    "name": "ipython",
    "version": 3
   },
   "file_extension": ".py",
   "mimetype": "text/x-python",
   "name": "python",
   "nbconvert_exporter": "python",
   "pygments_lexer": "ipython3",
   "version": "3.8.8"
  },
  "varInspector": {
   "cols": {
    "lenName": 16,
    "lenType": 16,
    "lenVar": 40
   },
   "kernels_config": {
    "python": {
     "delete_cmd_postfix": "",
     "delete_cmd_prefix": "del ",
     "library": "var_list.py",
     "varRefreshCmd": "print(var_dic_list())"
    },
    "r": {
     "delete_cmd_postfix": ") ",
     "delete_cmd_prefix": "rm(",
     "library": "var_list.r",
     "varRefreshCmd": "cat(var_dic_list()) "
    }
   },
   "types_to_exclude": [
    "module",
    "function",
    "builtin_function_or_method",
    "instance",
    "_Feature"
   ],
   "window_display": false
  }
 },
 "nbformat": 4,
 "nbformat_minor": 5
}
