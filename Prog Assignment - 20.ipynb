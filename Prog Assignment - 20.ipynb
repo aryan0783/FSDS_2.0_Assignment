{
 "cells": [
  {
   "cell_type": "markdown",
   "id": "31074ea4",
   "metadata": {},
   "source": [
    "### Question1 Create a function that takes a list of strings and integers, and filters out the list so that it returns a list of integers only.\n",
    "<br>\n",
    "Examples<br>\n",
    "filter_list([1, 2, 3, &quot;a&quot;, &quot;b&quot;, 4]) ➞ [1, 2, 3, 4]<br>\n",
    "filter_list([&quot;A&quot;, 0, &quot;Edabit&quot;, 1729, &quot;Python&quot;, &quot;1729&quot;]) ➞ [0, 1729]<br>\n",
    "filter_list([&quot;Nothing&quot;, &quot;here&quot;]) ➞ []<br>"
   ]
  },
  {
   "cell_type": "code",
   "execution_count": 1,
   "id": "d6d74529",
   "metadata": {},
   "outputs": [],
   "source": [
    "def filter_list(lis):\n",
    "    \n",
    "    if type(lis) == list:\n",
    "        \n",
    "        new_ = []\n",
    "        \n",
    "        for i in lis:\n",
    "            \n",
    "            if type(i) == int:\n",
    "                \n",
    "                new_.append(i)\n",
    "                \n",
    "        return new_\n",
    "    \n",
    "    else:\n",
    "        \n",
    "        return 'Please give list data type data!'"
   ]
  },
  {
   "cell_type": "code",
   "execution_count": 2,
   "id": "273bef1b",
   "metadata": {},
   "outputs": [
    {
     "data": {
      "text/plain": [
       "[1, 2, 3, 4]"
      ]
     },
     "execution_count": 2,
     "metadata": {},
     "output_type": "execute_result"
    }
   ],
   "source": [
    "filter_list([1, 2, 3, \"a\", \"b\", 4])"
   ]
  },
  {
   "cell_type": "code",
   "execution_count": 3,
   "id": "860cdb82",
   "metadata": {},
   "outputs": [
    {
     "data": {
      "text/plain": [
       "[]"
      ]
     },
     "execution_count": 3,
     "metadata": {},
     "output_type": "execute_result"
    }
   ],
   "source": [
    "filter_list([\"Nothing\", \"here\"])"
   ]
  },
  {
   "cell_type": "markdown",
   "id": "de5a3361",
   "metadata": {},
   "source": [
    "### Question2 Given a list of numbers, create a function which returns the list but with each element&#39;s index in the list added to itself. This means you add 0 to the number at index 0, add 1 to the number at index 1, etc...\n",
    "```\n",
    "Examples\n",
    "add_indexes([0, 0, 0, 0, 0]) ➞ [0, 1, 2, 3, 4]\n",
    "add_indexes([1, 2, 3, 4, 5]) ➞ [1, 3, 5, 7, 9]\n",
    "add_indexes([5, 4, 3, 2, 1]) ➞ [5, 5, 5, 5, 5]\n",
    "```"
   ]
  },
  {
   "cell_type": "code",
   "execution_count": 4,
   "id": "a7e4363c",
   "metadata": {},
   "outputs": [],
   "source": [
    "def add_indexes(lis):\n",
    "    \n",
    "    if type(lis) == list:\n",
    "        \n",
    "        new_ = []\n",
    "        \n",
    "        for i in range(len(lis)):\n",
    "            \n",
    "            new_ += [lis[i] + i]\n",
    "            \n",
    "        return new_\n",
    "    \n",
    "    else:\n",
    "        \n",
    "        return \"Please give list data type data!\""
   ]
  },
  {
   "cell_type": "code",
   "execution_count": 5,
   "id": "b843cc8a",
   "metadata": {},
   "outputs": [
    {
     "data": {
      "text/plain": [
       "[1, 3, 5, 7, 9]"
      ]
     },
     "execution_count": 5,
     "metadata": {},
     "output_type": "execute_result"
    }
   ],
   "source": [
    "add_indexes([1,2,3,4,5])"
   ]
  },
  {
   "cell_type": "code",
   "execution_count": 6,
   "id": "1944904d",
   "metadata": {},
   "outputs": [
    {
     "data": {
      "text/plain": [
       "[5, 5, 5, 5, 5]"
      ]
     },
     "execution_count": 6,
     "metadata": {},
     "output_type": "execute_result"
    }
   ],
   "source": [
    "add_indexes([5,4,3,2,1])"
   ]
  },
  {
   "cell_type": "markdown",
   "id": "559270d1",
   "metadata": {},
   "source": [
    "### Question3 Create a function that takes the height and radius of a cone as arguments and returns the volume of the cone rounded to the nearest hundredth.\n",
    "\n",
    "```\n",
    "Examples\n",
    "cone_volume(3, 2) ➞ 12.57\n",
    "\n",
    "cone_volume(15, 6) ➞ 565.49\n",
    "cone_volume(18, 0) ➞ 0\n",
    "```"
   ]
  },
  {
   "cell_type": "code",
   "execution_count": 26,
   "id": "794eecfb",
   "metadata": {},
   "outputs": [],
   "source": [
    "def cone_volume(h,r):\n",
    "    \n",
    "    return round(((1/3)*3.14*(r**2) *h),2)"
   ]
  },
  {
   "cell_type": "code",
   "execution_count": 27,
   "id": "f660f864",
   "metadata": {},
   "outputs": [
    {
     "data": {
      "text/plain": [
       "12.56"
      ]
     },
     "execution_count": 27,
     "metadata": {},
     "output_type": "execute_result"
    }
   ],
   "source": [
    "cone_volume(3,2)"
   ]
  },
  {
   "cell_type": "code",
   "execution_count": 28,
   "id": "1a61d2c7",
   "metadata": {},
   "outputs": [
    {
     "data": {
      "text/plain": [
       "565.2"
      ]
     },
     "execution_count": 28,
     "metadata": {},
     "output_type": "execute_result"
    }
   ],
   "source": [
    "cone_volume(15,6)"
   ]
  },
  {
   "cell_type": "code",
   "execution_count": 29,
   "id": "1fbbc9e8",
   "metadata": {},
   "outputs": [
    {
     "data": {
      "text/plain": [
       "0.0"
      ]
     },
     "execution_count": 29,
     "metadata": {},
     "output_type": "execute_result"
    }
   ],
   "source": [
    "cone_volume(18,0)"
   ]
  },
  {
   "cell_type": "markdown",
   "id": "14298c7a",
   "metadata": {},
   "source": [
    "### Question4 This Triangular Number Sequence is generated from a pattern of dots that form a triangle.\n",
    "```\n",
    "The first 5 numbers of the sequence, or dots, are:\n",
    "1, 3, 6, 10, 15\n",
    "\n",
    "This means that the first triangle has just one dot, the second one has three dots, the third one\n",
    "has 6 dots and so on.\n",
    "\n",
    "Write a function that gives the number of dots with its corresponding triangle number of the\n",
    "sequence.\n",
    "\n",
    "Examples\n",
    "triangle(1) ➞ 1\n",
    "triangle(6) ➞ 21\n",
    "triangle(215) ➞ 23220\n",
    "```"
   ]
  },
  {
   "cell_type": "code",
   "execution_count": 30,
   "id": "7aacca21",
   "metadata": {},
   "outputs": [],
   "source": [
    "def triangle(n):\n",
    "    \n",
    "    if type(n) == int or type(n) == float:\n",
    "        \n",
    "        return (n*(n+1))/2\n",
    "    \n",
    "    else:\n",
    "        \n",
    "        return \"Please give appropriate data type data!\""
   ]
  },
  {
   "cell_type": "code",
   "execution_count": 32,
   "id": "10aa66c6",
   "metadata": {},
   "outputs": [
    {
     "data": {
      "text/plain": [
       "21.0"
      ]
     },
     "execution_count": 32,
     "metadata": {},
     "output_type": "execute_result"
    }
   ],
   "source": [
    "triangle(6)"
   ]
  },
  {
   "cell_type": "code",
   "execution_count": 33,
   "id": "0b0b1fd3",
   "metadata": {},
   "outputs": [
    {
     "data": {
      "text/plain": [
       "23220.0"
      ]
     },
     "execution_count": 33,
     "metadata": {},
     "output_type": "execute_result"
    }
   ],
   "source": [
    "triangle(215)"
   ]
  },
  {
   "cell_type": "markdown",
   "id": "8046138a",
   "metadata": {},
   "source": [
    "### Question5 Create a function that takes a list of numbers between 1 and 10 (excluding one number) and returns the missing number.\n",
    "```\n",
    "Examples\n",
    "missing_num([1, 2, 3, 4, 6, 7, 8, 9, 10]) ➞ 5\n",
    "missing_num([7, 2, 3, 6, 5, 9, 1, 4, 8]) ➞ 10\n",
    "missing_num([10, 5, 1, 2, 4, 6, 8, 3, 9]) ➞ 7\n",
    "```"
   ]
  },
  {
   "cell_type": "code",
   "execution_count": 49,
   "id": "183fa0c3",
   "metadata": {},
   "outputs": [],
   "source": [
    "def missing_num(lis):\n",
    "    \n",
    "    if type(lis) == list:\n",
    "        \n",
    "        lis.sort()\n",
    "        \n",
    "        for i in range(len(lis)-1) :\n",
    "            \n",
    "            if lis[i+1] - lis[i] == 1:\n",
    "                \n",
    "                continue\n",
    "                \n",
    "            else:\n",
    "                \n",
    "                return lis[i] + 1\n",
    "            \n",
    "        return lis[i+1] + 1\n",
    "            \n",
    "    else:\n",
    "        \n",
    "        return \"Please give list data type data!\""
   ]
  },
  {
   "cell_type": "code",
   "execution_count": 52,
   "id": "7f230ca4",
   "metadata": {},
   "outputs": [
    {
     "data": {
      "text/plain": [
       "2"
      ]
     },
     "execution_count": 52,
     "metadata": {},
     "output_type": "execute_result"
    }
   ],
   "source": [
    "missing_num([7, 6, 3, 9, 5, 10, 1, 4, 8])"
   ]
  },
  {
   "cell_type": "code",
   "execution_count": 53,
   "id": "ec9f20d8",
   "metadata": {},
   "outputs": [
    {
     "data": {
      "text/plain": [
       "7"
      ]
     },
     "execution_count": 53,
     "metadata": {},
     "output_type": "execute_result"
    }
   ],
   "source": [
    "missing_num([10, 5, 1, 2, 4, 6, 8, 3, 9])"
   ]
  }
 ],
 "metadata": {
  "kernelspec": {
   "display_name": "Python 3",
   "language": "python",
   "name": "python3"
  },
  "language_info": {
   "codemirror_mode": {
    "name": "ipython",
    "version": 3
   },
   "file_extension": ".py",
   "mimetype": "text/x-python",
   "name": "python",
   "nbconvert_exporter": "python",
   "pygments_lexer": "ipython3",
   "version": "3.8.8"
  },
  "varInspector": {
   "cols": {
    "lenName": 16,
    "lenType": 16,
    "lenVar": 40
   },
   "kernels_config": {
    "python": {
     "delete_cmd_postfix": "",
     "delete_cmd_prefix": "del ",
     "library": "var_list.py",
     "varRefreshCmd": "print(var_dic_list())"
    },
    "r": {
     "delete_cmd_postfix": ") ",
     "delete_cmd_prefix": "rm(",
     "library": "var_list.r",
     "varRefreshCmd": "cat(var_dic_list()) "
    }
   },
   "types_to_exclude": [
    "module",
    "function",
    "builtin_function_or_method",
    "instance",
    "_Feature"
   ],
   "window_display": false
  }
 },
 "nbformat": 4,
 "nbformat_minor": 5
}
