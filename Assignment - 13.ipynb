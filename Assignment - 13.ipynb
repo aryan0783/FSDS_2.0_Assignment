{
 "cells": [
  {
   "cell_type": "markdown",
   "id": "99ad6811",
   "metadata": {},
   "source": [
    "### 1. What advantages do Excel spreadsheets have over CSV spreadsheets?"
   ]
  },
  {
   "cell_type": "markdown",
   "id": "c02daf88",
   "metadata": {},
   "source": [
    "- csv files have a limit of 32,767 characters per cell. Excel has a limit of 1,048,576 rows and 16,384 columns per sheet.\n",
    "\n",
    "<br>\n",
    "\n",
    "- excel spreadsheets supports complex data where csv spreadsheets do not."
   ]
  },
  {
   "cell_type": "markdown",
   "id": "3f03a13e",
   "metadata": {},
   "source": [
    "### 2.What do you pass to csv.reader() and csv.writer() to create reader and writer objects?"
   ]
  },
  {
   "cell_type": "markdown",
   "id": "76f2ff04",
   "metadata": {},
   "source": [
    "- we pass two things in csv.reader() and csv.writer() generally :\n",
    "\n",
    "<br>\n",
    "\n",
    "```\n",
    "- open file reference\n",
    "- delimiter to seperate the values\n",
    "```"
   ]
  },
  {
   "cell_type": "markdown",
   "id": "a31a556a",
   "metadata": {},
   "source": [
    "### 3. What modes do File objects for reader and writer objects need to be opened in?"
   ]
  },
  {
   "cell_type": "markdown",
   "id": "a2ef6ed4",
   "metadata": {},
   "source": [
    "- In case of reader object it should be opened in 'r' mode which is the default mode.\n",
    "\n",
    "- In case of writer object it should be opened in 'w' mode which is the write mode."
   ]
  },
  {
   "cell_type": "code",
   "execution_count": null,
   "id": "970b973b",
   "metadata": {},
   "outputs": [],
   "source": [
    "# for reading :\n",
    "f = open(path,'r')\n",
    "\n",
    "# for writing :\n",
    "f = open(path,'w')"
   ]
  },
  {
   "cell_type": "markdown",
   "id": "ecfdc1c8",
   "metadata": {},
   "source": [
    "### 4. What method takes a list argument and writes it to a CSV file?"
   ]
  },
  {
   "cell_type": "markdown",
   "id": "c413dc9d",
   "metadata": {},
   "source": [
    "- writerows method takes the list argument and write it to csv file"
   ]
  },
  {
   "cell_type": "code",
   "execution_count": null,
   "id": "580443bc",
   "metadata": {},
   "outputs": [],
   "source": [
    "# eg :\n",
    "\n",
    "import csv\n",
    "persons=[('Lata',22,45),('Anil',21,56),('John',20,60)]\n",
    "\n",
    "csvfile = open('persons.csv','w', newline='')\n",
    "obj = csv.writer(csvfile)\n",
    "obj.writerows(persons)\n",
    "obj.close()"
   ]
  },
  {
   "cell_type": "markdown",
   "id": "578f3a4c",
   "metadata": {},
   "source": [
    "### 5. What do the keyword arguments delimiter and line terminator do?"
   ]
  },
  {
   "cell_type": "markdown",
   "id": "ad2368b7",
   "metadata": {},
   "source": [
    "- keyword argument delimiter seperate the rows from the data."
   ]
  },
  {
   "cell_type": "code",
   "execution_count": null,
   "id": "181f2f81",
   "metadata": {},
   "outputs": [],
   "source": [
    "# eg :\n",
    "\n",
    "import csv\n",
    "with open(path) as f:\n",
    "    \n",
    "    data = csv.reader(f,delimiter='\\n')\n",
    "    \n",
    "    for i in data:\n",
    "        print(i)"
   ]
  },
  {
   "cell_type": "markdown",
   "id": "44d6a907",
   "metadata": {},
   "source": [
    "### 6. What function takes a string of JSON data and returns a Python data structure?"
   ]
  },
  {
   "cell_type": "markdown",
   "id": "ca832802",
   "metadata": {},
   "source": [
    "- json.loads() function will return a python data structure"
   ]
  },
  {
   "cell_type": "code",
   "execution_count": 4,
   "id": "644b1f19",
   "metadata": {},
   "outputs": [
    {
     "name": "stdout",
     "output_type": "stream",
     "text": [
      "{'Country': {'name': 'INDIA', 'Languages_spoken': [{'names': ['Hindi', 'English', 'Bengali', 'Telugu']}]}}\n"
     ]
    }
   ],
   "source": [
    "import json\n",
    "\n",
    "json_var =\"\"\"\n",
    "{\n",
    "    \"Country\": {\n",
    "        \"name\": \"INDIA\",\n",
    "        \"Languages_spoken\": [\n",
    "            {\n",
    "                \"names\": [\"Hindi\", \"English\", \"Bengali\", \"Telugu\"]\n",
    "            }\n",
    "        ]\n",
    "    }\n",
    "}\n",
    "\"\"\"\n",
    "var = json.loads(json_var)\n",
    "\n",
    "print(var)"
   ]
  },
  {
   "cell_type": "markdown",
   "id": "82a6b0d5",
   "metadata": {},
   "source": [
    "### 7. What function takes a Python data structure and returns a string of JSON data?"
   ]
  },
  {
   "cell_type": "markdown",
   "id": "024b3e58",
   "metadata": {},
   "source": [
    "- json.dumps() function will takes a Python data structure and returns a string of JSON data."
   ]
  },
  {
   "cell_type": "code",
   "execution_count": 5,
   "id": "5b79532c",
   "metadata": {},
   "outputs": [
    {
     "name": "stdout",
     "output_type": "stream",
     "text": [
      "{\"name\": \"John\", \"age\": 31, \"Salary\": 25000}\n"
     ]
    }
   ],
   "source": [
    "import json\n",
    " \n",
    "a ={\"name\":\"John\",\n",
    "   \"age\":31,\n",
    "    \"Salary\":25000}\n",
    " \n",
    "b = json.dumps(a)\n",
    " \n",
    "print(b)"
   ]
  }
 ],
 "metadata": {
  "kernelspec": {
   "display_name": "Python 3",
   "language": "python",
   "name": "python3"
  },
  "language_info": {
   "codemirror_mode": {
    "name": "ipython",
    "version": 3
   },
   "file_extension": ".py",
   "mimetype": "text/x-python",
   "name": "python",
   "nbconvert_exporter": "python",
   "pygments_lexer": "ipython3",
   "version": "3.8.8"
  },
  "varInspector": {
   "cols": {
    "lenName": 16,
    "lenType": 16,
    "lenVar": 40
   },
   "kernels_config": {
    "python": {
     "delete_cmd_postfix": "",
     "delete_cmd_prefix": "del ",
     "library": "var_list.py",
     "varRefreshCmd": "print(var_dic_list())"
    },
    "r": {
     "delete_cmd_postfix": ") ",
     "delete_cmd_prefix": "rm(",
     "library": "var_list.r",
     "varRefreshCmd": "cat(var_dic_list()) "
    }
   },
   "types_to_exclude": [
    "module",
    "function",
    "builtin_function_or_method",
    "instance",
    "_Feature"
   ],
   "window_display": false
  }
 },
 "nbformat": 4,
 "nbformat_minor": 5
}
