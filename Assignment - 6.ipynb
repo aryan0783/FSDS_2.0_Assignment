{
 "cells": [
  {
   "cell_type": "markdown",
   "id": "73b1b0f9",
   "metadata": {},
   "source": [
    "### 1. What are escape characters, and how do you use them?"
   ]
  },
  {
   "cell_type": "markdown",
   "id": "40aa123e",
   "metadata": {},
   "source": [
    "#### Escape characters are as follows :\n",
    "\n",
    "- \\'  : single quote\n",
    "- \\  : backslash\n",
    "- \\n : new line escape character\n",
    "- \\r : Carriage return escape character\n",
    "- \\t : tab escape character\n",
    "- \\b : backslash escape character\n",
    "- \\000 : octal value escape character\n",
    "- \\xhh : hexa-decimal escape character\n",
    "\n",
    "#### How do we use them ?\n",
    "\n",
    "- we use them with the help of backlash which represents that is is a special character."
   ]
  },
  {
   "cell_type": "code",
   "execution_count": 2,
   "id": "e7e3ac41",
   "metadata": {},
   "outputs": [
    {
     "name": "stdout",
     "output_type": "stream",
     "text": [
      "this is katie's chocolate\n"
     ]
    }
   ],
   "source": [
    "# single quote eg :\n",
    "\n",
    "print(\"this is katie\\'s chocolate\")"
   ]
  },
  {
   "cell_type": "code",
   "execution_count": 5,
   "id": "9ed87dde",
   "metadata": {},
   "outputs": [
    {
     "name": "stdout",
     "output_type": "stream",
     "text": [
      "c:User\\navin\n"
     ]
    }
   ],
   "source": [
    "# backslash :\n",
    "\n",
    "print(\"c:User\\\\navin\")"
   ]
  },
  {
   "cell_type": "code",
   "execution_count": 6,
   "id": "220b7409",
   "metadata": {},
   "outputs": [
    {
     "name": "stdout",
     "output_type": "stream",
     "text": [
      "Name : Aryan\n",
      "Roll : 07\n"
     ]
    }
   ],
   "source": [
    "# \\n :\n",
    "\n",
    "print('Name : Aryan\\nRoll : 07')"
   ]
  },
  {
   "cell_type": "code",
   "execution_count": 10,
   "id": "86c53855",
   "metadata": {},
   "outputs": [
    {
     "name": "stdout",
     "output_type": "stream",
     "text": [
      "How\n",
      "are\n",
      "you\n"
     ]
    }
   ],
   "source": [
    "# \\r :\n",
    "\n",
    "for i in ['How', 'are', 'you']:\n",
    "    \n",
    "    if i == \" \":\n",
    "        print(end='\\r')\n",
    "        \n",
    "    else:\n",
    "        print(i)"
   ]
  },
  {
   "cell_type": "code",
   "execution_count": 13,
   "id": "a02f2e6e",
   "metadata": {},
   "outputs": [
    {
     "name": "stdout",
     "output_type": "stream",
     "text": [
      "This is     Aryan\n"
     ]
    }
   ],
   "source": [
    "# \\t :\n",
    "\n",
    "print('This is\\tAryan'.expandtabs(6))"
   ]
  },
  {
   "cell_type": "code",
   "execution_count": 14,
   "id": "f8870a2c",
   "metadata": {},
   "outputs": [
    {
     "name": "stdout",
     "output_type": "stream",
     "text": [
      "hello\b\n"
     ]
    }
   ],
   "source": [
    "# \\b :\n",
    "\n",
    "print('hello\\b')"
   ]
  },
  {
   "cell_type": "code",
   "execution_count": 15,
   "id": "515d31e2",
   "metadata": {},
   "outputs": [
    {
     "name": "stdout",
     "output_type": "stream",
     "text": [
      "w\n"
     ]
    }
   ],
   "source": [
    "# \\000 : octal value :\n",
    "\n",
    "print('\\167')"
   ]
  },
  {
   "cell_type": "code",
   "execution_count": 18,
   "id": "d8927bc1",
   "metadata": {},
   "outputs": [
    {
     "name": "stdout",
     "output_type": "stream",
     "text": [
      "J\n"
     ]
    }
   ],
   "source": [
    "# \\xhh : hexadecimal values :\n",
    "\n",
    "print('\\x4a')"
   ]
  },
  {
   "cell_type": "markdown",
   "id": "3e539559",
   "metadata": {},
   "source": [
    "### 2. What do the escape characters n and t stand for?"
   ]
  },
  {
   "cell_type": "markdown",
   "id": "d1d25e73",
   "metadata": {},
   "source": [
    "- \\n : n stands for new line\n",
    "- \\t : t stands for tab space"
   ]
  },
  {
   "cell_type": "code",
   "execution_count": 19,
   "id": "fe410ef5",
   "metadata": {},
   "outputs": [
    {
     "name": "stdout",
     "output_type": "stream",
     "text": [
      "how\n",
      "are\n",
      "you\n"
     ]
    }
   ],
   "source": [
    "# eg of \\n :\n",
    "\n",
    "print('how\\nare\\nyou')"
   ]
  },
  {
   "cell_type": "code",
   "execution_count": 21,
   "id": "49f43c9f",
   "metadata": {},
   "outputs": [
    {
     "name": "stdout",
     "output_type": "stream",
     "text": [
      "hey\tfriend!\n"
     ]
    }
   ],
   "source": [
    "# eg of \\t :\n",
    "\n",
    "print('hey\\tfriend!')"
   ]
  },
  {
   "cell_type": "markdown",
   "id": "f9de8db2",
   "metadata": {},
   "source": [
    "### 3. What is the way to include backslash characters in a string?"
   ]
  },
  {
   "cell_type": "markdown",
   "id": "8d57b14b",
   "metadata": {},
   "source": [
    "There are two such ways to include the backslash characters :\n",
    "\n",
    "- using of \\ \n",
    "- using r before the string quotes (\" \")"
   ]
  },
  {
   "cell_type": "code",
   "execution_count": 24,
   "id": "c4b9974f",
   "metadata": {},
   "outputs": [
    {
     "name": "stdout",
     "output_type": "stream",
     "text": [
      "hello \\n\n"
     ]
    }
   ],
   "source": [
    "# eg :\n",
    "\n",
    "print('hello \\\\n')"
   ]
  },
  {
   "cell_type": "code",
   "execution_count": 26,
   "id": "4804069f",
   "metadata": {},
   "outputs": [
    {
     "name": "stdout",
     "output_type": "stream",
     "text": [
      "Hello my \\t friend\n"
     ]
    }
   ],
   "source": [
    "# eg :\n",
    "\n",
    "print(r'Hello my \\t friend')"
   ]
  },
  {
   "cell_type": "markdown",
   "id": "0d0716c4",
   "metadata": {},
   "source": [
    "### 4. The string &quot;Howl&#39;s Moving Castle&quot; is a correct value. Why isn&#39;t the single quote character in the word Howl&#39;s not escaped a problem?"
   ]
  },
  {
   "cell_type": "markdown",
   "id": "0b92171c",
   "metadata": {},
   "source": [
    "This howl's single quote created combination with string double quotes \"  \" which is not at all a problem, we can make such combinations.\n",
    "<br>\n",
    "\n",
    "- \" ' ' \"\n",
    "- ' \" \" '"
   ]
  },
  {
   "cell_type": "code",
   "execution_count": 27,
   "id": "e3576dda",
   "metadata": {},
   "outputs": [
    {
     "name": "stdout",
     "output_type": "stream",
     "text": [
      "How's your brother?\n"
     ]
    }
   ],
   "source": [
    "# eg :\n",
    "\n",
    "print(\"How's your brother?\")"
   ]
  },
  {
   "cell_type": "code",
   "execution_count": 28,
   "id": "789eedc5",
   "metadata": {},
   "outputs": [
    {
     "name": "stdout",
     "output_type": "stream",
     "text": [
      "Quotes : \"Don't cry because it's over, smile because it happened\"\n"
     ]
    }
   ],
   "source": [
    "# eg :\n",
    "\n",
    "print('Quotes : \"Don\\'t cry because it\\'s over, smile because it happened\"')"
   ]
  },
  {
   "cell_type": "markdown",
   "id": "2a56cf62",
   "metadata": {},
   "source": [
    "### 5. How do you write a string of newlines if you don&#39;t want to use the n character?"
   ]
  },
  {
   "cell_type": "code",
   "execution_count": 30,
   "id": "2e09f10c",
   "metadata": {},
   "outputs": [
    {
     "name": "stdout",
     "output_type": "stream",
     "text": [
      "Hello!\n",
      "friend\n"
     ]
    }
   ],
   "source": [
    "# this can be solved by using seperate print :\n",
    "\n",
    "print(\"Hello!\")\n",
    "print(\"friend\")"
   ]
  },
  {
   "cell_type": "code",
   "execution_count": 31,
   "id": "26353cb1",
   "metadata": {},
   "outputs": [
    {
     "name": "stdout",
     "output_type": "stream",
     "text": [
      "How\n",
      "are\n",
      "you?\n"
     ]
    }
   ],
   "source": [
    "# it will be tedious in some cases :\n",
    "\n",
    "for i in ['How','are','you?']:\n",
    "    print(i)"
   ]
  },
  {
   "cell_type": "markdown",
   "id": "733d453b",
   "metadata": {},
   "source": [
    "### 6. What are the values of the given expressions?\n",
    "\n",
    "```\n",
    "'Hello, world!'[1] \n",
    "'Hello, world!'[0:5] \n",
    "'Hello, world!'[:5] \n",
    "'Hello, world!'[3:]\n",
    "```"
   ]
  },
  {
   "cell_type": "code",
   "execution_count": 32,
   "id": "8941bac9",
   "metadata": {},
   "outputs": [
    {
     "name": "stdout",
     "output_type": "stream",
     "text": [
      "e\n"
     ]
    }
   ],
   "source": [
    "# indexing\n",
    "\n",
    "print('Hello, world!'[1] )"
   ]
  },
  {
   "cell_type": "code",
   "execution_count": 33,
   "id": "5413fdd9",
   "metadata": {},
   "outputs": [
    {
     "name": "stdout",
     "output_type": "stream",
     "text": [
      "Hello\n"
     ]
    }
   ],
   "source": [
    "# slicing\n",
    "\n",
    "print('Hello, world!'[0:5])"
   ]
  },
  {
   "cell_type": "code",
   "execution_count": 34,
   "id": "cc3780c9",
   "metadata": {},
   "outputs": [
    {
     "name": "stdout",
     "output_type": "stream",
     "text": [
      "Hello\n"
     ]
    }
   ],
   "source": [
    "# slicing\n",
    "# start = 0 and stop = 5\n",
    "\n",
    "print('Hello, world!'[:5])"
   ]
  },
  {
   "cell_type": "code",
   "execution_count": 35,
   "id": "f6ff58f8",
   "metadata": {},
   "outputs": [
    {
     "name": "stdout",
     "output_type": "stream",
     "text": [
      "lo, world!\n"
     ]
    }
   ],
   "source": [
    "# slicing\n",
    "# start = 3 and stop = len(string)\n",
    "\n",
    "print('Hello, world!'[3:])"
   ]
  },
  {
   "cell_type": "markdown",
   "id": "13beadbb",
   "metadata": {},
   "source": [
    "### 7. What are the values of the following expressions?\n",
    "\n",
    "```\n",
    "'Hello'.upper() \n",
    "'Hello'.upper().isupper() \n",
    "'Hello'.upper().lower()\n",
    "```"
   ]
  },
  {
   "cell_type": "code",
   "execution_count": 36,
   "id": "d81aed7f",
   "metadata": {},
   "outputs": [
    {
     "name": "stdout",
     "output_type": "stream",
     "text": [
      "HELLO\n"
     ]
    }
   ],
   "source": [
    "print('Hello'.upper())"
   ]
  },
  {
   "cell_type": "code",
   "execution_count": 37,
   "id": "48978c3f",
   "metadata": {},
   "outputs": [
    {
     "name": "stdout",
     "output_type": "stream",
     "text": [
      "True\n"
     ]
    }
   ],
   "source": [
    "print('Hello'.upper().isupper())"
   ]
  },
  {
   "cell_type": "code",
   "execution_count": 38,
   "id": "7554469a",
   "metadata": {},
   "outputs": [
    {
     "name": "stdout",
     "output_type": "stream",
     "text": [
      "hello\n"
     ]
    }
   ],
   "source": [
    "print('Hello'.upper().lower())"
   ]
  },
  {
   "cell_type": "markdown",
   "id": "bc9c66d4",
   "metadata": {},
   "source": [
    "### 8. What are the values of the following expressions?\n",
    "```\n",
    "'Remember, remember, the fifth of July.'.split() '-'.join('There can only one.'.split())\n",
    "```"
   ]
  },
  {
   "cell_type": "code",
   "execution_count": 40,
   "id": "9d77a592",
   "metadata": {},
   "outputs": [
    {
     "data": {
      "text/plain": [
       "'There-can-only-one.'"
      ]
     },
     "execution_count": 40,
     "metadata": {},
     "output_type": "execute_result"
    }
   ],
   "source": [
    "'Remember, remember, the fifth of July.'.split()\n",
    "'-'.join('There can only one.'.split())"
   ]
  },
  {
   "cell_type": "markdown",
   "id": "de6a9522",
   "metadata": {},
   "source": [
    "### 9. What are the methods for right-justifying, left-justifying, and centering a string?"
   ]
  },
  {
   "cell_type": "code",
   "execution_count": 45,
   "id": "847c183c",
   "metadata": {},
   "outputs": [
    {
     "data": {
      "text/plain": [
       "'               Hello'"
      ]
     },
     "execution_count": 45,
     "metadata": {},
     "output_type": "execute_result"
    }
   ],
   "source": [
    "# for right justifying :\n",
    "\n",
    "'Hello'.rjust(20,' ')"
   ]
  },
  {
   "cell_type": "code",
   "execution_count": 46,
   "id": "ec1f97b0",
   "metadata": {},
   "outputs": [
    {
     "data": {
      "text/plain": [
       "'Hello               '"
      ]
     },
     "execution_count": 46,
     "metadata": {},
     "output_type": "execute_result"
    }
   ],
   "source": [
    "# for left justifying :\n",
    "\n",
    "'Hello'.ljust(20,' ')"
   ]
  },
  {
   "cell_type": "code",
   "execution_count": 47,
   "id": "39e21ee9",
   "metadata": {},
   "outputs": [
    {
     "data": {
      "text/plain": [
       "'------------Hello-------------'"
      ]
     },
     "execution_count": 47,
     "metadata": {},
     "output_type": "execute_result"
    }
   ],
   "source": [
    "# for centering :\n",
    "\n",
    "'Hello'.center(30,'-')"
   ]
  },
  {
   "cell_type": "markdown",
   "id": "ffd9c2b1",
   "metadata": {},
   "source": [
    "### 10. What is the best way to remove whitespace characters from the start or end?"
   ]
  },
  {
   "cell_type": "markdown",
   "id": "113ad37e",
   "metadata": {},
   "source": [
    "- by using strip() : strip() , lstrip() or rstrip()"
   ]
  },
  {
   "cell_type": "code",
   "execution_count": 50,
   "id": "e44e9bb8",
   "metadata": {},
   "outputs": [
    {
     "data": {
      "text/plain": [
       "'Hello'"
      ]
     },
     "execution_count": 50,
     "metadata": {},
     "output_type": "execute_result"
    }
   ],
   "source": [
    "'     Hello         '.strip()"
   ]
  },
  {
   "cell_type": "code",
   "execution_count": 49,
   "id": "f230959a",
   "metadata": {},
   "outputs": [
    {
     "data": {
      "text/plain": [
       "'Hello'"
      ]
     },
     "execution_count": 49,
     "metadata": {},
     "output_type": "execute_result"
    }
   ],
   "source": [
    "'       Hello'.lstrip()"
   ]
  },
  {
   "cell_type": "code",
   "execution_count": 48,
   "id": "ef8ad049",
   "metadata": {},
   "outputs": [
    {
     "data": {
      "text/plain": [
       "'Hello'"
      ]
     },
     "execution_count": 48,
     "metadata": {},
     "output_type": "execute_result"
    }
   ],
   "source": [
    "'Hello   '.rstrip()"
   ]
  }
 ],
 "metadata": {
  "kernelspec": {
   "display_name": "Python 3",
   "language": "python",
   "name": "python3"
  },
  "language_info": {
   "codemirror_mode": {
    "name": "ipython",
    "version": 3
   },
   "file_extension": ".py",
   "mimetype": "text/x-python",
   "name": "python",
   "nbconvert_exporter": "python",
   "pygments_lexer": "ipython3",
   "version": "3.8.8"
  },
  "varInspector": {
   "cols": {
    "lenName": 16,
    "lenType": 16,
    "lenVar": 40
   },
   "kernels_config": {
    "python": {
     "delete_cmd_postfix": "",
     "delete_cmd_prefix": "del ",
     "library": "var_list.py",
     "varRefreshCmd": "print(var_dic_list())"
    },
    "r": {
     "delete_cmd_postfix": ") ",
     "delete_cmd_prefix": "rm(",
     "library": "var_list.r",
     "varRefreshCmd": "cat(var_dic_list()) "
    }
   },
   "types_to_exclude": [
    "module",
    "function",
    "builtin_function_or_method",
    "instance",
    "_Feature"
   ],
   "window_display": false
  }
 },
 "nbformat": 4,
 "nbformat_minor": 5
}
