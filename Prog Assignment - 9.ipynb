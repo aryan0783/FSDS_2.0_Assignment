{
 "cells": [
  {
   "cell_type": "markdown",
   "id": "15e8b629",
   "metadata": {},
   "source": [
    "### 1. Write a Python program to check if the given number is a Disarium Number?"
   ]
  },
  {
   "cell_type": "code",
   "execution_count": 3,
   "id": "b1acae83",
   "metadata": {},
   "outputs": [],
   "source": [
    "def find_disarium(num):\n",
    "    \n",
    "    if type(num) == int or type(num) == float:\n",
    "    \n",
    "        sum = 0\n",
    "\n",
    "        for i in range(len(str(num))):\n",
    "\n",
    "            sum += int(str(num)[i]) ** i+1\n",
    "\n",
    "        if sum == num:\n",
    "\n",
    "            return f'{num} is Disarium Number!'\n",
    "\n",
    "        else: \n",
    "\n",
    "            return f'{num} is Disarium Number!'\n",
    "        \n",
    "    else:\n",
    "        \n",
    "        return \"Please give the integer data type data!\""
   ]
  },
  {
   "cell_type": "code",
   "execution_count": 4,
   "id": "09374988",
   "metadata": {},
   "outputs": [
    {
     "data": {
      "text/plain": [
       "'175 is Disarium Number!'"
      ]
     },
     "execution_count": 4,
     "metadata": {},
     "output_type": "execute_result"
    }
   ],
   "source": [
    "find_disarium(175)"
   ]
  },
  {
   "cell_type": "markdown",
   "id": "ad01936b",
   "metadata": {},
   "source": [
    "### 2. Write a Python program to print all disarium numbers between 1 to 100?"
   ]
  },
  {
   "cell_type": "code",
   "execution_count": 27,
   "id": "c2dd9ff0",
   "metadata": {},
   "outputs": [],
   "source": [
    "def find_disarium(n,m):\n",
    "    \n",
    "    if (type(n) == int and type(m) == int) or (type(n) == float and type(m) == float):\n",
    "        \n",
    "        for i in range(n,m+1):\n",
    "    \n",
    "            sum = 0\n",
    "\n",
    "            for j in range(len(str(i))):\n",
    "\n",
    "                sum += (int(str(i)[j]) ** (j+1))\n",
    "\n",
    "            if sum == i:\n",
    "\n",
    "                yield f'{i} is Disarium Number!'\n",
    "        \n",
    "    else:\n",
    "        \n",
    "        return \"Please give the integer data type data!\""
   ]
  },
  {
   "cell_type": "code",
   "execution_count": 29,
   "id": "66b47885",
   "metadata": {},
   "outputs": [
    {
     "name": "stdout",
     "output_type": "stream",
     "text": [
      "1 is Disarium Number!\n",
      "2 is Disarium Number!\n",
      "3 is Disarium Number!\n",
      "4 is Disarium Number!\n",
      "5 is Disarium Number!\n",
      "6 is Disarium Number!\n",
      "7 is Disarium Number!\n",
      "8 is Disarium Number!\n",
      "9 is Disarium Number!\n",
      "89 is Disarium Number!\n"
     ]
    }
   ],
   "source": [
    "for i in find_disarium(1,100):\n",
    "    \n",
    "    print(i)"
   ]
  },
  {
   "cell_type": "markdown",
   "id": "fbb1dcb7",
   "metadata": {},
   "source": [
    "### 3. Write a Python program to check if the given number is Happy Number?"
   ]
  },
  {
   "cell_type": "code",
   "execution_count": 74,
   "id": "e87d9b4f",
   "metadata": {},
   "outputs": [],
   "source": [
    "# Solving the problem using recursion approach :\n",
    "\n",
    "def happy_number(num,digits):\n",
    "    \n",
    "    if type(num) == int or type(num) == float:\n",
    "        \n",
    "        if len(str(num)) < 2:\n",
    "            \n",
    "            if num == 1 :\n",
    "                \n",
    "                print(\"It is happy number!\")\n",
    "                return\n",
    "            \n",
    "            else:\n",
    "                \n",
    "                print(\"It is not a happy number!\")\n",
    "                return\n",
    "        \n",
    "        else :\n",
    "            \n",
    "            prod = 0\n",
    "            \n",
    "            for i in str(num):\n",
    "                \n",
    "                prod += int(i) ** digits\n",
    "                \n",
    "        happy_number(prod,digits)"
   ]
  },
  {
   "cell_type": "code",
   "execution_count": 75,
   "id": "cf2db970",
   "metadata": {},
   "outputs": [
    {
     "name": "stdout",
     "output_type": "stream",
     "text": [
      "It is happy number!\n"
     ]
    }
   ],
   "source": [
    "happy_number(49,2)"
   ]
  },
  {
   "cell_type": "code",
   "execution_count": 90,
   "id": "87c14c19",
   "metadata": {},
   "outputs": [
    {
     "name": "stdout",
     "output_type": "stream",
     "text": [
      "Enter a number : 49\n",
      "It is happy number!\n"
     ]
    }
   ],
   "source": [
    "# another approach to solve the happy number problem :\n",
    "\n",
    "n = int(input(\"Enter a number : \"))\n",
    "\n",
    "digits = len(str(n))\n",
    "\n",
    "while len(str(n)) >= 2:\n",
    "    \n",
    "    prod = 0\n",
    "    \n",
    "    for i in str(n):\n",
    "                \n",
    "        prod += int(i) ** digits\n",
    "        \n",
    "    n = prod\n",
    "    \n",
    "if n == 1:\n",
    "    \n",
    "    print('It is happy number!')\n",
    "    \n",
    "else:\n",
    "    \n",
    "    print('It is not a happy number!')"
   ]
  },
  {
   "cell_type": "markdown",
   "id": "0f9f91fb",
   "metadata": {},
   "source": [
    "### 4. Write a Python program to print all happy numbers between 1 and 100?"
   ]
  },
  {
   "cell_type": "code",
   "execution_count": 92,
   "id": "2a7bef10",
   "metadata": {},
   "outputs": [],
   "source": [
    "def happy_nums(n,m):\n",
    "\n",
    "    for i in range(n,m+1):\n",
    "\n",
    "        value = i\n",
    "\n",
    "        digits = len(str(i))\n",
    "\n",
    "        while len(str(i)) >= 2:\n",
    "\n",
    "            prod = 0\n",
    "\n",
    "            for k in str(i):\n",
    "\n",
    "                prod += int(k) ** digits\n",
    "\n",
    "            i = prod\n",
    "\n",
    "        if i == 1:\n",
    "\n",
    "            yield value"
   ]
  },
  {
   "cell_type": "code",
   "execution_count": 93,
   "id": "d691d356",
   "metadata": {},
   "outputs": [
    {
     "name": "stdout",
     "output_type": "stream",
     "text": [
      "1\n",
      "10\n",
      "13\n",
      "19\n",
      "23\n",
      "28\n",
      "31\n",
      "32\n",
      "44\n",
      "49\n",
      "68\n",
      "70\n",
      "79\n",
      "82\n",
      "86\n",
      "91\n",
      "94\n",
      "97\n",
      "100\n"
     ]
    }
   ],
   "source": [
    "for i in happy_nums(1,100):\n",
    "    \n",
    "    print(i)"
   ]
  },
  {
   "cell_type": "markdown",
   "id": "f21dc78e",
   "metadata": {},
   "source": [
    "### 5. Write a Python program to determine whether the given number is a Harshad Number?"
   ]
  },
  {
   "cell_type": "code",
   "execution_count": 30,
   "id": "e64fa50b",
   "metadata": {},
   "outputs": [],
   "source": [
    "def harshad_number(num):\n",
    "    \n",
    "    if type(num) == int or type(num) == float:\n",
    "        \n",
    "        digits_sum = 0\n",
    "        \n",
    "        for i in str(num):\n",
    "            \n",
    "            digits_sum += int(i)\n",
    "            \n",
    "        if num%digits_sum == 0:\n",
    "            \n",
    "            return f\"{num} is Harshad number!\"\n",
    "        \n",
    "        return f\"{num} is not a Harshad number!\"\n",
    "    \n",
    "    else:\n",
    "        \n",
    "        return \"Please give integer data type data!\""
   ]
  },
  {
   "cell_type": "code",
   "execution_count": 31,
   "id": "4d6a2145",
   "metadata": {},
   "outputs": [
    {
     "data": {
      "text/plain": [
       "'21 is Harshad number!'"
      ]
     },
     "execution_count": 31,
     "metadata": {},
     "output_type": "execute_result"
    }
   ],
   "source": [
    "harshad_number(21)"
   ]
  },
  {
   "cell_type": "markdown",
   "id": "9fdbd4c7",
   "metadata": {},
   "source": [
    "### 6. Write a Python program to print all pronic numbers between 1 and 100?"
   ]
  },
  {
   "cell_type": "code",
   "execution_count": 35,
   "id": "b8e8d479",
   "metadata": {},
   "outputs": [],
   "source": [
    "def pronic_number(n,m):\n",
    "    \n",
    "     if (type(n) == int and type(m) == int) or (type(n) == float and type(m) == float):\n",
    "        \n",
    "        for i in range(n,m+1):\n",
    "            \n",
    "            for j in range(i):\n",
    "                \n",
    "                if j * (j+1) == i:\n",
    "                \n",
    "                    yield i\n",
    "    \n",
    "     else:\n",
    "        \n",
    "        return \"Please give integer data type data!\""
   ]
  },
  {
   "cell_type": "code",
   "execution_count": 36,
   "id": "417cddff",
   "metadata": {},
   "outputs": [
    {
     "name": "stdout",
     "output_type": "stream",
     "text": [
      "2\n",
      "6\n",
      "12\n",
      "20\n",
      "30\n",
      "42\n",
      "56\n",
      "72\n",
      "90\n"
     ]
    }
   ],
   "source": [
    "for i in pronic_number(1,100):\n",
    "    \n",
    "    print(i)"
   ]
  }
 ],
 "metadata": {
  "kernelspec": {
   "display_name": "Python 3",
   "language": "python",
   "name": "python3"
  },
  "language_info": {
   "codemirror_mode": {
    "name": "ipython",
    "version": 3
   },
   "file_extension": ".py",
   "mimetype": "text/x-python",
   "name": "python",
   "nbconvert_exporter": "python",
   "pygments_lexer": "ipython3",
   "version": "3.8.8"
  },
  "varInspector": {
   "cols": {
    "lenName": 16,
    "lenType": 16,
    "lenVar": 40
   },
   "kernels_config": {
    "python": {
     "delete_cmd_postfix": "",
     "delete_cmd_prefix": "del ",
     "library": "var_list.py",
     "varRefreshCmd": "print(var_dic_list())"
    },
    "r": {
     "delete_cmd_postfix": ") ",
     "delete_cmd_prefix": "rm(",
     "library": "var_list.r",
     "varRefreshCmd": "cat(var_dic_list()) "
    }
   },
   "types_to_exclude": [
    "module",
    "function",
    "builtin_function_or_method",
    "instance",
    "_Feature"
   ],
   "window_display": false
  }
 },
 "nbformat": 4,
 "nbformat_minor": 5
}
