{
 "cells": [
  {
   "cell_type": "markdown",
   "id": "a578e3fc",
   "metadata": {},
   "source": [
    "### Question1. Write a function that stutters a word as if someone is struggling to read it. The first two letters are repeated twice with an ellipsis ... and space after each, and then the word is pronounced with a question mark ?.\n",
    "\n",
    "\n",
    "Examples\n",
    "stutter(&quot;incredible&quot;) ➞ &quot;in... in... incredible?&quot;\n",
    "<br>\n",
    "stutter(&quot;enthusiastic&quot;) ➞ &quot;en... en... enthusiastic?&quot;\n",
    "<br>\n",
    "stutter(&quot;outstanding&quot;) ➞ &quot;ou... ou... outstanding?&quot;\n",
    "\n",
    "Hint :- Assume all input is in lower case and at least two characters long."
   ]
  },
  {
   "cell_type": "code",
   "execution_count": 4,
   "id": "1e14c158",
   "metadata": {},
   "outputs": [],
   "source": [
    "def stammering(string):\n",
    "    \n",
    "    if type(string) == str:\n",
    "        \n",
    "        if len(string) >= 2:\n",
    "            \n",
    "            return ((string[:2] + '...' + ' ') * 2) + string + '?'\n",
    "        \n",
    "        else:\n",
    "            \n",
    "            return 'Length of the string should be at least 2!'\n",
    "        \n",
    "    else:\n",
    "        \n",
    "        return 'Please give string data type data!'"
   ]
  },
  {
   "cell_type": "code",
   "execution_count": 5,
   "id": "e2664983",
   "metadata": {},
   "outputs": [
    {
     "data": {
      "text/plain": [
       "'in... in... incredible?'"
      ]
     },
     "execution_count": 5,
     "metadata": {},
     "output_type": "execute_result"
    }
   ],
   "source": [
    "stammering('incredible')"
   ]
  },
  {
   "cell_type": "code",
   "execution_count": 7,
   "id": "25cd5f49",
   "metadata": {},
   "outputs": [
    {
     "data": {
      "text/plain": [
       "'ou... ou... outstanding?'"
      ]
     },
     "execution_count": 7,
     "metadata": {},
     "output_type": "execute_result"
    }
   ],
   "source": [
    "stammering('outstanding')"
   ]
  },
  {
   "cell_type": "markdown",
   "id": "6612720b",
   "metadata": {},
   "source": [
    "### Question 2.Create a function that takes an angle in radians and returns the corresponding angle in degrees rounded to one decimal place.\n",
    "```\n",
    "Examples\n",
    "radians_to_degrees(1) ➞ 57.3\n",
    "radians_to_degrees(20) ➞ 1145.9\n",
    "radians_to_degrees(50) ➞ 2864.8\n",
    "```"
   ]
  },
  {
   "cell_type": "code",
   "execution_count": 34,
   "id": "13559c7f",
   "metadata": {},
   "outputs": [],
   "source": [
    "def radians_to_degrees(n):\n",
    "    \n",
    "    if type(n) == int or type(n) == float:\n",
    "        \n",
    "        return round(n * 180 * (7/22),1)\n",
    "    \n",
    "    else:\n",
    "        \n",
    "        return 'Please give appropriate data type value!'"
   ]
  },
  {
   "cell_type": "code",
   "execution_count": 35,
   "id": "9cf142ac",
   "metadata": {},
   "outputs": [
    {
     "data": {
      "text/plain": [
       "57.3"
      ]
     },
     "execution_count": 35,
     "metadata": {},
     "output_type": "execute_result"
    }
   ],
   "source": [
    "radians_to_degrees(1)"
   ]
  },
  {
   "cell_type": "code",
   "execution_count": 36,
   "id": "b918b15d",
   "metadata": {},
   "outputs": [
    {
     "data": {
      "text/plain": [
       "1145.5"
      ]
     },
     "execution_count": 36,
     "metadata": {},
     "output_type": "execute_result"
    }
   ],
   "source": [
    "radians_to_degrees(20)"
   ]
  },
  {
   "cell_type": "code",
   "execution_count": 37,
   "id": "09db0608",
   "metadata": {},
   "outputs": [
    {
     "data": {
      "text/plain": [
       "2863.6"
      ]
     },
     "execution_count": 37,
     "metadata": {},
     "output_type": "execute_result"
    }
   ],
   "source": [
    "radians_to_degrees(50)"
   ]
  },
  {
   "cell_type": "markdown",
   "id": "98f60520",
   "metadata": {},
   "source": [
    "### Question 3. In this challenge, establish if a given integer num is a Curzon number. If 1 plus 2 elevated to num is exactly divisible by 1 plus 2 multiplied by num, then num is a Curzon number.\n",
    "\n",
    "```\n",
    "Given a non-negative integer num, implement a function that returns True if num is a Curzon\n",
    "number, or False otherwise.\n",
    "\n",
    "Examples\n",
    "\n",
    "is_curzon(5) ➞ True\n",
    "# 2 ** 5 + 1 = 33\n",
    "# 2 * 5 + 1 = 11\n",
    "# 33 is a multiple of 11\n",
    "\n",
    "is_curzon(10) ➞ False\n",
    "# 2 ** 10 + 1 = 1025\n",
    "# 2 * 10 + 1 = 21\n",
    "# 1025 is not a multiple of 21\n",
    "\n",
    "is_curzon(14) ➞ True\n",
    "# 2 ** 14 + 1 = 16385\n",
    "# 2 * 14 + 1 = 29\n",
    "# 16385 is a multiple of 29\n",
    "```"
   ]
  },
  {
   "cell_type": "code",
   "execution_count": 38,
   "id": "88e9931b",
   "metadata": {},
   "outputs": [],
   "source": [
    "def is_curzon(n):\n",
    "    \n",
    "    if type(n) == int or type(n) == float:\n",
    "        \n",
    "        if ((2 ** n) + 1) % ((2 * n) + 1) == 0:\n",
    "            \n",
    "            return True\n",
    "        \n",
    "        else:\n",
    "            \n",
    "            return False\n",
    "        \n",
    "    else:\n",
    "        \n",
    "        return \"Please enter the appropriate data type values!\""
   ]
  },
  {
   "cell_type": "code",
   "execution_count": 39,
   "id": "6861bbce",
   "metadata": {},
   "outputs": [
    {
     "data": {
      "text/plain": [
       "True"
      ]
     },
     "execution_count": 39,
     "metadata": {},
     "output_type": "execute_result"
    }
   ],
   "source": [
    "is_curzon(5)"
   ]
  },
  {
   "cell_type": "code",
   "execution_count": 40,
   "id": "7ddd7584",
   "metadata": {},
   "outputs": [
    {
     "data": {
      "text/plain": [
       "False"
      ]
     },
     "execution_count": 40,
     "metadata": {},
     "output_type": "execute_result"
    }
   ],
   "source": [
    "is_curzon(10)"
   ]
  },
  {
   "cell_type": "code",
   "execution_count": 41,
   "id": "69890ee6",
   "metadata": {},
   "outputs": [
    {
     "data": {
      "text/plain": [
       "True"
      ]
     },
     "execution_count": 41,
     "metadata": {},
     "output_type": "execute_result"
    }
   ],
   "source": [
    "is_curzon(14)"
   ]
  },
  {
   "cell_type": "markdown",
   "id": "e716fef4",
   "metadata": {},
   "source": [
    "### Question 4.Given the side length x find the area of a hexagon."
   ]
  },
  {
   "cell_type": "code",
   "execution_count": 44,
   "id": "5729329f",
   "metadata": {},
   "outputs": [],
   "source": [
    "import math\n",
    "\n",
    "def hexagon_area(s):\n",
    "    \n",
    "    if type(s) == int or type(s) == float:\n",
    "        \n",
    "        area = ((3 * math.sqrt(3) * (s ** 2))/2)\n",
    "        \n",
    "        return round(area,1)\n",
    "    \n",
    "    else:\n",
    "        \n",
    "        return \"Please enter the appropriate data type values!\""
   ]
  },
  {
   "cell_type": "code",
   "execution_count": 45,
   "id": "4d2f088a",
   "metadata": {},
   "outputs": [
    {
     "data": {
      "text/plain": [
       "2.6"
      ]
     },
     "execution_count": 45,
     "metadata": {},
     "output_type": "execute_result"
    }
   ],
   "source": [
    "hexagon_area(1)"
   ]
  },
  {
   "cell_type": "code",
   "execution_count": 46,
   "id": "7665d267",
   "metadata": {},
   "outputs": [
    {
     "data": {
      "text/plain": [
       "10.4"
      ]
     },
     "execution_count": 46,
     "metadata": {},
     "output_type": "execute_result"
    }
   ],
   "source": [
    "hexagon_area(2)"
   ]
  },
  {
   "cell_type": "code",
   "execution_count": 47,
   "id": "86a0611b",
   "metadata": {},
   "outputs": [
    {
     "data": {
      "text/plain": [
       "23.4"
      ]
     },
     "execution_count": 47,
     "metadata": {},
     "output_type": "execute_result"
    }
   ],
   "source": [
    "hexagon_area(3)"
   ]
  },
  {
   "cell_type": "markdown",
   "id": "b3c25af2",
   "metadata": {},
   "source": [
    "### Question 5. Create a function that returns a base-2 (binary) representation of a base-10 (decimal) string number. To convert is simple: ((2) means base-2 and (10) means base-10) 010101001(2) = 1 + 8 + 32 + 128.\n",
    "\n",
    "```\n",
    "Going from right to left, the value of the most right bit is 1, now from that every bit to the left will be x2 the value, value of an 8 bit binary numbers are (256, 128, 64, 32, 16, 8, 4, 2, 1).\n",
    "\n",
    "Examples :\n",
    "\n",
    "binary(1) ➞ \"1\";\n",
    "# 1*1 = 1\n",
    "\n",
    "binary(5) ➞ \"101\";\n",
    "# 1*1 + 1*4 = 5\n",
    "\n",
    "binary(10) ➞ \"1010\";\n",
    "# 1*2 + 1*8 = 10\n",
    "```"
   ]
  },
  {
   "cell_type": "code",
   "execution_count": 70,
   "id": "0b3445e0",
   "metadata": {},
   "outputs": [],
   "source": [
    "# function to convert binary to decimal :\n",
    "\n",
    "def decimal(n):\n",
    "    \n",
    "    value = 0\n",
    "    \n",
    "    for i in range(len(n)-1,-1,-1):\n",
    "        \n",
    "        value += (2 ** (len(n)-1 - i)) * int(n[i])\n",
    "        \n",
    "    return value"
   ]
  },
  {
   "cell_type": "code",
   "execution_count": 71,
   "id": "10610548",
   "metadata": {},
   "outputs": [
    {
     "data": {
      "text/plain": [
       "5"
      ]
     },
     "execution_count": 71,
     "metadata": {},
     "output_type": "execute_result"
    }
   ],
   "source": [
    "decimal('101')"
   ]
  },
  {
   "cell_type": "code",
   "execution_count": 72,
   "id": "f1fb6bc3",
   "metadata": {},
   "outputs": [
    {
     "data": {
      "text/plain": [
       "10"
      ]
     },
     "execution_count": 72,
     "metadata": {},
     "output_type": "execute_result"
    }
   ],
   "source": [
    "decimal('01010')"
   ]
  },
  {
   "cell_type": "code",
   "execution_count": 84,
   "id": "a8b14419",
   "metadata": {},
   "outputs": [],
   "source": [
    "# function to convert decimal to binary :\n",
    "\n",
    "def binary(n):\n",
    "    \n",
    "    if type(n) == int:\n",
    "        \n",
    "        b = ''\n",
    "        \n",
    "        while n>=1:\n",
    "            \n",
    "            b += str(n%2)\n",
    "            n = n//2\n",
    "            \n",
    "        return b[::-1]\n",
    "    \n",
    "    else:\n",
    "        \n",
    "        return \"Please give decimal value!\""
   ]
  },
  {
   "cell_type": "code",
   "execution_count": 85,
   "id": "1d7088ec",
   "metadata": {},
   "outputs": [
    {
     "data": {
      "text/plain": [
       "'101'"
      ]
     },
     "execution_count": 85,
     "metadata": {},
     "output_type": "execute_result"
    }
   ],
   "source": [
    "binary(5)"
   ]
  },
  {
   "cell_type": "code",
   "execution_count": 86,
   "id": "041e4715",
   "metadata": {},
   "outputs": [
    {
     "data": {
      "text/plain": [
       "'1010'"
      ]
     },
     "execution_count": 86,
     "metadata": {},
     "output_type": "execute_result"
    }
   ],
   "source": [
    "binary(10)"
   ]
  },
  {
   "cell_type": "code",
   "execution_count": 87,
   "id": "b401b2c7",
   "metadata": {},
   "outputs": [
    {
     "data": {
      "text/plain": [
       "'10100'"
      ]
     },
     "execution_count": 87,
     "metadata": {},
     "output_type": "execute_result"
    }
   ],
   "source": [
    "binary(20)"
   ]
  }
 ],
 "metadata": {
  "kernelspec": {
   "display_name": "Python 3",
   "language": "python",
   "name": "python3"
  },
  "language_info": {
   "codemirror_mode": {
    "name": "ipython",
    "version": 3
   },
   "file_extension": ".py",
   "mimetype": "text/x-python",
   "name": "python",
   "nbconvert_exporter": "python",
   "pygments_lexer": "ipython3",
   "version": "3.8.8"
  },
  "varInspector": {
   "cols": {
    "lenName": 16,
    "lenType": 16,
    "lenVar": 40
   },
   "kernels_config": {
    "python": {
     "delete_cmd_postfix": "",
     "delete_cmd_prefix": "del ",
     "library": "var_list.py",
     "varRefreshCmd": "print(var_dic_list())"
    },
    "r": {
     "delete_cmd_postfix": ") ",
     "delete_cmd_prefix": "rm(",
     "library": "var_list.r",
     "varRefreshCmd": "cat(var_dic_list()) "
    }
   },
   "types_to_exclude": [
    "module",
    "function",
    "builtin_function_or_method",
    "instance",
    "_Feature"
   ],
   "window_display": false
  }
 },
 "nbformat": 4,
 "nbformat_minor": 5
}
