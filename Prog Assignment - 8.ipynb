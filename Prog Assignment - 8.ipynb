{
 "cells": [
  {
   "cell_type": "markdown",
   "id": "7b599c95",
   "metadata": {},
   "source": [
    "### 1. Write a Python Program to Add Two Matrices?"
   ]
  },
  {
   "cell_type": "code",
   "execution_count": 2,
   "id": "2b25ebad",
   "metadata": {},
   "outputs": [
    {
     "name": "stdout",
     "output_type": "stream",
     "text": [
      "[[79 56  6]\n",
      " [69 48 11]]\n"
     ]
    }
   ],
   "source": [
    "import numpy as np\n",
    "\n",
    "mat1 = np.array([[1,2,3],[2,3,4]])  # shape 2,3\n",
    "mat2 = np.array([[78,54,3],[67,45,7]])\n",
    "\n",
    "print(mat1 + mat2)"
   ]
  },
  {
   "cell_type": "markdown",
   "id": "3a6eb039",
   "metadata": {},
   "source": [
    "### 2. Write a Python Program to Multiply Two Matrices?"
   ]
  },
  {
   "cell_type": "code",
   "execution_count": 6,
   "id": "8c12856c",
   "metadata": {},
   "outputs": [
    {
     "name": "stdout",
     "output_type": "stream",
     "text": [
      "[[281 147  29]\n",
      " [449 247  43]]\n"
     ]
    }
   ],
   "source": [
    "import numpy as np\n",
    "\n",
    "mat1 = np.array([[1,2,3],[2,3,4]])  # shape 2,3\n",
    "mat2 = np.array([[78,54,3],[67,45,7],[23,1,4]])\n",
    "\n",
    "print(mat1@mat2)"
   ]
  },
  {
   "cell_type": "markdown",
   "id": "64f714b0",
   "metadata": {},
   "source": [
    "### 3. Write a Python Program to Transpose a Matrix?"
   ]
  },
  {
   "cell_type": "code",
   "execution_count": 7,
   "id": "7dee1aaf",
   "metadata": {},
   "outputs": [
    {
     "data": {
      "text/plain": [
       "array([[1, 2],\n",
       "       [2, 3],\n",
       "       [3, 4]])"
      ]
     },
     "execution_count": 7,
     "metadata": {},
     "output_type": "execute_result"
    }
   ],
   "source": [
    "import numpy as np\n",
    "\n",
    "mat1 = np.array([[1,2,3],[2,3,4]]) # shape of matrix is 2 , 3\n",
    "\n",
    "# shape changes to 3 , 2\n",
    "mat1.T"
   ]
  },
  {
   "cell_type": "markdown",
   "id": "d14913e1",
   "metadata": {},
   "source": [
    "### 4. Write a Python Program to Sort Words in Alphabetic Order?"
   ]
  },
  {
   "cell_type": "code",
   "execution_count": 10,
   "id": "8ec1d55c",
   "metadata": {},
   "outputs": [],
   "source": [
    "def sort_words(lis):\n",
    "    \n",
    "    if type(lis) == list:\n",
    "        \n",
    "        lis.sort()\n",
    "        \n",
    "        return lis\n",
    "    \n",
    "    else :\n",
    "        \n",
    "        return 'Please give the list data type data!'"
   ]
  },
  {
   "cell_type": "code",
   "execution_count": 11,
   "id": "4c4ecf03",
   "metadata": {},
   "outputs": [
    {
     "data": {
      "text/plain": [
       "['apple', 'banana', 'cakes', 'pasta', 'pizza']"
      ]
     },
     "execution_count": 11,
     "metadata": {},
     "output_type": "execute_result"
    }
   ],
   "source": [
    "sort_words(['pasta','pizza','apple','banana','cakes'])"
   ]
  },
  {
   "cell_type": "markdown",
   "id": "180136d5",
   "metadata": {},
   "source": [
    "### 5. Write a Python Program to Remove Punctuation From a String?"
   ]
  },
  {
   "cell_type": "code",
   "execution_count": 12,
   "id": "2c584214",
   "metadata": {},
   "outputs": [],
   "source": [
    "def filter_string(string):\n",
    "    \n",
    "    if type(string) == str:\n",
    "        \n",
    "        string1 = ''\n",
    "        \n",
    "        for i in string:\n",
    "            \n",
    "            if (ord(i)>=65 and ord(i)<=90) or (ord(i)>=97 and ord(i)<=122) or (ord(i)>=48 and ord(i)<=55):\n",
    "                \n",
    "                string1 += i\n",
    "                \n",
    "        return string1\n",
    "    \n",
    "    else:\n",
    "        \n",
    "        return \"Please give string data type data!\""
   ]
  },
  {
   "cell_type": "code",
   "execution_count": 13,
   "id": "fa01f94b",
   "metadata": {},
   "outputs": [
    {
     "data": {
      "text/plain": [
       "'aryan'"
      ]
     },
     "execution_count": 13,
     "metadata": {},
     "output_type": "execute_result"
    }
   ],
   "source": [
    "filter_string('ar$%y*a(n)')"
   ]
  }
 ],
 "metadata": {
  "kernelspec": {
   "display_name": "Python 3",
   "language": "python",
   "name": "python3"
  },
  "language_info": {
   "codemirror_mode": {
    "name": "ipython",
    "version": 3
   },
   "file_extension": ".py",
   "mimetype": "text/x-python",
   "name": "python",
   "nbconvert_exporter": "python",
   "pygments_lexer": "ipython3",
   "version": "3.8.8"
  },
  "varInspector": {
   "cols": {
    "lenName": 16,
    "lenType": 16,
    "lenVar": 40
   },
   "kernels_config": {
    "python": {
     "delete_cmd_postfix": "",
     "delete_cmd_prefix": "del ",
     "library": "var_list.py",
     "varRefreshCmd": "print(var_dic_list())"
    },
    "r": {
     "delete_cmd_postfix": ") ",
     "delete_cmd_prefix": "rm(",
     "library": "var_list.r",
     "varRefreshCmd": "cat(var_dic_list()) "
    }
   },
   "types_to_exclude": [
    "module",
    "function",
    "builtin_function_or_method",
    "instance",
    "_Feature"
   ],
   "window_display": false
  }
 },
 "nbformat": 4,
 "nbformat_minor": 5
}
