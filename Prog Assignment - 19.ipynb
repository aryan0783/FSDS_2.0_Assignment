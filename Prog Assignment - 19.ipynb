{
 "cells": [
  {
   "cell_type": "markdown",
   "id": "aa135396",
   "metadata": {},
   "source": [
    "### Question1 : Create a function that takes a string and returns a string in which each character is repeated once.\n",
    "\n",
    "Examples <br>\n",
    "double_char(&quot;String&quot;) ➞ &quot;SSttrriinngg&quot; <br>\n",
    "double_char(&quot;Hello World!&quot;) ➞ &quot;HHeelllloo <br>\n",
    "WWoorrlldd!!&quot; <br>\n",
    "double_char(&quot;1234!_ &quot;) ➞ &quot;11223344!!__ &quot; <br>"
   ]
  },
  {
   "cell_type": "code",
   "execution_count": 1,
   "id": "f55060f6",
   "metadata": {},
   "outputs": [],
   "source": [
    "def double_char(string):\n",
    "    \n",
    "    if type(string) == str:\n",
    "        \n",
    "        new_ = ''\n",
    "        \n",
    "        for i in string:\n",
    "            \n",
    "            new_ += (i*2)\n",
    "            \n",
    "        return new_\n",
    "    \n",
    "    else:\n",
    "        \n",
    "        return \"Please give string data type data!\""
   ]
  },
  {
   "cell_type": "code",
   "execution_count": 2,
   "id": "221b862b",
   "metadata": {},
   "outputs": [
    {
     "data": {
      "text/plain": [
       "'ssttrriinngg'"
      ]
     },
     "execution_count": 2,
     "metadata": {},
     "output_type": "execute_result"
    }
   ],
   "source": [
    "double_char('string')"
   ]
  },
  {
   "cell_type": "code",
   "execution_count": 3,
   "id": "212e8acc",
   "metadata": {},
   "outputs": [
    {
     "data": {
      "text/plain": [
       "'HHeelllloo  WWoorrlldd!!'"
      ]
     },
     "execution_count": 3,
     "metadata": {},
     "output_type": "execute_result"
    }
   ],
   "source": [
    "double_char('Hello World!')"
   ]
  },
  {
   "cell_type": "markdown",
   "id": "96765654",
   "metadata": {},
   "source": [
    "### Question2 Create a function that reverses a boolean value and returns the string &quot;boolean expected&quot; if another variable type is given.\n",
    "\n",
    "Examples <br>\n",
    "reverse(True) ➞ False<br>\n",
    "reverse(False) ➞ True<br>\n",
    "reverse(0) ➞ &quot;boolean expected&quot;<br>\n",
    "reverse(None) ➞ &quot;boolean expected&quot;<br>"
   ]
  },
  {
   "cell_type": "code",
   "execution_count": 5,
   "id": "44b0a962",
   "metadata": {},
   "outputs": [],
   "source": [
    "def reverse(n):\n",
    "    \n",
    "    if type(n) == bool:\n",
    "        \n",
    "        if n == True:\n",
    "            \n",
    "            return False\n",
    "        \n",
    "        else:\n",
    "            \n",
    "            return True\n",
    "        \n",
    "    else:\n",
    "        \n",
    "        return \"boolean expected\""
   ]
  },
  {
   "cell_type": "code",
   "execution_count": 6,
   "id": "17696c80",
   "metadata": {},
   "outputs": [
    {
     "data": {
      "text/plain": [
       "False"
      ]
     },
     "execution_count": 6,
     "metadata": {},
     "output_type": "execute_result"
    }
   ],
   "source": [
    "reverse(True)"
   ]
  },
  {
   "cell_type": "code",
   "execution_count": 8,
   "id": "485dad30",
   "metadata": {},
   "outputs": [
    {
     "data": {
      "text/plain": [
       "True"
      ]
     },
     "execution_count": 8,
     "metadata": {},
     "output_type": "execute_result"
    }
   ],
   "source": [
    "reverse(False)"
   ]
  },
  {
   "cell_type": "code",
   "execution_count": 9,
   "id": "1cce28ea",
   "metadata": {},
   "outputs": [
    {
     "data": {
      "text/plain": [
       "'boolean expected'"
      ]
     },
     "execution_count": 9,
     "metadata": {},
     "output_type": "execute_result"
    }
   ],
   "source": [
    "reverse(0)"
   ]
  },
  {
   "cell_type": "markdown",
   "id": "28678a38",
   "metadata": {},
   "source": [
    "### Question3 : Create a function that returns the thickness (in meters) of a piece of paper after folding it n number of times. The paper starts off with a thickness of 0.5mm.\n",
    "\n",
    "```\n",
    "Examples :\n",
    "\n",
    "num_layers(1) ➞ \"0.001m\"\n",
    "# Paper folded once is 1mm (equal to 0.001m)\n",
    "\n",
    "num_layers(4) ➞ \"0.008m\"\n",
    "# Paper folded 4 times is 8mm (equal to 0.008m)\n",
    "\n",
    "num_layers(21) ➞ \"1048.576m\"\n",
    "# Paper folded 21 times is 1048576mm (equal to 1048.576m)\n",
    "```"
   ]
  },
  {
   "cell_type": "code",
   "execution_count": 20,
   "id": "1c9b6dc0",
   "metadata": {},
   "outputs": [],
   "source": [
    "def measure(fold):\n",
    "    \n",
    "    return str((0.5 * (2 ** fold)) / 1000) + 'm'"
   ]
  },
  {
   "cell_type": "code",
   "execution_count": 21,
   "id": "08958632",
   "metadata": {},
   "outputs": [
    {
     "data": {
      "text/plain": [
       "'0.008m'"
      ]
     },
     "execution_count": 21,
     "metadata": {},
     "output_type": "execute_result"
    }
   ],
   "source": [
    "measure(4)"
   ]
  },
  {
   "cell_type": "code",
   "execution_count": 22,
   "id": "ac49d3a8",
   "metadata": {},
   "outputs": [
    {
     "data": {
      "text/plain": [
       "'1048.576m'"
      ]
     },
     "execution_count": 22,
     "metadata": {},
     "output_type": "execute_result"
    }
   ],
   "source": [
    "measure(21)"
   ]
  },
  {
   "cell_type": "code",
   "execution_count": 23,
   "id": "844f34fc",
   "metadata": {},
   "outputs": [
    {
     "data": {
      "text/plain": [
       "'0.001m'"
      ]
     },
     "execution_count": 23,
     "metadata": {},
     "output_type": "execute_result"
    }
   ],
   "source": [
    "measure(1)"
   ]
  },
  {
   "cell_type": "markdown",
   "id": "db035167",
   "metadata": {},
   "source": [
    "### Question4 Create a function that takes a single string as argument and returns an ordered list containing the indices of all capital letters in the string.\n",
    "<br>\n",
    "Examples<br>\n",
    "index_of_caps(&quot;eDaBiT&quot;) ➞ [1, 3, 5]<br>\n",
    "index_of_caps(&quot;eQuINoX&quot;) ➞ [1, 3, 4, 6]<br>\n",
    "index_of_caps(&quot;determine&quot;) ➞ []<br>\n",
    "index_of_caps(&quot;STRIKE&quot;) ➞ [0, 1, 2, 3, 4, 5]<br>\n",
    "index_of_caps(&quot;sUn&quot;) ➞ [1]<br>"
   ]
  },
  {
   "cell_type": "code",
   "execution_count": 24,
   "id": "73659c81",
   "metadata": {},
   "outputs": [],
   "source": [
    "def index_of_caps(n):\n",
    "    \n",
    "    if type(n) == str:\n",
    "        \n",
    "        lis = []\n",
    "        \n",
    "        for i in range(len(n)):\n",
    "            \n",
    "            if n[i].isupper():\n",
    "                \n",
    "                lis.append(i)\n",
    "                \n",
    "        return lis\n",
    "    \n",
    "    else:\n",
    "        \n",
    "        return \"Please give the string type value\""
   ]
  },
  {
   "cell_type": "code",
   "execution_count": 25,
   "id": "79e50785",
   "metadata": {},
   "outputs": [
    {
     "data": {
      "text/plain": [
       "[1, 3, 5]"
      ]
     },
     "execution_count": 25,
     "metadata": {},
     "output_type": "execute_result"
    }
   ],
   "source": [
    "index_of_caps(\"eDaBiT\")"
   ]
  },
  {
   "cell_type": "code",
   "execution_count": 26,
   "id": "dc4034dd",
   "metadata": {},
   "outputs": [
    {
     "data": {
      "text/plain": [
       "[1, 3, 4, 6]"
      ]
     },
     "execution_count": 26,
     "metadata": {},
     "output_type": "execute_result"
    }
   ],
   "source": [
    "index_of_caps(\"eQuINoX\")"
   ]
  },
  {
   "cell_type": "code",
   "execution_count": 27,
   "id": "2ef2da20",
   "metadata": {},
   "outputs": [
    {
     "data": {
      "text/plain": [
       "[]"
      ]
     },
     "execution_count": 27,
     "metadata": {},
     "output_type": "execute_result"
    }
   ],
   "source": [
    "index_of_caps(\"determine\")"
   ]
  },
  {
   "cell_type": "markdown",
   "id": "50867d18",
   "metadata": {},
   "source": [
    "### Question5 Using list comprehensions, create a function that finds all even numbers from 1 to the given number.\n",
    "```\n",
    "Examples\n",
    "find_even_nums(8) ➞ [2, 4, 6, 8]\n",
    "find_even_nums(4) ➞ [2, 4]\n",
    "find_even_nums(2) ➞ [2]\n",
    "```"
   ]
  },
  {
   "cell_type": "code",
   "execution_count": 28,
   "id": "11346cf3",
   "metadata": {},
   "outputs": [],
   "source": [
    "def even_num(n):\n",
    "    \n",
    "    return [i for i in range(1,n+1) if i%2==0]"
   ]
  },
  {
   "cell_type": "code",
   "execution_count": 29,
   "id": "ce47389e",
   "metadata": {},
   "outputs": [
    {
     "data": {
      "text/plain": [
       "[2, 4, 6, 8]"
      ]
     },
     "execution_count": 29,
     "metadata": {},
     "output_type": "execute_result"
    }
   ],
   "source": [
    "even_num(8)"
   ]
  },
  {
   "cell_type": "code",
   "execution_count": 30,
   "id": "9af2c24d",
   "metadata": {},
   "outputs": [
    {
     "data": {
      "text/plain": [
       "[2, 4]"
      ]
     },
     "execution_count": 30,
     "metadata": {},
     "output_type": "execute_result"
    }
   ],
   "source": [
    "even_num(4)"
   ]
  }
 ],
 "metadata": {
  "kernelspec": {
   "display_name": "Python 3",
   "language": "python",
   "name": "python3"
  },
  "language_info": {
   "codemirror_mode": {
    "name": "ipython",
    "version": 3
   },
   "file_extension": ".py",
   "mimetype": "text/x-python",
   "name": "python",
   "nbconvert_exporter": "python",
   "pygments_lexer": "ipython3",
   "version": "3.8.8"
  },
  "varInspector": {
   "cols": {
    "lenName": 16,
    "lenType": 16,
    "lenVar": 40
   },
   "kernels_config": {
    "python": {
     "delete_cmd_postfix": "",
     "delete_cmd_prefix": "del ",
     "library": "var_list.py",
     "varRefreshCmd": "print(var_dic_list())"
    },
    "r": {
     "delete_cmd_postfix": ") ",
     "delete_cmd_prefix": "rm(",
     "library": "var_list.r",
     "varRefreshCmd": "cat(var_dic_list()) "
    }
   },
   "types_to_exclude": [
    "module",
    "function",
    "builtin_function_or_method",
    "instance",
    "_Feature"
   ],
   "window_display": false
  }
 },
 "nbformat": 4,
 "nbformat_minor": 5
}
