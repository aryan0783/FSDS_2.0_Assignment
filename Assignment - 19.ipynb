{
 "cells": [
  {
   "cell_type": "markdown",
   "id": "30a7a8b1",
   "metadata": {},
   "source": [
    "### 1. Make a class called Thing with no contents and print it. Then, create an object called example from this class and also print it. Are the printed values the same or different?"
   ]
  },
  {
   "cell_type": "markdown",
   "id": "4599180e",
   "metadata": {},
   "source": [
    "- the values will be different as Thing class prints Thing class and example shows the object reference"
   ]
  },
  {
   "cell_type": "code",
   "execution_count": 1,
   "id": "0e2f38f7",
   "metadata": {},
   "outputs": [
    {
     "name": "stdout",
     "output_type": "stream",
     "text": [
      "Thing class\n"
     ]
    }
   ],
   "source": [
    "class Thing:\n",
    "    \n",
    "    print('Thing class')"
   ]
  },
  {
   "cell_type": "code",
   "execution_count": 7,
   "id": "5b89e3a7",
   "metadata": {},
   "outputs": [
    {
     "name": "stdout",
     "output_type": "stream",
     "text": [
      "<__main__.Thing object at 0x00000207D8BD9D60>\n"
     ]
    }
   ],
   "source": [
    "example = Thing()\n",
    "print(example)"
   ]
  },
  {
   "cell_type": "markdown",
   "id": "28b0d894",
   "metadata": {},
   "source": [
    "### 2. Create a new class called Thing2 and add the value &#39;abc&#39; to the letters class attribute. Letters should be printed."
   ]
  },
  {
   "cell_type": "code",
   "execution_count": 8,
   "id": "ba3613b0",
   "metadata": {},
   "outputs": [
    {
     "name": "stdout",
     "output_type": "stream",
     "text": [
      "abc\n"
     ]
    }
   ],
   "source": [
    "class Thing2:\n",
    "    \n",
    "    letters = 'abc'\n",
    "    \n",
    "    print(letters)"
   ]
  },
  {
   "cell_type": "code",
   "execution_count": 9,
   "id": "34259f93",
   "metadata": {},
   "outputs": [
    {
     "data": {
      "text/plain": [
       "'abc'"
      ]
     },
     "execution_count": 9,
     "metadata": {},
     "output_type": "execute_result"
    }
   ],
   "source": [
    "Thing2.letters"
   ]
  },
  {
   "cell_type": "markdown",
   "id": "79bdcd7c",
   "metadata": {},
   "source": [
    "### 3. Make yet another class called, of course, Thing3. This time, assign the value &#39;xyz&#39; to an instance (object) attribute called letters. Print letters. Do you need to make an object from the class to do this?"
   ]
  },
  {
   "cell_type": "code",
   "execution_count": 11,
   "id": "a10428f8",
   "metadata": {},
   "outputs": [
    {
     "data": {
      "text/plain": [
       "'xyz'"
      ]
     },
     "execution_count": 11,
     "metadata": {},
     "output_type": "execute_result"
    }
   ],
   "source": [
    "# object is required to get the object attribute value :\n",
    "class Thing3:\n",
    "    \n",
    "    def __init__(self):\n",
    "        self.letters = 'xyz'\n",
    "        \n",
    "obj1 = Thing3()\n",
    "obj1.letters"
   ]
  },
  {
   "cell_type": "markdown",
   "id": "10b93402",
   "metadata": {},
   "source": [
    "### 4. Create an Element class with the instance attributes name, symbol, and number. Create a class object with the values &#39;Hydrogen,&#39; &#39;H,&#39; and 1."
   ]
  },
  {
   "cell_type": "code",
   "execution_count": 12,
   "id": "fe1425a7",
   "metadata": {},
   "outputs": [],
   "source": [
    "class Element:\n",
    "    \n",
    "    def __init__(self,name,symbol,number):\n",
    "        self.name = name\n",
    "        self.symbol = symbol\n",
    "        self.number = number\n",
    "        \n",
    "ele1 = Element('Hydrogen','H',1)"
   ]
  },
  {
   "cell_type": "markdown",
   "id": "800ea3f1",
   "metadata": {},
   "source": [
    "### 5. Make a dictionary with these keys and values: &#39;name&#39;: &#39;Hydrogen&#39;, &#39;symbol&#39;: &#39;H&#39;, &#39;number&#39;: 1. Then, create an object called hydrogen from class Element using this dictionary."
   ]
  },
  {
   "cell_type": "code",
   "execution_count": 13,
   "id": "e6815efe",
   "metadata": {},
   "outputs": [],
   "source": [
    "dict1 = {'name':'Hydrogen','symbol':'H','number':1}\n",
    "\n",
    "hydrogen = Element(dict1['name'],dict1['symbol'],dict1['number'])"
   ]
  },
  {
   "cell_type": "markdown",
   "id": "5b8faac9",
   "metadata": {},
   "source": [
    "### 6. For the Element class, define a method called dump() that prints the values of the object’s attributes (name, symbol, and number). Create the hydrogen object from this new definition and use dump() to print its attributes."
   ]
  },
  {
   "cell_type": "code",
   "execution_count": 14,
   "id": "e3348985",
   "metadata": {},
   "outputs": [],
   "source": [
    "class Element:\n",
    "    \n",
    "    def __init__(self,name,symbol,number):\n",
    "        self.name = name\n",
    "        self.symbol = symbol\n",
    "        self.number = number\n",
    "        \n",
    "    def dump(self):\n",
    "        \n",
    "        print(self.name, self.symbol, self.number)"
   ]
  },
  {
   "cell_type": "code",
   "execution_count": 15,
   "id": "4701ab1d",
   "metadata": {},
   "outputs": [
    {
     "name": "stdout",
     "output_type": "stream",
     "text": [
      "Hydrogen H 1\n"
     ]
    }
   ],
   "source": [
    "hydrogen = Element('Hydrogen','H',1)\n",
    "hydrogen.dump()"
   ]
  },
  {
   "cell_type": "markdown",
   "id": "91567b0e",
   "metadata": {},
   "source": [
    "### 7. Call print(hydrogen). In the definition of Element, change the name of method dump to __str__, create a new hydrogen object, and call print(hydrogen) again."
   ]
  },
  {
   "cell_type": "code",
   "execution_count": 22,
   "id": "78b6c519",
   "metadata": {},
   "outputs": [],
   "source": [
    "class Element:\n",
    "    \n",
    "    def __init__(self,name,symbol,number):\n",
    "        self.name = name\n",
    "        self.symbol = symbol\n",
    "        self.number = number\n",
    "        \n",
    "    def __str__(self):\n",
    "        \n",
    "        return f\"{self.name}, {self.symbol}, {self.number}\""
   ]
  },
  {
   "cell_type": "code",
   "execution_count": 23,
   "id": "6857b288",
   "metadata": {},
   "outputs": [
    {
     "name": "stdout",
     "output_type": "stream",
     "text": [
      "Hydrogen, H, 1\n"
     ]
    }
   ],
   "source": [
    "hydrogen = Element('Hydrogen','H',1)\n",
    "print(hydrogen)"
   ]
  },
  {
   "cell_type": "markdown",
   "id": "3516c611",
   "metadata": {},
   "source": [
    "### 8. Modify Element to make the attributes name, symbol, and number private. Define a getter property for each to return its value."
   ]
  },
  {
   "cell_type": "code",
   "execution_count": 32,
   "id": "b659756f",
   "metadata": {},
   "outputs": [],
   "source": [
    "class Element:\n",
    "    \n",
    "    def __init__(self,name,symbol,number):\n",
    "        self.__name = name\n",
    "        self.__symbol = symbol\n",
    "        self.__number = number\n",
    "        \n",
    "    def getName(self):\n",
    "        \n",
    "        return self.__name\n",
    "    \n",
    "    def getSymbol(self):\n",
    "        \n",
    "        return self.__symbol\n",
    "    \n",
    "    def getNumber(self):\n",
    "        \n",
    "        return self.__number"
   ]
  },
  {
   "cell_type": "code",
   "execution_count": 33,
   "id": "bd1cd5e4",
   "metadata": {},
   "outputs": [
    {
     "data": {
      "text/plain": [
       "'Hydrogen'"
      ]
     },
     "execution_count": 33,
     "metadata": {},
     "output_type": "execute_result"
    }
   ],
   "source": [
    "hydrogen = Element('Hydrogen','H',1)\n",
    "hydrogen.getName()"
   ]
  },
  {
   "cell_type": "code",
   "execution_count": 34,
   "id": "9f658eb7",
   "metadata": {},
   "outputs": [
    {
     "data": {
      "text/plain": [
       "'H'"
      ]
     },
     "execution_count": 34,
     "metadata": {},
     "output_type": "execute_result"
    }
   ],
   "source": [
    "hydrogen.getSymbol()"
   ]
  },
  {
   "cell_type": "code",
   "execution_count": 35,
   "id": "8c2a9d12",
   "metadata": {},
   "outputs": [
    {
     "data": {
      "text/plain": [
       "1"
      ]
     },
     "execution_count": 35,
     "metadata": {},
     "output_type": "execute_result"
    }
   ],
   "source": [
    "hydrogen.getNumber()"
   ]
  },
  {
   "cell_type": "markdown",
   "id": "0510d483",
   "metadata": {},
   "source": [
    "### 9. Define three classes: Bear, Rabbit, and Octothorpe. For each, define only one method: eats(). This should return &#39;berries&#39; (Bear), &#39;clover&#39; (Rabbit), or &#39;campers&#39; (Octothorpe). Create one object from each and print what it eats."
   ]
  },
  {
   "cell_type": "code",
   "execution_count": 36,
   "id": "18b8e3e9",
   "metadata": {},
   "outputs": [],
   "source": [
    "class Bear:\n",
    "    \n",
    "    def eats(self):\n",
    "        return 'Berries'\n",
    "    \n",
    "class Rabbit:\n",
    "    \n",
    "    def eats(self):\n",
    "        return 'clover'\n",
    "    \n",
    "class Octothorpe:\n",
    "    \n",
    "    def eats(self):\n",
    "        return 'campers'"
   ]
  },
  {
   "cell_type": "code",
   "execution_count": 37,
   "id": "fb93059e",
   "metadata": {},
   "outputs": [
    {
     "data": {
      "text/plain": [
       "'Berries'"
      ]
     },
     "execution_count": 37,
     "metadata": {},
     "output_type": "execute_result"
    }
   ],
   "source": [
    "b1 = Bear()\n",
    "b1.eats()"
   ]
  },
  {
   "cell_type": "code",
   "execution_count": 38,
   "id": "1bf0745d",
   "metadata": {},
   "outputs": [
    {
     "data": {
      "text/plain": [
       "'clover'"
      ]
     },
     "execution_count": 38,
     "metadata": {},
     "output_type": "execute_result"
    }
   ],
   "source": [
    "r1 = Rabbit()\n",
    "r1.eats()"
   ]
  },
  {
   "cell_type": "code",
   "execution_count": 40,
   "id": "481bc749",
   "metadata": {},
   "outputs": [
    {
     "data": {
      "text/plain": [
       "'campers'"
      ]
     },
     "execution_count": 40,
     "metadata": {},
     "output_type": "execute_result"
    }
   ],
   "source": [
    "o1 = Octothorpe()\n",
    "o1.eats()"
   ]
  },
  {
   "cell_type": "markdown",
   "id": "635be8d8",
   "metadata": {},
   "source": [
    "### 10. Define these classes: Laser, Claw, and SmartPhone. Each has only one method: does(). This returns &#39;disintegrate&#39; (Laser), &#39;crush&#39; (Claw), or &#39;ring&#39; (SmartPhone). Then, define the class Robot that has one instance (object) of each of these. Define a does() method for the Robot that prints what its component objects do."
   ]
  },
  {
   "cell_type": "code",
   "execution_count": 43,
   "id": "1b23da10",
   "metadata": {},
   "outputs": [],
   "source": [
    "class Laser:\n",
    "    \n",
    "    def does(self):\n",
    "        return 'disintegrate'\n",
    "    \n",
    "class Claw:\n",
    "    \n",
    "    def does(self):\n",
    "        return 'crush'\n",
    "    \n",
    "class SmartPhone:\n",
    "    \n",
    "    def does(self):\n",
    "        return 'ring'\n",
    "    \n",
    "class Robot:\n",
    "    \n",
    "    def does(self):\n",
    "        obj1 = Laser()\n",
    "        obj2 = Claw()\n",
    "        obj3 = SmartPhone()\n",
    "        \n",
    "        return obj1.does(), obj2.does(), obj3.does()"
   ]
  },
  {
   "cell_type": "code",
   "execution_count": 44,
   "id": "02b0f4a3",
   "metadata": {},
   "outputs": [
    {
     "data": {
      "text/plain": [
       "('disintegrate', 'crush', 'ring')"
      ]
     },
     "execution_count": 44,
     "metadata": {},
     "output_type": "execute_result"
    }
   ],
   "source": [
    "robo = Robot()\n",
    "robo.does()"
   ]
  }
 ],
 "metadata": {
  "kernelspec": {
   "display_name": "Python 3",
   "language": "python",
   "name": "python3"
  },
  "language_info": {
   "codemirror_mode": {
    "name": "ipython",
    "version": 3
   },
   "file_extension": ".py",
   "mimetype": "text/x-python",
   "name": "python",
   "nbconvert_exporter": "python",
   "pygments_lexer": "ipython3",
   "version": "3.8.8"
  },
  "varInspector": {
   "cols": {
    "lenName": 16,
    "lenType": 16,
    "lenVar": 40
   },
   "kernels_config": {
    "python": {
     "delete_cmd_postfix": "",
     "delete_cmd_prefix": "del ",
     "library": "var_list.py",
     "varRefreshCmd": "print(var_dic_list())"
    },
    "r": {
     "delete_cmd_postfix": ") ",
     "delete_cmd_prefix": "rm(",
     "library": "var_list.r",
     "varRefreshCmd": "cat(var_dic_list()) "
    }
   },
   "types_to_exclude": [
    "module",
    "function",
    "builtin_function_or_method",
    "instance",
    "_Feature"
   ],
   "window_display": false
  }
 },
 "nbformat": 4,
 "nbformat_minor": 5
}
