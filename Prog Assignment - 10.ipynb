{
 "cells": [
  {
   "cell_type": "markdown",
   "id": "d2e86fe0",
   "metadata": {},
   "source": [
    "### 1. Write a Python program to find sum of elements in list?"
   ]
  },
  {
   "cell_type": "code",
   "execution_count": 1,
   "id": "2460ad0e",
   "metadata": {},
   "outputs": [
    {
     "name": "stdout",
     "output_type": "stream",
     "text": [
      "21\n"
     ]
    }
   ],
   "source": [
    "lis = [1,2,3,4,5,6]\n",
    "\n",
    "sum = 0\n",
    "\n",
    "for i in lis:\n",
    "    \n",
    "    if type(i) == int or type(i) == float :\n",
    "        \n",
    "        sum += i\n",
    "        \n",
    "print(sum)"
   ]
  },
  {
   "cell_type": "markdown",
   "id": "c0e8b309",
   "metadata": {},
   "source": [
    "### 2. Write a Python program to Multiply all numbers in the list?"
   ]
  },
  {
   "cell_type": "code",
   "execution_count": 2,
   "id": "cec480b7",
   "metadata": {},
   "outputs": [
    {
     "name": "stdout",
     "output_type": "stream",
     "text": [
      "720\n"
     ]
    }
   ],
   "source": [
    "lis = [1,2,3,4,5,6]\n",
    "\n",
    "prod = 1\n",
    "\n",
    "for i in lis:\n",
    "    \n",
    "    if type(i) == int or type(i) == float :\n",
    "        \n",
    "        prod *= i\n",
    "        \n",
    "print(prod)"
   ]
  },
  {
   "cell_type": "markdown",
   "id": "718aeae1",
   "metadata": {},
   "source": [
    "### 3. Write a Python program to find smallest number in a list?"
   ]
  },
  {
   "cell_type": "code",
   "execution_count": 5,
   "id": "9121810d",
   "metadata": {},
   "outputs": [
    {
     "name": "stdout",
     "output_type": "stream",
     "text": [
      "1\n"
     ]
    }
   ],
   "source": [
    "lis = [3,2,5,2,34,52,3,1,6,9]\n",
    "\n",
    "min_ele = lis[0]\n",
    "\n",
    "for i in lis:\n",
    "    \n",
    "    if type(i) == int or type(i) == float :\n",
    "        \n",
    "        if min_ele > i:\n",
    "            \n",
    "            min_ele = i\n",
    "        \n",
    "print(min_ele)"
   ]
  },
  {
   "cell_type": "markdown",
   "id": "2b00b340",
   "metadata": {},
   "source": [
    "### 4. Write a Python program to find largest number in a list?"
   ]
  },
  {
   "cell_type": "code",
   "execution_count": 8,
   "id": "bed3b913",
   "metadata": {},
   "outputs": [
    {
     "name": "stdout",
     "output_type": "stream",
     "text": [
      "52\n"
     ]
    }
   ],
   "source": [
    "lis = [3,2,5,2,34,52,3,1,6,9]\n",
    "\n",
    "max_ele = lis[0]\n",
    "\n",
    "for i in lis:\n",
    "    \n",
    "    if type(i) == int or type(i) == float :\n",
    "        \n",
    "        if max_ele < i:\n",
    "            \n",
    "            max_ele = i\n",
    "        \n",
    "print(max_ele)"
   ]
  },
  {
   "cell_type": "markdown",
   "id": "9cfead16",
   "metadata": {},
   "source": [
    "### 5. Write a Python program to find second largest number in a list?"
   ]
  },
  {
   "cell_type": "code",
   "execution_count": 15,
   "id": "afa3ab34",
   "metadata": {},
   "outputs": [
    {
     "name": "stdout",
     "output_type": "stream",
     "text": [
      "34\n"
     ]
    }
   ],
   "source": [
    "lis = [3,2,5,2,34,52,3,1,6,9]\n",
    "\n",
    "max_ele = max(lis[0],lis[1])\n",
    "second_max = min(lis[0],lis[1])\n",
    "\n",
    "for i in range(1,len(lis)):\n",
    "    \n",
    "    if type(i) == int or type(i) == float :\n",
    "        \n",
    "        if max_ele < lis[i]:\n",
    "            \n",
    "            second_max = max_ele\n",
    "            max_ele = lis[i]\n",
    "            \n",
    "        elif second_max < lis[i] and max_ele != lis[i]:\n",
    "            \n",
    "            second_max = lis[i]\n",
    "            \n",
    "        elif max_ele == second_max and second_max!= lis[i]:\n",
    "            \n",
    "            second_max = lis[i]\n",
    "        \n",
    "print(second_max)"
   ]
  },
  {
   "cell_type": "markdown",
   "id": "12f4056e",
   "metadata": {},
   "source": [
    "### 6. Write a Python program to find N largest elements from a list?"
   ]
  },
  {
   "cell_type": "code",
   "execution_count": 24,
   "id": "00a16aff",
   "metadata": {},
   "outputs": [
    {
     "name": "stdout",
     "output_type": "stream",
     "text": [
      "Enter the nth largest you want : 4\n",
      "234\n"
     ]
    }
   ],
   "source": [
    "n = int(input(\"Enter the nth largest you want : \"))\n",
    "\n",
    "lis = [23,45,56,7,756,365,367,234]\n",
    "\n",
    "lis1 = sorted(list(set(lis)))\n",
    "\n",
    "print((lis1[::-1])[n-1])"
   ]
  },
  {
   "cell_type": "markdown",
   "id": "dad1882f",
   "metadata": {},
   "source": [
    "### 7. Write a Python program to print even numbers in a list?"
   ]
  },
  {
   "cell_type": "code",
   "execution_count": 26,
   "id": "6e35e75f",
   "metadata": {},
   "outputs": [
    {
     "name": "stdout",
     "output_type": "stream",
     "text": [
      "12 34 2 6 "
     ]
    }
   ],
   "source": [
    "lis = [12,23,34,25,255,25,2,235,6]\n",
    "\n",
    "for i in lis:\n",
    "    \n",
    "    if type(i) == int or type(i) == float:\n",
    "        \n",
    "        if i%2==0:\n",
    "            \n",
    "            print(i,end=\" \")"
   ]
  },
  {
   "cell_type": "markdown",
   "id": "6b3199d3",
   "metadata": {},
   "source": [
    "### 8. Write a Python program to print odd numbers in a List?"
   ]
  },
  {
   "cell_type": "code",
   "execution_count": 27,
   "id": "c6c6a297",
   "metadata": {},
   "outputs": [
    {
     "name": "stdout",
     "output_type": "stream",
     "text": [
      "23 25 255 25 235 "
     ]
    }
   ],
   "source": [
    "lis = [12,23,34,25,255,25,2,235,6]\n",
    "\n",
    "for i in lis:\n",
    "    \n",
    "    if type(i) == int or type(i) == float:\n",
    "        \n",
    "        if i%2!=0:\n",
    "            \n",
    "            print(i,end=\" \")"
   ]
  },
  {
   "cell_type": "markdown",
   "id": "140511ba",
   "metadata": {},
   "source": [
    "### 9. Write a Python program to Remove empty List from List?"
   ]
  },
  {
   "cell_type": "code",
   "execution_count": 37,
   "id": "2de71814",
   "metadata": {},
   "outputs": [
    {
     "name": "stdout",
     "output_type": "stream",
     "text": [
      "[1, 2, 4, 5, 4, [4, 3, 432], [5, 3, 5], [6, 4, 56]]\n"
     ]
    }
   ],
   "source": [
    "lis = [1,2,4,5,4,[4,3,432],[5,3,5],[],[6,4,56],[],[],[],[],[]]\n",
    "\n",
    "a = 0\n",
    "\n",
    "while a<len(lis):\n",
    "    \n",
    "    if lis[a] == []:\n",
    "        \n",
    "        lis.pop(a)\n",
    "        \n",
    "    else:\n",
    "        \n",
    "        a += 1\n",
    "        \n",
    "print(lis)"
   ]
  },
  {
   "cell_type": "markdown",
   "id": "be9852ef",
   "metadata": {},
   "source": [
    "### 10. Write a Python program to Cloning or Copying a list?"
   ]
  },
  {
   "cell_type": "code",
   "execution_count": 31,
   "id": "d7e1e2c2",
   "metadata": {},
   "outputs": [
    {
     "name": "stdout",
     "output_type": "stream",
     "text": [
      "[12, 23, 34, 25, 255, 25, 2, 235, 6]\n"
     ]
    }
   ],
   "source": [
    "lis = [12,23,34,25,255,25,2,235,6]\n",
    "\n",
    "lis1 = lis.copy()\n",
    "\n",
    "print(lis1)"
   ]
  },
  {
   "cell_type": "markdown",
   "id": "ac6d2be5",
   "metadata": {},
   "source": [
    "### 11. Write a Python program to Count occurrences of an element in a list?"
   ]
  },
  {
   "cell_type": "code",
   "execution_count": 33,
   "id": "6b25d3b5",
   "metadata": {},
   "outputs": [
    {
     "name": "stdout",
     "output_type": "stream",
     "text": [
      "{12: 1, 23: 1, 34: 1, 25: 2, 255: 1, 2: 1, 235: 1, 6: 1}\n"
     ]
    }
   ],
   "source": [
    "lis = [12,23,34,25,255,25,2,235,6]\n",
    "\n",
    "dict1 = {}\n",
    "\n",
    "for i in range(len(lis)):\n",
    "    \n",
    "    count = 0\n",
    "    \n",
    "    for j in range(i,len(lis)):\n",
    "        \n",
    "        if lis[i] == lis[j]:\n",
    "        \n",
    "            count += 1\n",
    "        \n",
    "    if lis[i] not in dict1 :\n",
    "        dict1[lis[i]] = count\n",
    "        \n",
    "print(dict1)"
   ]
  }
 ],
 "metadata": {
  "kernelspec": {
   "display_name": "Python 3",
   "language": "python",
   "name": "python3"
  },
  "language_info": {
   "codemirror_mode": {
    "name": "ipython",
    "version": 3
   },
   "file_extension": ".py",
   "mimetype": "text/x-python",
   "name": "python",
   "nbconvert_exporter": "python",
   "pygments_lexer": "ipython3",
   "version": "3.8.8"
  },
  "varInspector": {
   "cols": {
    "lenName": 16,
    "lenType": 16,
    "lenVar": 40
   },
   "kernels_config": {
    "python": {
     "delete_cmd_postfix": "",
     "delete_cmd_prefix": "del ",
     "library": "var_list.py",
     "varRefreshCmd": "print(var_dic_list())"
    },
    "r": {
     "delete_cmd_postfix": ") ",
     "delete_cmd_prefix": "rm(",
     "library": "var_list.r",
     "varRefreshCmd": "cat(var_dic_list()) "
    }
   },
   "types_to_exclude": [
    "module",
    "function",
    "builtin_function_or_method",
    "instance",
    "_Feature"
   ],
   "window_display": false
  }
 },
 "nbformat": 4,
 "nbformat_minor": 5
}
