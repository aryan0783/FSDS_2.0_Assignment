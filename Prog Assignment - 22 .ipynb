{
 "cells": [
  {
   "cell_type": "markdown",
   "id": "5b0498c6",
   "metadata": {},
   "source": [
    "### Question1\n",
    "\n",
    "Create a function that takes three parameters where:<br>\n",
    " x is the start of the range (inclusive).<br>\n",
    " y is the end of the range (inclusive).<br>\n",
    " n is the divisor to be checked against.<br>\n",
    "\n",
    "Return an ordered list with numbers in the range that are divisible by the third parameter n.<br>\n",
    "\n",
    "Return an empty list if there are no numbers that are divisible by n.<br>\n",
    "Examples<br>\n",
    "list_operation(1, 10, 3) ➞ [3, 6, 9]<br>\n",
    "list_operation(7, 9, 2) ➞ [8]<br>\n",
    "list_operation(15, 20, 7) ➞ []<br>"
   ]
  },
  {
   "cell_type": "code",
   "execution_count": 1,
   "id": "087f13e3",
   "metadata": {},
   "outputs": [],
   "source": [
    "def list_operation(x,y,n):\n",
    "    \n",
    "    div = []\n",
    "    \n",
    "    for i in range(x,y+1):\n",
    "        \n",
    "        if i%n==0:\n",
    "            \n",
    "            div += [i]\n",
    "            \n",
    "    return div"
   ]
  },
  {
   "cell_type": "code",
   "execution_count": 3,
   "id": "aca9d327",
   "metadata": {},
   "outputs": [
    {
     "data": {
      "text/plain": [
       "[3, 6, 9]"
      ]
     },
     "execution_count": 3,
     "metadata": {},
     "output_type": "execute_result"
    }
   ],
   "source": [
    "list_operation(1,10,3)"
   ]
  },
  {
   "cell_type": "code",
   "execution_count": 4,
   "id": "882d13d5",
   "metadata": {},
   "outputs": [
    {
     "data": {
      "text/plain": [
       "[8]"
      ]
     },
     "execution_count": 4,
     "metadata": {},
     "output_type": "execute_result"
    }
   ],
   "source": [
    "list_operation(7,9,2)"
   ]
  },
  {
   "cell_type": "markdown",
   "id": "10ff5ab9",
   "metadata": {},
   "source": [
    "### Question2\n",
    "Create a function that takes in two lists and returns True if the second list follows the first list by one element, and False otherwise. In other words, determine if the second list is the first list shifted to the right by 1.\n",
    "\n",
    "Examples\n",
    "\n",
    "simon_says([1, 2], [5, 1]) ➞ True<br>\n",
    "simon_says([1, 2], [5, 5]) ➞ False<br>\n",
    "simon_says([1, 2, 3, 4, 5], [0, 1, 2, 3, 4]) ➞ True<br>\n",
    "simon_says([1, 2, 3, 4, 5], [5, 5, 1, 2, 3]) ➞ False<br>\n",
    "\n",
    "Notes<br>\n",
    "\n",
    " Both input lists will be of the same length, and will have a minimum length of 2.<br>\n",
    " The values of the 0-indexed element in the second list and the n-1th indexed element in the first list do not matter.<br>"
   ]
  },
  {
   "cell_type": "code",
   "execution_count": 5,
   "id": "4fe90db2",
   "metadata": {},
   "outputs": [],
   "source": [
    "def simon_says(lis1,lis2):\n",
    "    \n",
    "    if type(lis1) == list and type(lis2) == list:\n",
    "        \n",
    "        if len(lis1) == len(lis2):\n",
    "            \n",
    "            if len(lis1)>=2 and len(lis2)>=2:\n",
    "                \n",
    "                for i in range(len(lis1)-1):\n",
    "                    \n",
    "                    if lis1[i] == lis2[i+1]:\n",
    "                        \n",
    "                        continue\n",
    "                        \n",
    "                    else:\n",
    "                        \n",
    "                        return False\n",
    "                    \n",
    "            else:\n",
    "                \n",
    "                return 'List length should be minimum 2'\n",
    "            \n",
    "        else:\n",
    "            \n",
    "            return 'Both list length should be same!'\n",
    "        \n",
    "    else:\n",
    "        \n",
    "        return 'Please give list data type data!'\n",
    "    \n",
    "    return True"
   ]
  },
  {
   "cell_type": "code",
   "execution_count": 6,
   "id": "9a818232",
   "metadata": {},
   "outputs": [
    {
     "data": {
      "text/plain": [
       "True"
      ]
     },
     "execution_count": 6,
     "metadata": {},
     "output_type": "execute_result"
    }
   ],
   "source": [
    "simon_says([1, 2], [5, 1])"
   ]
  },
  {
   "cell_type": "code",
   "execution_count": 7,
   "id": "1c6d9b62",
   "metadata": {},
   "outputs": [
    {
     "data": {
      "text/plain": [
       "True"
      ]
     },
     "execution_count": 7,
     "metadata": {},
     "output_type": "execute_result"
    }
   ],
   "source": [
    "simon_says([1, 2, 3, 4, 5], [0, 1, 2, 3, 4])"
   ]
  },
  {
   "cell_type": "code",
   "execution_count": 8,
   "id": "e423032f",
   "metadata": {},
   "outputs": [
    {
     "data": {
      "text/plain": [
       "False"
      ]
     },
     "execution_count": 8,
     "metadata": {},
     "output_type": "execute_result"
    }
   ],
   "source": [
    "simon_says([1, 2, 3, 4, 5], [5, 5, 1, 2, 3])"
   ]
  },
  {
   "cell_type": "markdown",
   "id": "4d397080",
   "metadata": {},
   "source": [
    "### Question3\n",
    "A group of friends have decided to start a secret society. The name will be the first letter of each of their names, sorted in alphabetical order.\n",
    "\n",
    "Create a function that takes in a list of names and returns the name of the secret society.\n",
    "\n",
    "Examples <br>\n",
    "\n",
    "society_name([&quot;Adam&quot;, &quot;Sarah&quot;, &quot;Malcolm&quot;]) ➞ &quot;AMS&quot;<br>\n",
    "society_name([&quot;Harry&quot;, &quot;Newt&quot;, &quot;Luna&quot;, &quot;Cho&quot;]) ➞ &quot;CHLN&quot;<br>\n",
    "society_name([&quot;Phoebe&quot;, &quot;Chandler&quot;, &quot;Rachel&quot;, &quot;Ross&quot;, &quot;Monica&quot;, &quot;Joey&quot;])<br>"
   ]
  },
  {
   "cell_type": "code",
   "execution_count": 9,
   "id": "9bf7fcdb",
   "metadata": {},
   "outputs": [],
   "source": [
    "def society_name(lis):\n",
    "    \n",
    "    if type(lis) == list:\n",
    "        \n",
    "        lis.sort()\n",
    "        name = ''\n",
    "        \n",
    "        for i in lis:\n",
    "            \n",
    "            name += i[0]\n",
    "            \n",
    "        return name\n",
    "    \n",
    "    else:\n",
    "        \n",
    "        return \"Please give list data type value!\""
   ]
  },
  {
   "cell_type": "code",
   "execution_count": 10,
   "id": "785742c0",
   "metadata": {},
   "outputs": [
    {
     "data": {
      "text/plain": [
       "'CHLN'"
      ]
     },
     "execution_count": 10,
     "metadata": {},
     "output_type": "execute_result"
    }
   ],
   "source": [
    "society_name([\"Harry\", \"Newt\", \"Luna\", \"Cho\"])"
   ]
  },
  {
   "cell_type": "code",
   "execution_count": 11,
   "id": "4c3ee727",
   "metadata": {},
   "outputs": [
    {
     "data": {
      "text/plain": [
       "'CJMPRR'"
      ]
     },
     "execution_count": 11,
     "metadata": {},
     "output_type": "execute_result"
    }
   ],
   "source": [
    "society_name([\"Phoebe\", \"Chandler\", \"Rachel\", \"Ross\", \"Monica\", \"Joey\"])"
   ]
  },
  {
   "cell_type": "markdown",
   "id": "234a964b",
   "metadata": {},
   "source": [
    "### Question4\n",
    "An isogram is a word that has no duplicate letters. Create a function that takes a string and returns either True or False depending on whether or not it&#39;s an &quot;isogram&quot;.<br>\n",
    "\n",
    "Examples<br>\n",
    "\n",
    "is_isogram(&quot;Algorism&quot;) ➞ True<br>\n",
    "is_isogram(&quot;PasSword&quot;) ➞ False<br>\n",
    "~# Not case sensitive.<br>\n",
    "is_isogram(&quot;Consecutive&quot;) ➞ False<br>\n",
    "\n",
    "Notes<br>\n",
    "\n",
    " Ignore letter case (should not be case sensitive).<br>\n",
    " All test cases contain valid one word strings.<br>"
   ]
  },
  {
   "cell_type": "code",
   "execution_count": 30,
   "id": "6cf581da",
   "metadata": {},
   "outputs": [],
   "source": [
    "def is_isogram(n):\n",
    "    \n",
    "    if type(n) == str:\n",
    "        \n",
    "        n = n.lower()\n",
    "        \n",
    "        if len(set(n)) == len(n):\n",
    "            \n",
    "            return True\n",
    "        \n",
    "        else:\n",
    "            \n",
    "            return False\n",
    "        \n",
    "    else:\n",
    "        \n",
    "        return \"Please give the string data type data!\""
   ]
  },
  {
   "cell_type": "code",
   "execution_count": 31,
   "id": "cc46dd12",
   "metadata": {},
   "outputs": [
    {
     "data": {
      "text/plain": [
       "True"
      ]
     },
     "execution_count": 31,
     "metadata": {},
     "output_type": "execute_result"
    }
   ],
   "source": [
    "is_isogram(\"Algorism\")"
   ]
  },
  {
   "cell_type": "code",
   "execution_count": 32,
   "id": "a2d4938b",
   "metadata": {},
   "outputs": [
    {
     "data": {
      "text/plain": [
       "False"
      ]
     },
     "execution_count": 32,
     "metadata": {},
     "output_type": "execute_result"
    }
   ],
   "source": [
    "is_isogram(\"PasSword\")"
   ]
  },
  {
   "cell_type": "markdown",
   "id": "dd647892",
   "metadata": {},
   "source": [
    "### Question5\n",
    "Create a function that takes a string and returns True or False, depending on whether the characters are in order or not.\n",
    "\n",
    "Examples<br>\n",
    "\n",
    "is_in_order(&quot;abc&quot;) ➞ True<br>\n",
    "is_in_order(&quot;edabit&quot;) ➞ False<br>\n",
    "is_in_order(&quot;123&quot;) ➞ True<br>\n",
    "is_in_order(&quot;xyzz&quot;) ➞ True<br>\n",
    "\n",
    "Notes<br>\n",
    "\n",
    "You don&#39;t have to handle empty strings."
   ]
  },
  {
   "cell_type": "code",
   "execution_count": 34,
   "id": "904bb88f",
   "metadata": {},
   "outputs": [],
   "source": [
    "def is_in_order(n):\n",
    "    \n",
    "    if type(n) == str:\n",
    "        \n",
    "        m = n\n",
    "        \n",
    "        lis = list(n)\n",
    "        lis.sort()\n",
    "        \n",
    "        if m == \"\".join(lis):\n",
    "            \n",
    "            return True\n",
    "        \n",
    "        else:\n",
    "            \n",
    "            return False\n",
    "        \n",
    "    else:\n",
    "        \n",
    "        return \"Please give the string data type data!\""
   ]
  },
  {
   "cell_type": "code",
   "execution_count": 35,
   "id": "52943f02",
   "metadata": {},
   "outputs": [
    {
     "data": {
      "text/plain": [
       "False"
      ]
     },
     "execution_count": 35,
     "metadata": {},
     "output_type": "execute_result"
    }
   ],
   "source": [
    "is_in_order(\"edabit\")"
   ]
  },
  {
   "cell_type": "code",
   "execution_count": 36,
   "id": "516b6800",
   "metadata": {},
   "outputs": [
    {
     "data": {
      "text/plain": [
       "True"
      ]
     },
     "execution_count": 36,
     "metadata": {},
     "output_type": "execute_result"
    }
   ],
   "source": [
    "is_in_order(\"123\")"
   ]
  }
 ],
 "metadata": {
  "kernelspec": {
   "display_name": "Python 3",
   "language": "python",
   "name": "python3"
  },
  "language_info": {
   "codemirror_mode": {
    "name": "ipython",
    "version": 3
   },
   "file_extension": ".py",
   "mimetype": "text/x-python",
   "name": "python",
   "nbconvert_exporter": "python",
   "pygments_lexer": "ipython3",
   "version": "3.8.8"
  },
  "varInspector": {
   "cols": {
    "lenName": 16,
    "lenType": 16,
    "lenVar": 40
   },
   "kernels_config": {
    "python": {
     "delete_cmd_postfix": "",
     "delete_cmd_prefix": "del ",
     "library": "var_list.py",
     "varRefreshCmd": "print(var_dic_list())"
    },
    "r": {
     "delete_cmd_postfix": ") ",
     "delete_cmd_prefix": "rm(",
     "library": "var_list.r",
     "varRefreshCmd": "cat(var_dic_list()) "
    }
   },
   "types_to_exclude": [
    "module",
    "function",
    "builtin_function_or_method",
    "instance",
    "_Feature"
   ],
   "window_display": false
  }
 },
 "nbformat": 4,
 "nbformat_minor": 5
}
