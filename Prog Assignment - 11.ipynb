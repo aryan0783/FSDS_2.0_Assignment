{
 "cells": [
  {
   "cell_type": "markdown",
   "id": "da7f3b82",
   "metadata": {},
   "source": [
    "### 1. Write a Python program to find words which are greater than given length k?"
   ]
  },
  {
   "cell_type": "code",
   "execution_count": 3,
   "id": "dce84b00",
   "metadata": {},
   "outputs": [
    {
     "name": "stdout",
     "output_type": "stream",
     "text": [
      "Enter the k length : 6\n",
      "Enter the string: rohit\n",
      "Enter the string: das\n",
      "Enter the string: karan\n",
      "Enter the string: kundan\n",
      "Enter the string: vivekanand\n",
      "\n",
      "vivekanand\n"
     ]
    }
   ],
   "source": [
    "k = int(input(\"Enter the k length : \"))\n",
    "\n",
    "string = ''\n",
    "\n",
    "while True:\n",
    "    \n",
    "    if len(string)>k:\n",
    "        break\n",
    "\n",
    "    string = input(\"Enter the string: \")\n",
    "    \n",
    "print(f\"\\n{string}\")"
   ]
  },
  {
   "cell_type": "markdown",
   "id": "c0020dcb",
   "metadata": {},
   "source": [
    "### 2. Write a Python program for removing i-th character from a string?"
   ]
  },
  {
   "cell_type": "code",
   "execution_count": 15,
   "id": "06590046",
   "metadata": {},
   "outputs": [
    {
     "name": "stdout",
     "output_type": "stream",
     "text": [
      "Enter the index which element you want to remove : 3\n",
      "aryn\n"
     ]
    }
   ],
   "source": [
    "n = int(input(\"Enter the index which element you want to remove : \"))\n",
    "\n",
    "string = 'aryan'\n",
    "\n",
    "if n>len(string):\n",
    "    \n",
    "    print(\"Index out of range!\")\n",
    "    \n",
    "else:\n",
    "    \n",
    "    string1 = list(string)\n",
    "    string1.pop(n)\n",
    "    \n",
    "    print(\"\".join(string1))"
   ]
  },
  {
   "cell_type": "markdown",
   "id": "ad19b36e",
   "metadata": {},
   "source": [
    "### 3. Write a Python program to split and join a string?"
   ]
  },
  {
   "cell_type": "code",
   "execution_count": 20,
   "id": "49e472bb",
   "metadata": {},
   "outputs": [
    {
     "name": "stdout",
     "output_type": "stream",
     "text": [
      "['aryan', 'das']\n",
      "aryan das\n"
     ]
    }
   ],
   "source": [
    "string = 'aryan das'\n",
    "\n",
    "# split the string :\n",
    "\n",
    "print(string.split())\n",
    "\n",
    "# join the string :\n",
    "\n",
    "print(\" \".join(string.split()))"
   ]
  },
  {
   "cell_type": "markdown",
   "id": "98c65c24",
   "metadata": {},
   "source": [
    "### 4. Write a Python to check if a given string is binary string or not?"
   ]
  },
  {
   "cell_type": "code",
   "execution_count": 27,
   "id": "3a151c88",
   "metadata": {},
   "outputs": [
    {
     "name": "stdout",
     "output_type": "stream",
     "text": [
      "It's not a binary string\n"
     ]
    }
   ],
   "source": [
    "n = '1010121'\n",
    "\n",
    "for i in n:\n",
    "    \n",
    "    if '0' == i or '1' == i:\n",
    "        \n",
    "        continue\n",
    "        \n",
    "    else:\n",
    "        print(\"It's not a binary string\")\n",
    "        break\n",
    "        \n",
    "else:\n",
    "    \n",
    "    print(\"It's a binary string\")"
   ]
  },
  {
   "cell_type": "markdown",
   "id": "207169e0",
   "metadata": {},
   "source": [
    "### 5. Write a Python program to find uncommon words from two Strings?"
   ]
  },
  {
   "cell_type": "code",
   "execution_count": 30,
   "id": "ccd0f5b3",
   "metadata": {},
   "outputs": [
    {
     "name": "stdout",
     "output_type": "stream",
     "text": [
      "['y', 'h', 'o']\n"
     ]
    }
   ],
   "source": [
    "string1 = 'aryan'\n",
    "\n",
    "string2 = 'rohan'\n",
    "\n",
    "uncommon = []\n",
    "\n",
    "for i in set(string1):\n",
    "    \n",
    "    if i not in set(string2):\n",
    "        \n",
    "        if i not in uncommon:\n",
    "            \n",
    "            uncommon.append(i)\n",
    "        \n",
    "for i in set(string2):\n",
    "    \n",
    "    if i not in set(string1):\n",
    "        \n",
    "        if i not in uncommon:\n",
    "            \n",
    "            uncommon.append(i)\n",
    "            \n",
    "print(uncommon)"
   ]
  },
  {
   "cell_type": "markdown",
   "id": "1ff6e5ac",
   "metadata": {},
   "source": [
    "### 6. Write a Python to find all duplicate characters in string?"
   ]
  },
  {
   "cell_type": "code",
   "execution_count": 34,
   "id": "31a6ce0b",
   "metadata": {},
   "outputs": [
    {
     "name": "stdout",
     "output_type": "stream",
     "text": [
      "v\n",
      "a\n",
      "n\n"
     ]
    }
   ],
   "source": [
    "string = 'vivekanand'\n",
    "\n",
    "for i in range(len(string)):\n",
    "    \n",
    "    count = 0\n",
    "    \n",
    "    for j in range(i,len(string)):\n",
    "        \n",
    "        if string[i] == string[j]:\n",
    "            count+=1\n",
    "        \n",
    "    if count>1:\n",
    "        \n",
    "        print(string[i])"
   ]
  },
  {
   "cell_type": "code",
   "execution_count": 36,
   "id": "4bf9cdcf",
   "metadata": {},
   "outputs": [
    {
     "name": "stdout",
     "output_type": "stream",
     "text": [
      "v\n",
      "a\n",
      "n\n"
     ]
    }
   ],
   "source": [
    "# another approach to solve the 6th problem statement :\n",
    "\n",
    "from collections import Counter\n",
    "\n",
    "string = 'vivekanand'\n",
    "\n",
    "for i in Counter(string):\n",
    "    \n",
    "    if Counter(string)[i]>1:\n",
    "        \n",
    "        print(i)"
   ]
  },
  {
   "cell_type": "markdown",
   "id": "3c977015",
   "metadata": {},
   "source": [
    "### 7. Write a Python Program to check if a string contains any special character?"
   ]
  },
  {
   "cell_type": "code",
   "execution_count": 37,
   "id": "0954d8bb",
   "metadata": {},
   "outputs": [
    {
     "name": "stdout",
     "output_type": "stream",
     "text": [
      "Enter the string : ary#$^#o\n",
      "#\n",
      "$\n",
      "^\n",
      "#\n"
     ]
    }
   ],
   "source": [
    "string = input(\"Enter the string : \")\n",
    "\n",
    "for i in string:\n",
    "    \n",
    "    if (ord(i)>=65 and ord(i)<=90) or (ord(i)>=97 and ord(i)<=122) or (ord(i)>=48 and ord(i)<=55):\n",
    "        \n",
    "        continue\n",
    "    \n",
    "    else:\n",
    "        \n",
    "        print(i)"
   ]
  }
 ],
 "metadata": {
  "kernelspec": {
   "display_name": "Python 3",
   "language": "python",
   "name": "python3"
  },
  "language_info": {
   "codemirror_mode": {
    "name": "ipython",
    "version": 3
   },
   "file_extension": ".py",
   "mimetype": "text/x-python",
   "name": "python",
   "nbconvert_exporter": "python",
   "pygments_lexer": "ipython3",
   "version": "3.8.8"
  },
  "varInspector": {
   "cols": {
    "lenName": 16,
    "lenType": 16,
    "lenVar": 40
   },
   "kernels_config": {
    "python": {
     "delete_cmd_postfix": "",
     "delete_cmd_prefix": "del ",
     "library": "var_list.py",
     "varRefreshCmd": "print(var_dic_list())"
    },
    "r": {
     "delete_cmd_postfix": ") ",
     "delete_cmd_prefix": "rm(",
     "library": "var_list.r",
     "varRefreshCmd": "cat(var_dic_list()) "
    }
   },
   "types_to_exclude": [
    "module",
    "function",
    "builtin_function_or_method",
    "instance",
    "_Feature"
   ],
   "window_display": false
  }
 },
 "nbformat": 4,
 "nbformat_minor": 5
}
