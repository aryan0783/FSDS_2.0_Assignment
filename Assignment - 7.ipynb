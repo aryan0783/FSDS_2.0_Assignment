{
 "cells": [
  {
   "cell_type": "markdown",
   "id": "5472d19d",
   "metadata": {},
   "source": [
    "### 1. What is the name of the feature responsible for generating Regex objects?"
   ]
  },
  {
   "cell_type": "markdown",
   "id": "f02f18d4",
   "metadata": {},
   "source": [
    "Feature which is responsible for generating Regex objects is compile()\n"
   ]
  },
  {
   "cell_type": "code",
   "execution_count": 3,
   "id": "295637f2",
   "metadata": {},
   "outputs": [
    {
     "name": "stdout",
     "output_type": "stream",
     "text": [
      "['a', 'a']\n"
     ]
    }
   ],
   "source": [
    "# eg :\n",
    "\n",
    "import re\n",
    "\n",
    "reg = re.compile('[a-g]')\n",
    "\n",
    "string = 'aryan'\n",
    "\n",
    "print(reg.findall(string))"
   ]
  },
  {
   "cell_type": "code",
   "execution_count": 4,
   "id": "bad928cf",
   "metadata": {},
   "outputs": [
    {
     "name": "stdout",
     "output_type": "stream",
     "text": [
      "['nitin']\n"
     ]
    }
   ],
   "source": [
    "# eg :\n",
    "\n",
    "reg = re.compile(r'\\w{5}')\n",
    "\n",
    "string = 'nitin'\n",
    "\n",
    "print(reg.findall(string))"
   ]
  },
  {
   "cell_type": "code",
   "execution_count": 6,
   "id": "53536821",
   "metadata": {},
   "outputs": [
    {
     "name": "stdout",
     "output_type": "stream",
     "text": [
      "[]\n",
      "['ary']\n"
     ]
    }
   ],
   "source": [
    "# eg : \n",
    "\n",
    "reg = re.compile(r'\\bary')\n",
    "\n",
    "string = 'mohit'\n",
    "string1 = 'aryan'\n",
    "\n",
    "print(reg.findall(string))\n",
    "print(reg.findall(string1))"
   ]
  },
  {
   "cell_type": "code",
   "execution_count": 7,
   "id": "a322e1a8",
   "metadata": {},
   "outputs": [
    {
     "name": "stdout",
     "output_type": "stream",
     "text": [
      "['123-455']\n",
      "[]\n"
     ]
    }
   ],
   "source": [
    "# eg :\n",
    "\n",
    "reg = re.compile(r'\\d{3}-\\d{3}')\n",
    "\n",
    "num = '123-455'\n",
    "num1 = '1232-53'\n",
    "\n",
    "print(reg.findall(num))\n",
    "print(reg.findall(num1))"
   ]
  },
  {
   "cell_type": "code",
   "execution_count": 12,
   "id": "7d83c7b4",
   "metadata": {},
   "outputs": [
    {
     "name": "stdout",
     "output_type": "stream",
     "text": [
      "<re.Match object; span=(0, 7), match='123-ary'>\n",
      "\n",
      "None\n"
     ]
    }
   ],
   "source": [
    "# eg :\n",
    "\n",
    "reg = re.compile(r'\\d{3}-\\bary')\n",
    "\n",
    "string = '123-aryan'\n",
    "string1 = '4525-pankaj'\n",
    "\n",
    "print(reg.match(string))\n",
    "print()\n",
    "print(reg.match(string1))"
   ]
  },
  {
   "cell_type": "markdown",
   "id": "88a9bd82",
   "metadata": {},
   "source": [
    "### 2. Why do raw strings often appear in Regex objects?"
   ]
  },
  {
   "cell_type": "markdown",
   "id": "a3ab6fb2",
   "metadata": {},
   "source": [
    "- raw strings often appear in Regex objects because it has certain characters which have some special meaning in python and this will change the meaning of the regex object.\n",
    "<br>\n",
    "\n",
    "- eg : \\b : this is backslash escape character in python"
   ]
  },
  {
   "cell_type": "code",
   "execution_count": 16,
   "id": "500aa69b",
   "metadata": {},
   "outputs": [
    {
     "name": "stdout",
     "output_type": "stream",
     "text": [
      "[]\n"
     ]
    }
   ],
   "source": [
    "# eg :\n",
    "\n",
    "reg = re.compile('\\bar')\n",
    "\n",
    "string = 'aryan'\n",
    "\n",
    "print(reg.findall(string))"
   ]
  },
  {
   "cell_type": "markdown",
   "id": "4c4a65fd",
   "metadata": {},
   "source": [
    "### 3. What is the return value of the search() method?"
   ]
  },
  {
   "cell_type": "markdown",
   "id": "0b9716e7",
   "metadata": {},
   "source": [
    "- it returns the matching object."
   ]
  },
  {
   "cell_type": "code",
   "execution_count": 17,
   "id": "aba7ad89",
   "metadata": {},
   "outputs": [
    {
     "data": {
      "text/plain": [
       "<re.Match object; span=(12, 17), match='aryan'>"
      ]
     },
     "execution_count": 17,
     "metadata": {},
     "output_type": "execute_result"
    }
   ],
   "source": [
    "# eg :\n",
    "\n",
    "import re\n",
    "\n",
    "re.search('aryan','his name is aryan')"
   ]
  },
  {
   "cell_type": "code",
   "execution_count": 18,
   "id": "76798bd1",
   "metadata": {},
   "outputs": [
    {
     "data": {
      "text/plain": [
       "<re.Match object; span=(0, 4), match='Thes'>"
      ]
     },
     "execution_count": 18,
     "metadata": {},
     "output_type": "execute_result"
    }
   ],
   "source": [
    "# eg :\n",
    "\n",
    "import re\n",
    "\n",
    "re.search('^The.','Thesis')"
   ]
  },
  {
   "cell_type": "code",
   "execution_count": 21,
   "id": "61ca0090",
   "metadata": {},
   "outputs": [
    {
     "data": {
      "text/plain": [
       "<re.Match object; span=(33, 39), match='Sudhir'>"
      ]
     },
     "execution_count": 21,
     "metadata": {},
     "output_type": "execute_result"
    }
   ],
   "source": [
    "# eg :\n",
    "\n",
    "re.search('Sudhir+','My friends name are Samay Raina, Sudhir Pathak, Raghav Jain')"
   ]
  },
  {
   "cell_type": "code",
   "execution_count": 23,
   "id": "8e5f7e8e",
   "metadata": {},
   "outputs": [
    {
     "data": {
      "text/plain": [
       "<re.Match object; span=(14, 19), match='March'>"
      ]
     },
     "execution_count": 23,
     "metadata": {},
     "output_type": "execute_result"
    }
   ],
   "source": [
    "# eg :\n",
    "\n",
    "re.search('March$','It is held in March')"
   ]
  },
  {
   "cell_type": "code",
   "execution_count": 24,
   "id": "8a75be82",
   "metadata": {},
   "outputs": [],
   "source": [
    "# eg :\n",
    "\n",
    "re.search('March$','It is held in March and sometimes in April')"
   ]
  },
  {
   "cell_type": "markdown",
   "id": "bbfd2b61",
   "metadata": {},
   "source": [
    "### 4. From a Match item, how do you get the actual strings that match the pattern?"
   ]
  },
  {
   "cell_type": "markdown",
   "id": "ee89af5c",
   "metadata": {},
   "source": [
    "- this scenario can be handled by group()"
   ]
  },
  {
   "cell_type": "code",
   "execution_count": 29,
   "id": "594b0e48",
   "metadata": {},
   "outputs": [
    {
     "name": "stdout",
     "output_type": "stream",
     "text": [
      "Valid number is : 939\n"
     ]
    }
   ],
   "source": [
    "# eg :\n",
    "\n",
    "import re\n",
    "\n",
    "reg = re.compile(r'\\d{3}')\n",
    "\n",
    "result = reg.search('939')\n",
    "\n",
    "if result:\n",
    "    print(\"Valid number is :\",result.group())\n",
    "else:\n",
    "    print('Not found!')"
   ]
  },
  {
   "cell_type": "code",
   "execution_count": 34,
   "id": "92759188",
   "metadata": {},
   "outputs": [
    {
     "name": "stdout",
     "output_type": "stream",
     "text": [
      "Valid string is : ary\n"
     ]
    }
   ],
   "source": [
    "# eg :\n",
    "\n",
    "reg = re.compile(r'\\bary*')\n",
    "\n",
    "result = reg.search('aryan')\n",
    "\n",
    "if result:\n",
    "    print(\"Valid string is :\",result.group())\n",
    "else:\n",
    "    print('Not found!')"
   ]
  },
  {
   "cell_type": "code",
   "execution_count": 42,
   "id": "4c51c531",
   "metadata": {},
   "outputs": [
    {
     "name": "stdout",
     "output_type": "stream",
     "text": [
      "Valid string is : name\n"
     ]
    }
   ],
   "source": [
    "# eg :\n",
    "\n",
    "reg = re.compile(r'\\w{4}')\n",
    "\n",
    "result = reg.search('my name is aryan')\n",
    "\n",
    "if result:\n",
    "    print(\"Valid string is :\",result.group())\n",
    "else:\n",
    "    print('Not found!')"
   ]
  },
  {
   "cell_type": "code",
   "execution_count": 48,
   "id": "6b68797a",
   "metadata": {},
   "outputs": [
    {
     "name": "stdout",
     "output_type": "stream",
     "text": [
      "Valid string is : 3452-niti\n"
     ]
    }
   ],
   "source": [
    "# eg :\n",
    "\n",
    "reg = re.compile(r'^3452-\\w{4}$')\n",
    "\n",
    "result = reg.search('3452-niti')\n",
    "\n",
    "if result:\n",
    "    print(\"Valid string is :\",result.group())\n",
    "else:\n",
    "    print('Not found!')"
   ]
  },
  {
   "cell_type": "code",
   "execution_count": 49,
   "id": "e947ac12",
   "metadata": {},
   "outputs": [
    {
     "name": "stdout",
     "output_type": "stream",
     "text": [
      "Valid string is : aryan\n"
     ]
    }
   ],
   "source": [
    "# eg :\n",
    "\n",
    "reg = re.compile(r'ary..')\n",
    "\n",
    "result = reg.search('aryan')\n",
    "\n",
    "if result:\n",
    "    print(\"Valid string is :\",result.group())\n",
    "else:\n",
    "    print('Not found!')"
   ]
  },
  {
   "cell_type": "markdown",
   "id": "9ff9472c",
   "metadata": {},
   "source": [
    "### 5. In the regex which created from the r&#39;(\\d\\d\\d)-(\\d\\d\\d-\\d\\d\\d\\d)&#39;, what does group zero cover? Group 2? Group 1?"
   ]
  },
  {
   "cell_type": "code",
   "execution_count": 54,
   "id": "5d2c45be",
   "metadata": {},
   "outputs": [
    {
     "data": {
      "text/plain": [
       "'345-323-6538'"
      ]
     },
     "execution_count": 54,
     "metadata": {},
     "output_type": "execute_result"
    }
   ],
   "source": [
    "# group 0\n",
    "\n",
    "reg = re.compile(r'(\\d\\d\\d)-(\\d\\d\\d-\\d\\d\\d\\d)')\n",
    "\n",
    "result = reg.search('345-323-6538')\n",
    "\n",
    "# here group(0) means all the digits\n",
    "result.group(0)"
   ]
  },
  {
   "cell_type": "code",
   "execution_count": 56,
   "id": "96c69cbf",
   "metadata": {},
   "outputs": [
    {
     "data": {
      "text/plain": [
       "'345'"
      ]
     },
     "execution_count": 56,
     "metadata": {},
     "output_type": "execute_result"
    }
   ],
   "source": [
    "# group 1\n",
    "\n",
    "reg = re.compile(r'(\\d\\d\\d)-(\\d\\d\\d-\\d\\d\\d\\d)')\n",
    "\n",
    "result = reg.search('345-323-6538')\n",
    "\n",
    "# here group(1) means first combination :\n",
    "result.group(1)"
   ]
  },
  {
   "cell_type": "code",
   "execution_count": 55,
   "id": "61122900",
   "metadata": {},
   "outputs": [
    {
     "data": {
      "text/plain": [
       "'323-6538'"
      ]
     },
     "execution_count": 55,
     "metadata": {},
     "output_type": "execute_result"
    }
   ],
   "source": [
    "# group 2\n",
    "\n",
    "reg = re.compile(r'(\\d\\d\\d)-(\\d\\d\\d-\\d\\d\\d\\d)')\n",
    "\n",
    "result = reg.search('345-323-6538')\n",
    "\n",
    "# here group(2) means second combination :\n",
    "result.group(2)"
   ]
  },
  {
   "cell_type": "markdown",
   "id": "6a5253a7",
   "metadata": {},
   "source": [
    "### 6. In standard expression syntax, parentheses and intervals have distinct meanings. How can you tell a regex that you want it to fit real parentheses and periods?"
   ]
  },
  {
   "cell_type": "markdown",
   "id": "f54fe3b8",
   "metadata": {},
   "source": [
    "- it is possible by using the backslash (\\)"
   ]
  },
  {
   "cell_type": "code",
   "execution_count": 61,
   "id": "95377ca3",
   "metadata": {},
   "outputs": [
    {
     "data": {
      "text/plain": [
       "<re.Match object; span=(3, 6), match='().'>"
      ]
     },
     "execution_count": 61,
     "metadata": {},
     "output_type": "execute_result"
    }
   ],
   "source": [
    "# eg :\n",
    "\n",
    "reg = re.compile(r'\\(\\)\\.')\n",
    "\n",
    "reg.search('afg().')"
   ]
  },
  {
   "cell_type": "code",
   "execution_count": 76,
   "id": "43ca8cee",
   "metadata": {},
   "outputs": [
    {
     "data": {
      "text/plain": [
       "<re.Match object; span=(5, 7), match='\\\\b'>"
      ]
     },
     "execution_count": 76,
     "metadata": {},
     "output_type": "execute_result"
    }
   ],
   "source": [
    "# eg :\n",
    "\n",
    "reg = re.compile(r'\\\\b')\n",
    "\n",
    "reg.search(r'afofa\\b the ')"
   ]
  },
  {
   "cell_type": "code",
   "execution_count": 77,
   "id": "53c64f58",
   "metadata": {},
   "outputs": [
    {
     "data": {
      "text/plain": [
       "<re.Match object; span=(4, 6), match='\\\\d'>"
      ]
     },
     "execution_count": 77,
     "metadata": {},
     "output_type": "execute_result"
    }
   ],
   "source": [
    "# eg :\n",
    "\n",
    "reg = re.compile(r'\\\\d')\n",
    "\n",
    "reg.search('asfa\\d')"
   ]
  },
  {
   "cell_type": "markdown",
   "id": "43ceedb1",
   "metadata": {},
   "source": [
    "### 7. The findall() method returns a string list or a list of string tuples. What causes it to return one of the two options?"
   ]
  },
  {
   "cell_type": "markdown",
   "id": "997467a8",
   "metadata": {},
   "source": [
    "- it returns list when there is one combination to check.\n",
    "- it returns list of tuples when there is more than one combinations to check."
   ]
  },
  {
   "cell_type": "code",
   "execution_count": 89,
   "id": "caff8834",
   "metadata": {},
   "outputs": [
    {
     "data": {
      "text/plain": [
       "['6', '9']"
      ]
     },
     "execution_count": 89,
     "metadata": {},
     "output_type": "execute_result"
    }
   ],
   "source": [
    "import re\n",
    "\n",
    "# there is one combination to check :\n",
    "reg = re.compile(r'([\\d:**]+)')\n",
    "\n",
    "reg.findall('6pm is the time to come but you came at 9pm')"
   ]
  },
  {
   "cell_type": "code",
   "execution_count": 88,
   "id": "66ec1682",
   "metadata": {},
   "outputs": [
    {
     "data": {
      "text/plain": [
       "[('6', 'pm'), ('9', 'pm')]"
      ]
     },
     "execution_count": 88,
     "metadata": {},
     "output_type": "execute_result"
    }
   ],
   "source": [
    "import re\n",
    "\n",
    "# there are two combinations to check :\n",
    "reg = re.compile(r'([\\d:**]+)(am|pm)*')\n",
    "\n",
    "reg.findall('6pm is the time to come but you came at 9pm')"
   ]
  },
  {
   "cell_type": "markdown",
   "id": "d1bd80e1",
   "metadata": {},
   "source": [
    "### 8. In standard expressions, what does the | character mean?"
   ]
  },
  {
   "cell_type": "markdown",
   "id": "6e8a7849",
   "metadata": {},
   "source": [
    "- | means bitwise or operator"
   ]
  },
  {
   "cell_type": "code",
   "execution_count": 90,
   "id": "da229d14",
   "metadata": {},
   "outputs": [
    {
     "name": "stdout",
     "output_type": "stream",
     "text": [
      "7\n"
     ]
    }
   ],
   "source": [
    "# eg :\n",
    "\n",
    "a = 3        # 0 1 1\n",
    "b = 4        # 1 0 0\n",
    "             # ------\n",
    "print(a | b) # 1 1 1"
   ]
  },
  {
   "cell_type": "markdown",
   "id": "7dd75bb2",
   "metadata": {},
   "source": [
    "### 9. In regular expressions, what does the character stand for?"
   ]
  },
  {
   "cell_type": "markdown",
   "id": "5a9a9c9e",
   "metadata": {},
   "source": [
    "- character in regex stands for the substring that matches itself in the targeted string."
   ]
  },
  {
   "cell_type": "code",
   "execution_count": 95,
   "id": "a8c280a9",
   "metadata": {},
   "outputs": [
    {
     "data": {
      "text/plain": [
       "['a', 'a']"
      ]
     },
     "execution_count": 95,
     "metadata": {},
     "output_type": "execute_result"
    }
   ],
   "source": [
    "# eg :\n",
    "\n",
    "import re\n",
    "\n",
    "reg = re.compile(r'[a]')\n",
    "\n",
    "reg.findall('aryan')"
   ]
  },
  {
   "cell_type": "markdown",
   "id": "7689715b",
   "metadata": {},
   "source": [
    "### 10.In regular expressions, what is the difference between the + and * characters?"
   ]
  },
  {
   "cell_type": "markdown",
   "id": "3390e76c",
   "metadata": {},
   "source": [
    "```\n",
    "+ is used to check the one or more occurences of character.\n",
    "* is used to check the zero or more occurences of character.\n",
    "```"
   ]
  },
  {
   "cell_type": "code",
   "execution_count": 104,
   "id": "6257f7ee",
   "metadata": {},
   "outputs": [
    {
     "data": {
      "text/plain": [
       "['World']"
      ]
     },
     "execution_count": 104,
     "metadata": {},
     "output_type": "execute_result"
    }
   ],
   "source": [
    "# eg of +\n",
    "\n",
    "import re\n",
    "\n",
    "reg = re.compile(r'Wor.+d')\n",
    "\n",
    "reg.findall('World')"
   ]
  },
  {
   "cell_type": "code",
   "execution_count": 105,
   "id": "5e2c7706",
   "metadata": {},
   "outputs": [
    {
     "data": {
      "text/plain": [
       "[]"
      ]
     },
     "execution_count": 105,
     "metadata": {},
     "output_type": "execute_result"
    }
   ],
   "source": [
    "# eg of +\n",
    "\n",
    "import re\n",
    "\n",
    "reg = re.compile(r'Wor.+d')\n",
    "\n",
    "reg.findall('Word')"
   ]
  },
  {
   "cell_type": "code",
   "execution_count": 106,
   "id": "88e8eff3",
   "metadata": {},
   "outputs": [
    {
     "data": {
      "text/plain": [
       "['World']"
      ]
     },
     "execution_count": 106,
     "metadata": {},
     "output_type": "execute_result"
    }
   ],
   "source": [
    "# eg of *\n",
    "\n",
    "import re\n",
    "\n",
    "reg = re.compile(r'Wo.*d')\n",
    "\n",
    "reg.findall('World')"
   ]
  },
  {
   "cell_type": "code",
   "execution_count": 107,
   "id": "f2be2ed2",
   "metadata": {},
   "outputs": [
    {
     "data": {
      "text/plain": [
       "['Word']"
      ]
     },
     "execution_count": 107,
     "metadata": {},
     "output_type": "execute_result"
    }
   ],
   "source": [
    "# eg of *\n",
    "\n",
    "import re\n",
    "\n",
    "reg = re.compile(r'Wo.*d')\n",
    "\n",
    "reg.findall('Word')"
   ]
  },
  {
   "cell_type": "markdown",
   "id": "51c53377",
   "metadata": {},
   "source": [
    "### 11. What is the difference between {4} and {4,5} in regular expression?"
   ]
  },
  {
   "cell_type": "markdown",
   "id": "88adea01",
   "metadata": {},
   "source": [
    "- {4} is to define the length of characters\n",
    "- {4,5} is to define the range of length of characters."
   ]
  },
  {
   "cell_type": "code",
   "execution_count": 108,
   "id": "30a5c64b",
   "metadata": {},
   "outputs": [
    {
     "data": {
      "text/plain": [
       "['4583']"
      ]
     },
     "execution_count": 108,
     "metadata": {},
     "output_type": "execute_result"
    }
   ],
   "source": [
    "reg = re.compile(r'\\d{4}')\n",
    "\n",
    "reg.findall('4583')"
   ]
  },
  {
   "cell_type": "code",
   "execution_count": 113,
   "id": "4293c347",
   "metadata": {},
   "outputs": [
    {
     "data": {
      "text/plain": [
       "['45856']"
      ]
     },
     "execution_count": 113,
     "metadata": {},
     "output_type": "execute_result"
    }
   ],
   "source": [
    "reg = re.compile(r'\\d{4,8}')\n",
    "\n",
    "reg.findall('45856')"
   ]
  },
  {
   "cell_type": "markdown",
   "id": "fbababd8",
   "metadata": {},
   "source": [
    "### 12. What do you mean by the \\d, \\w, and \\s shorthand character classes signify in regular expressions?"
   ]
  },
  {
   "cell_type": "markdown",
   "id": "07f9c892",
   "metadata": {},
   "source": [
    "- \\d returns a match where string contains digits\n",
    "- \\w returns a match where string contains alphabet,digits and underscore\n",
    "- \\s returns a match where string contains white space"
   ]
  },
  {
   "cell_type": "code",
   "execution_count": 116,
   "id": "f3c8e6e2",
   "metadata": {},
   "outputs": [
    {
     "data": {
      "text/plain": [
       "['4554']"
      ]
     },
     "execution_count": 116,
     "metadata": {},
     "output_type": "execute_result"
    }
   ],
   "source": [
    "# \\d :\n",
    "\n",
    "import re\n",
    "\n",
    "reg = re.compile('\\d{4}')\n",
    "\n",
    "reg.findall('4554asdh')"
   ]
  },
  {
   "cell_type": "code",
   "execution_count": 117,
   "id": "b7f0179f",
   "metadata": {},
   "outputs": [
    {
     "data": {
      "text/plain": [
       "['fasfa']"
      ]
     },
     "execution_count": 117,
     "metadata": {},
     "output_type": "execute_result"
    }
   ],
   "source": [
    "# \\w :\n",
    "\n",
    "import re\n",
    "\n",
    "reg = re.compile('\\w{5}')\n",
    "\n",
    "reg.findall('fasfa')"
   ]
  },
  {
   "cell_type": "code",
   "execution_count": 119,
   "id": "d8610351",
   "metadata": {},
   "outputs": [
    {
     "data": {
      "text/plain": [
       "['fasf sf']"
      ]
     },
     "execution_count": 119,
     "metadata": {},
     "output_type": "execute_result"
    }
   ],
   "source": [
    "# \\s :\n",
    "\n",
    "import re\n",
    "\n",
    "reg = re.compile('\\w{4}\\s\\w{2}')\n",
    "\n",
    "reg.findall('fasf sf')"
   ]
  },
  {
   "cell_type": "markdown",
   "id": "82f06c54",
   "metadata": {},
   "source": [
    "### 13. What do means by \\D, \\W, and \\S shorthand character classes signify in regular expressions?"
   ]
  },
  {
   "cell_type": "markdown",
   "id": "c6ef3214",
   "metadata": {},
   "source": [
    "- \\D : returns match where string does not contain digit. \n",
    "- \\W : returns match where string does not contain word.\n",
    "- \\S : returns match where string does not contain white space character."
   ]
  },
  {
   "cell_type": "code",
   "execution_count": 128,
   "id": "52aeb6e8",
   "metadata": {},
   "outputs": [
    {
     "data": {
      "text/plain": [
       "['a', 'd', 'k', 'j', 'h', 's', 'h']"
      ]
     },
     "execution_count": 128,
     "metadata": {},
     "output_type": "execute_result"
    }
   ],
   "source": [
    "# \\D :\n",
    "\n",
    "import re\n",
    "\n",
    "reg = re.compile('\\D')\n",
    "\n",
    "reg.findall('ad45kjhsh')"
   ]
  },
  {
   "cell_type": "code",
   "execution_count": 127,
   "id": "c2088478",
   "metadata": {},
   "outputs": [
    {
     "data": {
      "text/plain": [
       "[' ']"
      ]
     },
     "execution_count": 127,
     "metadata": {},
     "output_type": "execute_result"
    }
   ],
   "source": [
    "# \\W :\n",
    "\n",
    "import re\n",
    "\n",
    "reg = re.compile('\\W')\n",
    "\n",
    "reg.findall('ad334 ')"
   ]
  },
  {
   "cell_type": "code",
   "execution_count": 126,
   "id": "f99fbe00",
   "metadata": {},
   "outputs": [
    {
     "data": {
      "text/plain": [
       "['a', 'd', 's', 'a', 'f', 'e', 'd', 'f', 'a']"
      ]
     },
     "execution_count": 126,
     "metadata": {},
     "output_type": "execute_result"
    }
   ],
   "source": [
    "# \\S :\n",
    "\n",
    "import re\n",
    "\n",
    "reg = re.compile('\\S')\n",
    "\n",
    "reg.findall('adsaf edfa')"
   ]
  },
  {
   "cell_type": "markdown",
   "id": "40307102",
   "metadata": {},
   "source": [
    "### 14. What do you mean by `.*?` ?"
   ]
  },
  {
   "cell_type": "code",
   "execution_count": 132,
   "id": "a9ba33f7",
   "metadata": {},
   "outputs": [
    {
     "data": {
      "text/plain": [
       "['', 'a', '', 'c', '', 'v', '']"
      ]
     },
     "execution_count": 132,
     "metadata": {},
     "output_type": "execute_result"
    }
   ],
   "source": [
    "# .*?\n",
    "\n",
    "import re\n",
    "\n",
    "reg = re.compile(r'.*?')\n",
    "\n",
    "reg.findall('acv')"
   ]
  },
  {
   "cell_type": "markdown",
   "id": "c26e1056",
   "metadata": {},
   "source": [
    "### 15. What is the syntax for matching both numbers and lowercase letters with a character class? "
   ]
  },
  {
   "cell_type": "code",
   "execution_count": 133,
   "id": "a8492159",
   "metadata": {},
   "outputs": [
    {
     "data": {
      "text/plain": [
       "['a', 'f', 'a', 'f', 'f', '7', '9', '8', '6', '9', '6']"
      ]
     },
     "execution_count": 133,
     "metadata": {},
     "output_type": "execute_result"
    }
   ],
   "source": [
    "import re\n",
    "\n",
    "reg = re.compile(r'[a-z0-9]')\n",
    "\n",
    "reg.findall('afaff798696ABC')"
   ]
  },
  {
   "cell_type": "markdown",
   "id": "536f250a",
   "metadata": {},
   "source": [
    "### 16. What is the procedure for making a normal expression in regax case insensitive?"
   ]
  },
  {
   "cell_type": "markdown",
   "id": "d23a3521",
   "metadata": {},
   "source": [
    "- by using re.IGNORECASE flag"
   ]
  },
  {
   "cell_type": "code",
   "execution_count": 135,
   "id": "3fe2359e",
   "metadata": {},
   "outputs": [
    {
     "data": {
      "text/plain": [
       "['ArYan']"
      ]
     },
     "execution_count": 135,
     "metadata": {},
     "output_type": "execute_result"
    }
   ],
   "source": [
    "import re\n",
    "\n",
    "reg = re.compile('aryan',re.IGNORECASE)\n",
    "\n",
    "reg.findall('my name is ArYan')"
   ]
  },
  {
   "cell_type": "markdown",
   "id": "f4d44522",
   "metadata": {},
   "source": [
    "### 17. What does the . character normally match? What does it match if re.DOTALL is passed as 2nd argument in re.compile()?"
   ]
  },
  {
   "cell_type": "markdown",
   "id": "56d24742",
   "metadata": {},
   "source": [
    "- . character matches any character except new line character.\n",
    "- using re.DOTALL flag will change the behaviour of the . character as it will consider the new character also."
   ]
  },
  {
   "cell_type": "code",
   "execution_count": 136,
   "id": "55a7ed22",
   "metadata": {},
   "outputs": [
    {
     "data": {
      "text/plain": [
       "<re.Match object; span=(0, 10), match='Assignment'>"
      ]
     },
     "execution_count": 136,
     "metadata": {},
     "output_type": "execute_result"
    }
   ],
   "source": [
    "import re\n",
    "\n",
    "reg = re.compile('.+')\n",
    "\n",
    "reg.search('Assignment\\nWork')"
   ]
  },
  {
   "cell_type": "code",
   "execution_count": 137,
   "id": "bb21ecc5",
   "metadata": {},
   "outputs": [
    {
     "data": {
      "text/plain": [
       "<re.Match object; span=(0, 15), match='Assignment\\nWork'>"
      ]
     },
     "execution_count": 137,
     "metadata": {},
     "output_type": "execute_result"
    }
   ],
   "source": [
    "import re\n",
    "\n",
    "reg = re.compile('.+',re.DOTALL)\n",
    "\n",
    "reg.search('Assignment\\nWork')"
   ]
  },
  {
   "cell_type": "markdown",
   "id": "b540f7b8",
   "metadata": {},
   "source": [
    "### 18. If numReg = re.compile(r&#39;\\d+&#39;), what will numRegex.sub(&#39;X&#39;, &#39;11 drummers, 10 pipers, five rings, 4hen&#39;) return?"
   ]
  },
  {
   "cell_type": "code",
   "execution_count": 138,
   "id": "44472ef5",
   "metadata": {},
   "outputs": [
    {
     "data": {
      "text/plain": [
       "'X drummers, X pipers, five rings, Xhen'"
      ]
     },
     "execution_count": 138,
     "metadata": {},
     "output_type": "execute_result"
    }
   ],
   "source": [
    "import re\n",
    "\n",
    "numReg = re.compile(r'\\d+')\n",
    "\n",
    "# replace the number string :\n",
    "numReg.sub('X', '11 drummers, 10 pipers, five rings, 4hen')"
   ]
  },
  {
   "cell_type": "markdown",
   "id": "3f3748a0",
   "metadata": {},
   "source": [
    "### 19. What does passing re.VERBOSE as the 2nd argument to re.compile() allow to do?"
   ]
  },
  {
   "cell_type": "markdown",
   "id": "a07cb68b",
   "metadata": {},
   "source": [
    "- re.VERBOSE flag will help to beautify the regular experssion."
   ]
  },
  {
   "cell_type": "code",
   "execution_count": 142,
   "id": "bb2d5e84",
   "metadata": {},
   "outputs": [],
   "source": [
    "# eg :\n",
    "\n",
    "regex_email = re.compile(r'''^([a-z0-9_\\.-]+)@([0-9a-z\\.-]+)\\.([a-z\\.]{2, 6})$''')"
   ]
  },
  {
   "cell_type": "code",
   "execution_count": 146,
   "id": "17659527",
   "metadata": {},
   "outputs": [],
   "source": [
    "regex_email = re.compile(r'''^([a-z0-9_\\.-]+)    # local part\n",
    "                @                                 # single @ sign\n",
    "                ([0-9a-z\\.-]+)\n",
    "                \\.\n",
    "                ([a-z\\.]{2, 6})$                  # domain\n",
    "              ''' ,re.VERBOSE)"
   ]
  },
  {
   "cell_type": "markdown",
   "id": "cdb0a650",
   "metadata": {},
   "source": [
    "### 20. How would you write a regex that match a number with comma for every three digits? \n",
    "\n",
    "```\n",
    "It must match the given following:\n",
    "\n",
    "'42'\n",
    "\n",
    "'1,234'\n",
    "\n",
    "'6,368,745'\n",
    "\n",
    "but not the following:\n",
    "\n",
    "'12,34,567' (which has only two digits between the commas)\n",
    "\n",
    "'1234' (which lacks commas)\n",
    "```"
   ]
  },
  {
   "cell_type": "code",
   "execution_count": 234,
   "id": "e198285e",
   "metadata": {},
   "outputs": [],
   "source": [
    "# created function to check the number pattern through regex :\n",
    "\n",
    "import re\n",
    "\n",
    "def num_pattern(num):\n",
    "    \n",
    "    if type(num) == str:\n",
    "        \n",
    "        reg = re.compile(r'(\\d{0,3},)?(\\d{3},)?(\\d{0,3})')\n",
    "\n",
    "        result = reg.search(num)\n",
    "        \n",
    "        if result:\n",
    "            if result.group() == num:\n",
    "                return 'Pattern Matched'\n",
    "            \n",
    "        return 'Pattern Not Matched!'"
   ]
  },
  {
   "cell_type": "code",
   "execution_count": 235,
   "id": "7b97e606",
   "metadata": {},
   "outputs": [
    {
     "data": {
      "text/plain": [
       "'Pattern Matched'"
      ]
     },
     "execution_count": 235,
     "metadata": {},
     "output_type": "execute_result"
    }
   ],
   "source": [
    "# '42'\n",
    "\n",
    "num_pattern('42')"
   ]
  },
  {
   "cell_type": "code",
   "execution_count": 236,
   "id": "5ee9fd0e",
   "metadata": {},
   "outputs": [
    {
     "data": {
      "text/plain": [
       "'Pattern Matched'"
      ]
     },
     "execution_count": 236,
     "metadata": {},
     "output_type": "execute_result"
    }
   ],
   "source": [
    "# '1,234'\n",
    "\n",
    "num_pattern('1,234')"
   ]
  },
  {
   "cell_type": "code",
   "execution_count": 237,
   "id": "00d9e292",
   "metadata": {},
   "outputs": [
    {
     "data": {
      "text/plain": [
       "'Pattern Matched'"
      ]
     },
     "execution_count": 237,
     "metadata": {},
     "output_type": "execute_result"
    }
   ],
   "source": [
    "# '6,368,745'\n",
    "\n",
    "num_pattern('6,368,745')"
   ]
  },
  {
   "cell_type": "code",
   "execution_count": 238,
   "id": "8d11e2e1",
   "metadata": {},
   "outputs": [
    {
     "data": {
      "text/plain": [
       "'Pattern Not Matched!'"
      ]
     },
     "execution_count": 238,
     "metadata": {},
     "output_type": "execute_result"
    }
   ],
   "source": [
    "# '12,34,567'\n",
    "\n",
    "num_pattern('12,34,567')"
   ]
  },
  {
   "cell_type": "code",
   "execution_count": 239,
   "id": "db25ad65",
   "metadata": {},
   "outputs": [
    {
     "data": {
      "text/plain": [
       "'Pattern Not Matched!'"
      ]
     },
     "execution_count": 239,
     "metadata": {},
     "output_type": "execute_result"
    }
   ],
   "source": [
    "# 1234\n",
    "\n",
    "num_pattern('1234')"
   ]
  },
  {
   "cell_type": "markdown",
   "id": "17d3004d",
   "metadata": {},
   "source": [
    "### 21. How would you write a regex that matches the full name of someone whose last name is Watanabe? You can assume that the first name that comes before it will always be one word that begins with a capital letter. \n",
    "\n",
    "```\n",
    "The regex must match the following: \n",
    "'Haruto Watanabe' \n",
    "'Alice Watanabe' \n",
    "'RoboCop Watanabe' \n",
    "\n",
    "but not the following: \n",
    "'haruto Watanabe' (where the first name is not capitalized) \n",
    "'Mr. Watanabe' (where the preceding word has a nonletter character) 'Watanabe' (which has no first name) \n",
    "'Haruto watanabe' (where Watanabe is not capitalized)\n",
    "```"
   ]
  },
  {
   "cell_type": "code",
   "execution_count": 229,
   "id": "8d005a1c",
   "metadata": {},
   "outputs": [],
   "source": [
    "import re\n",
    "\n",
    "def name_pattern(name):\n",
    "    \n",
    "    if type(name) == str:\n",
    "        \n",
    "        reg = re.compile(r'^[A-Z]\\w+\\s[A-Z]\\w+')\n",
    "\n",
    "        result = reg.search(name)\n",
    "        \n",
    "        if result :\n",
    "            if result.group() == name:\n",
    "                return 'Pattern Matched'\n",
    "            \n",
    "        return 'Pattern Not Matched!'"
   ]
  },
  {
   "cell_type": "code",
   "execution_count": 223,
   "id": "6cdb7b55",
   "metadata": {},
   "outputs": [
    {
     "name": "stdout",
     "output_type": "stream",
     "text": [
      "Haruto Watanabe\n"
     ]
    },
    {
     "data": {
      "text/plain": [
       "'Pattern Matched'"
      ]
     },
     "execution_count": 223,
     "metadata": {},
     "output_type": "execute_result"
    }
   ],
   "source": [
    "# 'Haruto Watanabe'\n",
    "\n",
    "name_pattern('Haruto Watanabe')"
   ]
  },
  {
   "cell_type": "code",
   "execution_count": 224,
   "id": "18f936e7",
   "metadata": {},
   "outputs": [
    {
     "name": "stdout",
     "output_type": "stream",
     "text": [
      "Alice Watanabe\n"
     ]
    },
    {
     "data": {
      "text/plain": [
       "'Pattern Matched'"
      ]
     },
     "execution_count": 224,
     "metadata": {},
     "output_type": "execute_result"
    }
   ],
   "source": [
    "# 'Alice Watanabe'\n",
    "\n",
    "name_pattern('Alice Watanabe')"
   ]
  },
  {
   "cell_type": "code",
   "execution_count": 225,
   "id": "6ad28ae6",
   "metadata": {},
   "outputs": [
    {
     "name": "stdout",
     "output_type": "stream",
     "text": [
      "RoboCop Watanabe\n"
     ]
    },
    {
     "data": {
      "text/plain": [
       "'Pattern Matched'"
      ]
     },
     "execution_count": 225,
     "metadata": {},
     "output_type": "execute_result"
    }
   ],
   "source": [
    "# 'RoboCop Watanabe'\n",
    "\n",
    "name_pattern('RoboCop Watanabe')"
   ]
  },
  {
   "cell_type": "code",
   "execution_count": 230,
   "id": "e3e2bfa5",
   "metadata": {},
   "outputs": [
    {
     "data": {
      "text/plain": [
       "'Pattern Not Matched!'"
      ]
     },
     "execution_count": 230,
     "metadata": {},
     "output_type": "execute_result"
    }
   ],
   "source": [
    "# 'haruto Watanabe'\n",
    "\n",
    "name_pattern('haruto Watanabe')"
   ]
  },
  {
   "cell_type": "code",
   "execution_count": 231,
   "id": "8e31d29d",
   "metadata": {},
   "outputs": [
    {
     "data": {
      "text/plain": [
       "'Pattern Not Matched!'"
      ]
     },
     "execution_count": 231,
     "metadata": {},
     "output_type": "execute_result"
    }
   ],
   "source": [
    "# 'Mr. Watanabe'\n",
    "\n",
    "name_pattern('Mr. Watanabe')"
   ]
  },
  {
   "cell_type": "code",
   "execution_count": 232,
   "id": "c271f143",
   "metadata": {},
   "outputs": [
    {
     "data": {
      "text/plain": [
       "'Pattern Not Matched!'"
      ]
     },
     "execution_count": 232,
     "metadata": {},
     "output_type": "execute_result"
    }
   ],
   "source": [
    "# 'Watanabe'\n",
    "\n",
    "name_pattern('Watanabe')"
   ]
  },
  {
   "cell_type": "code",
   "execution_count": 233,
   "id": "13aef557",
   "metadata": {},
   "outputs": [
    {
     "data": {
      "text/plain": [
       "'Pattern Not Matched!'"
      ]
     },
     "execution_count": 233,
     "metadata": {},
     "output_type": "execute_result"
    }
   ],
   "source": [
    "# 'Haruto watanabe'\n",
    "\n",
    "name_pattern('Haruto watanabe')"
   ]
  },
  {
   "cell_type": "markdown",
   "id": "e56e422f",
   "metadata": {},
   "source": [
    "### 22. How would you write a regex that matches a sentence where the first word is either Alice, Bob, or Carol; the second word is either eats, pets, or throws; the third word is apples, cats, or baseballs; and the sentence ends with a period? This regex should be case-insensitive. \n",
    "\n",
    "```\n",
    "It must match the following:\n",
    "\n",
    "Alice eats apples.\n",
    "Bob pets cats.\n",
    "Carol throws baseballs.\n",
    "Alice throws Apples.\n",
    "BOB EATS CATS.\n",
    "\n",
    "but not the following:\n",
    "\n",
    "RoboCop eats apples.\n",
    "ALICE THROWS FOOTBALLS.\n",
    "Carol eats 7 cats.\n",
    "\n",
    "```"
   ]
  },
  {
   "cell_type": "code",
   "execution_count": 319,
   "id": "191094e9",
   "metadata": {},
   "outputs": [],
   "source": [
    "# creating a function to check the valid sentence :\n",
    "\n",
    "import re\n",
    "\n",
    "def string_pattern(string):\n",
    "    \n",
    "    if type(string) == str:\n",
    "        \n",
    "        reg = re.compile(r'^(Alice|Bob|Carol) (eats|pets|throws) (apples|cats|baseballs).$',re.IGNORECASE)\n",
    "\n",
    "        result = reg.search(string)\n",
    "        \n",
    "        if result :\n",
    "            \n",
    "            if result.group() == string:\n",
    "                return 'Pattern Matched'\n",
    "            \n",
    "        return 'Pattern Not Matched!'"
   ]
  },
  {
   "cell_type": "code",
   "execution_count": 320,
   "id": "72ebe143",
   "metadata": {},
   "outputs": [
    {
     "data": {
      "text/plain": [
       "'Pattern Matched'"
      ]
     },
     "execution_count": 320,
     "metadata": {},
     "output_type": "execute_result"
    }
   ],
   "source": [
    "# 'Alice eats apples.'\n",
    "\n",
    "string_pattern('Alice eats apples.')"
   ]
  },
  {
   "cell_type": "code",
   "execution_count": 321,
   "id": "9d3da397",
   "metadata": {},
   "outputs": [
    {
     "data": {
      "text/plain": [
       "'Pattern Matched'"
      ]
     },
     "execution_count": 321,
     "metadata": {},
     "output_type": "execute_result"
    }
   ],
   "source": [
    "# 'Bob pets cats.'\n",
    "\n",
    "string_pattern('Bob pets cats.')"
   ]
  },
  {
   "cell_type": "code",
   "execution_count": 322,
   "id": "06825973",
   "metadata": {},
   "outputs": [
    {
     "data": {
      "text/plain": [
       "'Pattern Matched'"
      ]
     },
     "execution_count": 322,
     "metadata": {},
     "output_type": "execute_result"
    }
   ],
   "source": [
    "# 'Carol throws baseballs.'\n",
    "\n",
    "string_pattern('Carol throws baseballs.')"
   ]
  },
  {
   "cell_type": "code",
   "execution_count": 323,
   "id": "bb3fbcf7",
   "metadata": {},
   "outputs": [
    {
     "data": {
      "text/plain": [
       "'Pattern Matched'"
      ]
     },
     "execution_count": 323,
     "metadata": {},
     "output_type": "execute_result"
    }
   ],
   "source": [
    "# 'BOB EATS CATS.'\n",
    "\n",
    "string_pattern('BOB EATS CATS.')"
   ]
  },
  {
   "cell_type": "code",
   "execution_count": 324,
   "id": "683b6468",
   "metadata": {},
   "outputs": [
    {
     "data": {
      "text/plain": [
       "'Pattern Not Matched!'"
      ]
     },
     "execution_count": 324,
     "metadata": {},
     "output_type": "execute_result"
    }
   ],
   "source": [
    "# 'RoboCop eats apples.'\n",
    "\n",
    "string_pattern('RoboCop eats apples.')"
   ]
  },
  {
   "cell_type": "code",
   "execution_count": 325,
   "id": "ec35dbf6",
   "metadata": {},
   "outputs": [
    {
     "data": {
      "text/plain": [
       "'Pattern Not Matched!'"
      ]
     },
     "execution_count": 325,
     "metadata": {},
     "output_type": "execute_result"
    }
   ],
   "source": [
    "# 'ALICE THROWS FOOTBALLS.'\n",
    "\n",
    "string_pattern('ALICE THROWS FOOTBALLS.')"
   ]
  },
  {
   "cell_type": "code",
   "execution_count": 326,
   "id": "a26958ff",
   "metadata": {},
   "outputs": [
    {
     "data": {
      "text/plain": [
       "'Pattern Not Matched!'"
      ]
     },
     "execution_count": 326,
     "metadata": {},
     "output_type": "execute_result"
    }
   ],
   "source": [
    "# 'Carol eats 7 cats.'\n",
    "\n",
    "string_pattern('Carol eats 7 cats.')"
   ]
  }
 ],
 "metadata": {
  "kernelspec": {
   "display_name": "Python 3",
   "language": "python",
   "name": "python3"
  },
  "language_info": {
   "codemirror_mode": {
    "name": "ipython",
    "version": 3
   },
   "file_extension": ".py",
   "mimetype": "text/x-python",
   "name": "python",
   "nbconvert_exporter": "python",
   "pygments_lexer": "ipython3",
   "version": "3.8.8"
  },
  "varInspector": {
   "cols": {
    "lenName": 16,
    "lenType": 16,
    "lenVar": 40
   },
   "kernels_config": {
    "python": {
     "delete_cmd_postfix": "",
     "delete_cmd_prefix": "del ",
     "library": "var_list.py",
     "varRefreshCmd": "print(var_dic_list())"
    },
    "r": {
     "delete_cmd_postfix": ") ",
     "delete_cmd_prefix": "rm(",
     "library": "var_list.r",
     "varRefreshCmd": "cat(var_dic_list()) "
    }
   },
   "types_to_exclude": [
    "module",
    "function",
    "builtin_function_or_method",
    "instance",
    "_Feature"
   ],
   "window_display": false
  }
 },
 "nbformat": 4,
 "nbformat_minor": 5
}
