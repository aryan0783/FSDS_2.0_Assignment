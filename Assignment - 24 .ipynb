{
 "cells": [
  {
   "cell_type": "markdown",
   "id": "04f391d7",
   "metadata": {},
   "source": [
    "### 1. What is the relationship between def statements and lambda expressions ?"
   ]
  },
  {
   "cell_type": "markdown",
   "id": "bcad3d5a",
   "metadata": {},
   "source": [
    "- def statements is used to create user defined functions in python.\n",
    "- functions created by def statement contains multiple line.\n",
    "\n",
    "\n",
    "- lambda statement is used to define anonymous function.\n",
    "- lambda functions are the one liner functions"
   ]
  },
  {
   "cell_type": "code",
   "execution_count": 1,
   "id": "5110f526",
   "metadata": {},
   "outputs": [],
   "source": [
    "# eg of def statement :\n",
    "\n",
    "def func():\n",
    "    \n",
    "    return \"Hello World!\""
   ]
  },
  {
   "cell_type": "code",
   "execution_count": 2,
   "id": "7a1fc347",
   "metadata": {},
   "outputs": [
    {
     "name": "stdout",
     "output_type": "stream",
     "text": [
      "4\n"
     ]
    }
   ],
   "source": [
    "# eg of lambda statement :\n",
    "\n",
    "n = lambda a : a**2\n",
    "\n",
    "print(n(2))"
   ]
  },
  {
   "cell_type": "markdown",
   "id": "1c1056b5",
   "metadata": {},
   "source": [
    "### 2. What is the benefit of lambda?"
   ]
  },
  {
   "cell_type": "markdown",
   "id": "63fb65c1",
   "metadata": {},
   "source": [
    "- no need to give any name to the function\n",
    "- it evaluates single expression so it is easy to understand"
   ]
  },
  {
   "cell_type": "code",
   "execution_count": 4,
   "id": "25f99615",
   "metadata": {},
   "outputs": [
    {
     "name": "stdout",
     "output_type": "stream",
     "text": [
      "Odd\n"
     ]
    }
   ],
   "source": [
    "# eg of lambda :\n",
    "\n",
    "n = lambda a : \"Even\" if a%2==0 else \"Odd\"\n",
    "print(n(5))"
   ]
  },
  {
   "cell_type": "markdown",
   "id": "5ef0a0ee",
   "metadata": {},
   "source": [
    "### 3. Compare and contrast map, filter, and reduce."
   ]
  },
  {
   "cell_type": "markdown",
   "id": "865b9d08",
   "metadata": {},
   "source": [
    "#### map\n",
    "\n",
    "- it maps the each element of the iterable to the function.\n",
    "\n",
    "#### filter\n",
    "\n",
    "- it filter the elements of the iterable based on the function.\n",
    "\n",
    "#### reduce\n",
    "\n",
    "- it provide the single value for the iterable based on the function."
   ]
  },
  {
   "cell_type": "code",
   "execution_count": 5,
   "id": "728a09dc",
   "metadata": {},
   "outputs": [
    {
     "name": "stdout",
     "output_type": "stream",
     "text": [
      "[2, 5, 4, 5]\n"
     ]
    }
   ],
   "source": [
    "# map:\n",
    "\n",
    "strings = ['ok','aryan','cool','pizza']\n",
    "\n",
    "print(list(map(len,strings)))"
   ]
  },
  {
   "cell_type": "code",
   "execution_count": 12,
   "id": "b6c9c9a4",
   "metadata": {},
   "outputs": [
    {
     "name": "stdout",
     "output_type": "stream",
     "text": [
      "[2, 4, 6]\n"
     ]
    }
   ],
   "source": [
    "# filter :\n",
    "\n",
    "values = [1,2,3,4,5,6]\n",
    "\n",
    "print(list(filter(lambda a : (a%2==0),values)))"
   ]
  },
  {
   "cell_type": "code",
   "execution_count": 14,
   "id": "a6fdc8e3",
   "metadata": {},
   "outputs": [
    {
     "name": "stdout",
     "output_type": "stream",
     "text": [
      "120\n"
     ]
    }
   ],
   "source": [
    "# reduce :\n",
    "\n",
    "from functools import reduce\n",
    "\n",
    "values = [1,2,3,4,5]\n",
    "\n",
    "print(reduce(lambda a,b:a*b,values))"
   ]
  },
  {
   "cell_type": "markdown",
   "id": "3746aceb",
   "metadata": {},
   "source": [
    "### 4. What are function annotations, and how are they used?"
   ]
  },
  {
   "cell_type": "markdown",
   "id": "534a02f8",
   "metadata": {},
   "source": [
    "- function annotations are the tool which make easy for the reader to read the code.\n",
    "\n",
    "```\n",
    "# syntax :\n",
    "\n",
    "# def foobar(a: expression, b: expression = 5) -> return_type:\n",
    "#   pass\n",
    "```"
   ]
  },
  {
   "cell_type": "code",
   "execution_count": 16,
   "id": "4de0253a",
   "metadata": {},
   "outputs": [],
   "source": [
    "# eg :\n",
    "\n",
    "def max_finder(a : int , b : int) -> int:\n",
    "\n",
    "    if a>=b:\n",
    "        \n",
    "        return a\n",
    "    \n",
    "    else:\n",
    "        \n",
    "        return b"
   ]
  },
  {
   "cell_type": "code",
   "execution_count": 17,
   "id": "e7119184",
   "metadata": {},
   "outputs": [
    {
     "data": {
      "text/plain": [
       "23"
      ]
     },
     "execution_count": 17,
     "metadata": {},
     "output_type": "execute_result"
    }
   ],
   "source": [
    "max_finder(23,3)"
   ]
  },
  {
   "cell_type": "code",
   "execution_count": 18,
   "id": "cc3b2049",
   "metadata": {},
   "outputs": [
    {
     "data": {
      "text/plain": [
       "34"
      ]
     },
     "execution_count": 18,
     "metadata": {},
     "output_type": "execute_result"
    }
   ],
   "source": [
    "max_finder(34,34)"
   ]
  },
  {
   "cell_type": "markdown",
   "id": "9f89f3cd",
   "metadata": {},
   "source": [
    "### 5. What are recursive functions, and how are they used?"
   ]
  },
  {
   "cell_type": "markdown",
   "id": "cebb5dca",
   "metadata": {},
   "source": [
    "- recursive functions are the functions which call themselves.\n",
    "\n",
    "#### How to use?\n",
    "\n",
    "- there should be one termination condition for the function in the function"
   ]
  },
  {
   "cell_type": "code",
   "execution_count": 19,
   "id": "b817c7cd",
   "metadata": {},
   "outputs": [],
   "source": [
    "# eg of recursive function to calculate the factorial :\n",
    "\n",
    "def factorial(n):\n",
    "    \n",
    "    value = n\n",
    "    \n",
    "    if n<=1: # termination condition\n",
    "        \n",
    "        return 1\n",
    "    \n",
    "    else:\n",
    "        \n",
    "        return value * factorial(n-1)  # function calling itself"
   ]
  },
  {
   "cell_type": "code",
   "execution_count": 20,
   "id": "7f0ea425",
   "metadata": {},
   "outputs": [
    {
     "data": {
      "text/plain": [
       "120"
      ]
     },
     "execution_count": 20,
     "metadata": {},
     "output_type": "execute_result"
    }
   ],
   "source": [
    "factorial(5)"
   ]
  },
  {
   "cell_type": "markdown",
   "id": "c1542e89",
   "metadata": {},
   "source": [
    "### 6. What are some general design guidelines for coding functions?"
   ]
  },
  {
   "cell_type": "markdown",
   "id": "dae4dd24",
   "metadata": {},
   "source": [
    "#### Guidelines :\n",
    "\n",
    "- use of def keyword followed by name of function followed by parenthesis.\n",
    "- colon should be there at the end of def statement.\n",
    "- the block of code should be indented inside the function."
   ]
  },
  {
   "cell_type": "code",
   "execution_count": null,
   "id": "9dd639f2",
   "metadata": {},
   "outputs": [],
   "source": [
    "# syntax :\n",
    "\n",
    "def function_name(arguments):\n",
    "    \n",
    "    pass      # indentation is must!"
   ]
  },
  {
   "cell_type": "markdown",
   "id": "96bf634a",
   "metadata": {},
   "source": [
    "### 7. Name three or more ways that functions can communicate results to a caller."
   ]
  },
  {
   "cell_type": "code",
   "execution_count": 21,
   "id": "99129f8d",
   "metadata": {},
   "outputs": [],
   "source": [
    "# through return :\n",
    "def func():\n",
    "    \n",
    "    return \"Hello\""
   ]
  },
  {
   "cell_type": "code",
   "execution_count": 22,
   "id": "c7df5798",
   "metadata": {},
   "outputs": [],
   "source": [
    "# through print :\n",
    "def func():\n",
    "    \n",
    "    print(\"Hello\")"
   ]
  },
  {
   "cell_type": "code",
   "execution_count": 23,
   "id": "49b5e010",
   "metadata": {},
   "outputs": [],
   "source": [
    "# through yield:\n",
    "def func():\n",
    "\n",
    "    yield \"Hello , How are you!\""
   ]
  }
 ],
 "metadata": {
  "kernelspec": {
   "display_name": "Python 3",
   "language": "python",
   "name": "python3"
  },
  "language_info": {
   "codemirror_mode": {
    "name": "ipython",
    "version": 3
   },
   "file_extension": ".py",
   "mimetype": "text/x-python",
   "name": "python",
   "nbconvert_exporter": "python",
   "pygments_lexer": "ipython3",
   "version": "3.8.8"
  },
  "varInspector": {
   "cols": {
    "lenName": 16,
    "lenType": 16,
    "lenVar": 40
   },
   "kernels_config": {
    "python": {
     "delete_cmd_postfix": "",
     "delete_cmd_prefix": "del ",
     "library": "var_list.py",
     "varRefreshCmd": "print(var_dic_list())"
    },
    "r": {
     "delete_cmd_postfix": ") ",
     "delete_cmd_prefix": "rm(",
     "library": "var_list.r",
     "varRefreshCmd": "cat(var_dic_list()) "
    }
   },
   "types_to_exclude": [
    "module",
    "function",
    "builtin_function_or_method",
    "instance",
    "_Feature"
   ],
   "window_display": false
  }
 },
 "nbformat": 4,
 "nbformat_minor": 5
}
