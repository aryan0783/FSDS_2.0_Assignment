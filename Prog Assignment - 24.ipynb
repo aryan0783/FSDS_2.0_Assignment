{
 "cells": [
  {
   "cell_type": "markdown",
   "id": "102339b3",
   "metadata": {},
   "source": [
    "### Question1\n",
    "Create a function that takes an integer and returns a list from 1 to the given number, where:\n",
    "\n",
    "1. If the number can be divided evenly by 4, amplify it by 10 (i.e. return 10 times the number).<br>\n",
    "\n",
    "2. If the number cannot be divided evenly by 4, simply return the number.<br>\n",
    "Examples\n",
    "\n",
    "amplify(4) ➞ [1, 2, 3, 40]<br>\n",
    "amplify(3) ➞ [1, 2, 3]<br>\n",
    "amplify(25) ➞ [1, 2, 3, 40, 5, 6, 7, 80, 9, 10, 11, 120, 13, 14, 15,\n",
    "160,<br>17, 18, 19, 200, 21, 22, 23, 240, 25]<br>\n",
    "Notes<br>\n",
    "\n",
    " The given integer will always be equal to or greater than 1.<br>\n",
    " Include the number (see example above).<br>\n",
    " To perform this problem with its intended purpose, try doing it with list <br>comprehensions. If that&#39;s too difficult, just solve the challenge any way you can."
   ]
  },
  {
   "cell_type": "code",
   "execution_count": 8,
   "id": "a8b5ee71",
   "metadata": {},
   "outputs": [],
   "source": [
    "def amplify(n):\n",
    "    \n",
    "    if type(n) == int:\n",
    "        \n",
    "        if n>=1:\n",
    "        \n",
    "            return [i*10 if i%4==0 else i for i in range(1,n+1)]\n",
    "        \n",
    "        else:\n",
    "            \n",
    "            return \"Number should be greater than equal to 1\"\n",
    "        \n",
    "    else:\n",
    "        \n",
    "        return 'Please give the integer type data!'"
   ]
  },
  {
   "cell_type": "code",
   "execution_count": 9,
   "id": "f642e01e",
   "metadata": {},
   "outputs": [
    {
     "data": {
      "text/plain": [
       "[1, 2, 3, 40]"
      ]
     },
     "execution_count": 9,
     "metadata": {},
     "output_type": "execute_result"
    }
   ],
   "source": [
    "amplify(4)"
   ]
  },
  {
   "cell_type": "code",
   "execution_count": 10,
   "id": "7e3c735e",
   "metadata": {},
   "outputs": [
    {
     "data": {
      "text/plain": [
       "[1,\n",
       " 2,\n",
       " 3,\n",
       " 40,\n",
       " 5,\n",
       " 6,\n",
       " 7,\n",
       " 80,\n",
       " 9,\n",
       " 10,\n",
       " 11,\n",
       " 120,\n",
       " 13,\n",
       " 14,\n",
       " 15,\n",
       " 160,\n",
       " 17,\n",
       " 18,\n",
       " 19,\n",
       " 200,\n",
       " 21,\n",
       " 22,\n",
       " 23,\n",
       " 240,\n",
       " 25]"
      ]
     },
     "execution_count": 10,
     "metadata": {},
     "output_type": "execute_result"
    }
   ],
   "source": [
    "amplify(25)"
   ]
  },
  {
   "cell_type": "markdown",
   "id": "a89f5ec4",
   "metadata": {},
   "source": [
    "### Question2\n",
    "Create a function that takes a list of numbers and return the number that&#39;s unique.\n",
    "\n",
    "Examples<br>\n",
    "unique([3, 3, 3, 7, 3, 3]) ➞ 7<br>\n",
    "unique([0, 0, 0.77, 0, 0]) ➞ 0.77<br>\n",
    "unique([0, 1, 1, 1, 1, 1, 1, 1]) ➞ 0<br>\n",
    "\n",
    "Notes<br>\n",
    "\n",
    "Test cases will always have exactly one unique number while all others <br>are the same."
   ]
  },
  {
   "cell_type": "code",
   "execution_count": 27,
   "id": "24a1e7eb",
   "metadata": {},
   "outputs": [],
   "source": [
    "def unique(lis):\n",
    "    \n",
    "    if type(lis) == list:\n",
    "        \n",
    "        dict_ = {}\n",
    "    \n",
    "        for i in range(len(lis)):\n",
    "            \n",
    "            count=0\n",
    "            \n",
    "            for j in range(i,len(lis)):\n",
    "                \n",
    "                if lis[i] == lis[j]:\n",
    "                    count+=1\n",
    "                \n",
    "            if lis[i] not in dict_:\n",
    "                dict_[lis[i]] = count\n",
    "                \n",
    "        for i in dict_:\n",
    "            \n",
    "            if dict_[i] == 1:\n",
    "                return i\n",
    "            \n",
    "    else:\n",
    "        \n",
    "        return \"Please give the list type data!\""
   ]
  },
  {
   "cell_type": "code",
   "execution_count": 28,
   "id": "a36347ee",
   "metadata": {},
   "outputs": [
    {
     "data": {
      "text/plain": [
       "7"
      ]
     },
     "execution_count": 28,
     "metadata": {},
     "output_type": "execute_result"
    }
   ],
   "source": [
    "unique([3,3,3,7,3,3])"
   ]
  },
  {
   "cell_type": "code",
   "execution_count": 29,
   "id": "dea098bb",
   "metadata": {},
   "outputs": [
    {
     "data": {
      "text/plain": [
       "0.77"
      ]
     },
     "execution_count": 29,
     "metadata": {},
     "output_type": "execute_result"
    }
   ],
   "source": [
    "unique([0, 0, 0.77, 0, 0])"
   ]
  },
  {
   "cell_type": "markdown",
   "id": "461fd99b",
   "metadata": {},
   "source": [
    "### Question3\n",
    "```\n",
    "Your task is to create a Circle constructor that creates a circle with a radius provided by an argument. The circles constructed must have two getters getArea() (PIr^2) and getPerimeter() (2PI*r) which give both respective areas and perimeter (circumference).\n",
    "\n",
    "For help with this class, I have provided you with a Rectangle constructor which you can use as a base example.\n",
    "\n",
    "Examples\n",
    "\n",
    "circy = Circle(11)\n",
    "circy.getArea()\n",
    "\n",
    "# Should return 380.132711084365\n",
    "\n",
    "circy = Circle(4.44)\n",
    "circy.getPerimeter()\n",
    "\n",
    "# Should return 27.897342763877365\n",
    "\n",
    "Notes\n",
    "\n",
    "Round results up to the nearest integer.\n",
    "```"
   ]
  },
  {
   "cell_type": "code",
   "execution_count": 34,
   "id": "96b01565",
   "metadata": {},
   "outputs": [],
   "source": [
    "# Circle class with constructor and methods such as getArea and getPerimeter :\n",
    "class Circle:\n",
    "    \n",
    "    def __init__(self,radius):\n",
    "        self.radius = radius\n",
    "        \n",
    "    def getArea(self):\n",
    "        return round((22/7) * (self.radius ** 2))\n",
    "    \n",
    "    def getPerimeter(self):\n",
    "        return round(2 * (22/7) * self.radius)"
   ]
  },
  {
   "cell_type": "code",
   "execution_count": 35,
   "id": "0d592a5c",
   "metadata": {},
   "outputs": [
    {
     "data": {
      "text/plain": [
       "380"
      ]
     },
     "execution_count": 35,
     "metadata": {},
     "output_type": "execute_result"
    }
   ],
   "source": [
    "circy = Circle(11)\n",
    "circy.getArea()"
   ]
  },
  {
   "cell_type": "code",
   "execution_count": 36,
   "id": "083124eb",
   "metadata": {},
   "outputs": [
    {
     "data": {
      "text/plain": [
       "28"
      ]
     },
     "execution_count": 36,
     "metadata": {},
     "output_type": "execute_result"
    }
   ],
   "source": [
    "circy = Circle(4.44)\n",
    "circy.getPerimeter()"
   ]
  },
  {
   "cell_type": "markdown",
   "id": "2295766b",
   "metadata": {},
   "source": [
    "### Question4\n",
    "Create a function that takes a list of strings and return a list, sorted from shortest to longest.\n",
    "\n",
    "Examples<br>\n",
    "\n",
    "sort_by_length([&quot;Google&quot;, &quot;Apple&quot;, &quot;Microsoft&quot;])<br>\n",
    "➞ [&quot;Apple&quot;, &quot;Google&quot;, &quot;Microsoft&quot;]<br>\n",
    "sort_by_length([&quot;Leonardo&quot;, &quot;Michelangelo&quot;, &quot;Raphael&quot;, &quot;Donatello&quot;])<br>\n",
    "➞ [&quot;Raphael&quot;, &quot;Leonardo&quot;, &quot;Donatello&quot;, &quot;Michelangelo&quot;]<br>\n",
    "sort_by_length([&quot;Turing&quot;, &quot;Einstein&quot;, &quot;Jung&quot;])<br>\n",
    "➞ [&quot;Jung&quot;, &quot;Turing&quot;, &quot;Einstein&quot;]<br>\n",
    "\n",
    "Notes<br>\n",
    "\n",
    "All test cases contain lists with strings of different lengths, so you<br>won&#39;t have to deal with multiple strings of the same length."
   ]
  },
  {
   "cell_type": "code",
   "execution_count": 37,
   "id": "c03992c7",
   "metadata": {},
   "outputs": [],
   "source": [
    "def sort_by_length(n):\n",
    "    \n",
    "    if type(n) == list:\n",
    "        \n",
    "        n.sort(key=len)\n",
    "        \n",
    "        return n\n",
    "    \n",
    "    else:\n",
    "        \n",
    "        return 'Please give list data type data!'"
   ]
  },
  {
   "cell_type": "code",
   "execution_count": 38,
   "id": "f671da0d",
   "metadata": {},
   "outputs": [
    {
     "data": {
      "text/plain": [
       "['Apple', 'Google', 'Microsoft']"
      ]
     },
     "execution_count": 38,
     "metadata": {},
     "output_type": "execute_result"
    }
   ],
   "source": [
    "sort_by_length([\"Google\", \"Apple\", \"Microsoft\"])"
   ]
  },
  {
   "cell_type": "code",
   "execution_count": 39,
   "id": "8c96036f",
   "metadata": {},
   "outputs": [
    {
     "data": {
      "text/plain": [
       "['Raphael', 'Leonardo', 'Donatello', 'Michelangelo']"
      ]
     },
     "execution_count": 39,
     "metadata": {},
     "output_type": "execute_result"
    }
   ],
   "source": [
    "sort_by_length([\"Leonardo\", \"Michelangelo\", \"Raphael\", \"Donatello\"])"
   ]
  },
  {
   "cell_type": "code",
   "execution_count": 40,
   "id": "d90bf31e",
   "metadata": {},
   "outputs": [
    {
     "data": {
      "text/plain": [
       "['Jung', 'Turing', 'Einstein']"
      ]
     },
     "execution_count": 40,
     "metadata": {},
     "output_type": "execute_result"
    }
   ],
   "source": [
    "sort_by_length([\"Turing\", \"Einstein\", \"Jung\"])"
   ]
  },
  {
   "cell_type": "markdown",
   "id": "1e550776",
   "metadata": {},
   "source": [
    "### Question5\n",
    "```\n",
    "Create a function that validates whether three given integers form a Pythagorean triplet. The sum of the squares of the two smallest integers must equal the square of the largest number to be validated.\n",
    "\n",
    "Examples\n",
    "\n",
    "is_triplet(3, 4, 5) ➞ True\n",
    "# 3² + 4² = 25\n",
    "# 5² = 25\n",
    "\n",
    "is_triplet(13, 5, 12) ➞ True\n",
    "# 5² + 12² = 169\n",
    "# 13² = 169\n",
    "\n",
    "is_triplet(1, 2, 3) ➞ False\n",
    "# 1² + 2² = 5\n",
    "# 3² = 9\n",
    "\n",
    "Notes\n",
    "\n",
    "Numbers may not be given in a sorted order.\n",
    "```"
   ]
  },
  {
   "cell_type": "code",
   "execution_count": 41,
   "id": "d65c9c10",
   "metadata": {},
   "outputs": [],
   "source": [
    "def is_triplet(a,b,c):\n",
    "    \n",
    "    if a>=b and a>=c:\n",
    "        \n",
    "        if (a**2) == (b**2) + (c**2):\n",
    "            \n",
    "            return True\n",
    "        \n",
    "    elif b>=c and b>=a:\n",
    "        \n",
    "        if (b**2) == (a**2) + (c**2):\n",
    "            \n",
    "            return True\n",
    "        \n",
    "    else:\n",
    "        \n",
    "        if (c**2) == (b**2) + (a**2):\n",
    "            \n",
    "            return True\n",
    "        \n",
    "    return False"
   ]
  },
  {
   "cell_type": "code",
   "execution_count": 42,
   "id": "0bf7a53f",
   "metadata": {},
   "outputs": [
    {
     "data": {
      "text/plain": [
       "True"
      ]
     },
     "execution_count": 42,
     "metadata": {},
     "output_type": "execute_result"
    }
   ],
   "source": [
    "is_triplet(3, 4, 5)"
   ]
  },
  {
   "cell_type": "code",
   "execution_count": 43,
   "id": "4925162c",
   "metadata": {},
   "outputs": [
    {
     "data": {
      "text/plain": [
       "False"
      ]
     },
     "execution_count": 43,
     "metadata": {},
     "output_type": "execute_result"
    }
   ],
   "source": [
    "is_triplet(1, 2, 3)"
   ]
  }
 ],
 "metadata": {
  "kernelspec": {
   "display_name": "Python 3",
   "language": "python",
   "name": "python3"
  },
  "language_info": {
   "codemirror_mode": {
    "name": "ipython",
    "version": 3
   },
   "file_extension": ".py",
   "mimetype": "text/x-python",
   "name": "python",
   "nbconvert_exporter": "python",
   "pygments_lexer": "ipython3",
   "version": "3.8.8"
  },
  "varInspector": {
   "cols": {
    "lenName": 16,
    "lenType": 16,
    "lenVar": 40
   },
   "kernels_config": {
    "python": {
     "delete_cmd_postfix": "",
     "delete_cmd_prefix": "del ",
     "library": "var_list.py",
     "varRefreshCmd": "print(var_dic_list())"
    },
    "r": {
     "delete_cmd_postfix": ") ",
     "delete_cmd_prefix": "rm(",
     "library": "var_list.r",
     "varRefreshCmd": "cat(var_dic_list()) "
    }
   },
   "types_to_exclude": [
    "module",
    "function",
    "builtin_function_or_method",
    "instance",
    "_Feature"
   ],
   "window_display": false
  }
 },
 "nbformat": 4,
 "nbformat_minor": 5
}
