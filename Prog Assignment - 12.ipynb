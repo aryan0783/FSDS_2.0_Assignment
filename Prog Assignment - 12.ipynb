{
 "cells": [
  {
   "cell_type": "markdown",
   "id": "78ed78ba",
   "metadata": {},
   "source": [
    "### 1. Write a Python program to Extract Unique values dictionary values?"
   ]
  },
  {
   "cell_type": "code",
   "execution_count": 2,
   "id": "a473663b",
   "metadata": {},
   "outputs": [
    {
     "name": "stdout",
     "output_type": "stream",
     "text": [
      "[1, 2, 3]\n"
     ]
    }
   ],
   "source": [
    "dict1 = {'a':1,'b':2,'c':3,'d':2,'e':3}\n",
    "\n",
    "print(list(set(dict1.values())))"
   ]
  },
  {
   "cell_type": "markdown",
   "id": "e001a7d3",
   "metadata": {},
   "source": [
    "### 2. Write a Python program to find the sum of all items in a dictionary?"
   ]
  },
  {
   "cell_type": "code",
   "execution_count": 6,
   "id": "645577bc",
   "metadata": {},
   "outputs": [
    {
     "name": "stdout",
     "output_type": "stream",
     "text": [
      "11\n"
     ]
    }
   ],
   "source": [
    "dict1 = {'a':1,'b':2,'c':3,'d':2,'e':3}\n",
    "\n",
    "lis = list(dict1.items())\n",
    "\n",
    "# flattering of the list :\n",
    "\n",
    "lis = list(sum(lis,()))\n",
    "\n",
    "sum = 0\n",
    "\n",
    "for i in lis:\n",
    "    \n",
    "    if type(i) == int or type(i) == float:\n",
    "        \n",
    "        sum += i\n",
    "        \n",
    "print(sum)"
   ]
  },
  {
   "cell_type": "markdown",
   "id": "83443916",
   "metadata": {},
   "source": [
    "### 3. Write a Python program to Merging two Dictionaries?"
   ]
  },
  {
   "cell_type": "code",
   "execution_count": 8,
   "id": "4dfa8fe2",
   "metadata": {},
   "outputs": [
    {
     "name": "stdout",
     "output_type": "stream",
     "text": [
      "{'a': 1, 'b': 2, 'c': 3, 'd': 56}\n"
     ]
    }
   ],
   "source": [
    "dict1 = {'a':1,'b':2}\n",
    "dict2 = {'c':3,'d':56}\n",
    "\n",
    "# merged the values of dict2 in dict1 :\n",
    "dict1.update(dict2)\n",
    "\n",
    "print(dict1)"
   ]
  },
  {
   "cell_type": "markdown",
   "id": "3f80ced7",
   "metadata": {},
   "source": [
    "### 4. Write a Python program to convert key-values list to flat dictionary?"
   ]
  },
  {
   "cell_type": "code",
   "execution_count": 11,
   "id": "d3e66ac0",
   "metadata": {},
   "outputs": [
    {
     "name": "stdout",
     "output_type": "stream",
     "text": [
      "{'a': 1, 'b': 2}\n"
     ]
    }
   ],
   "source": [
    "# list of the keys and values pair :\n",
    "lis = [('a',1),('b',2)]\n",
    "\n",
    "# flat dict\n",
    "dic = dict(lis)\n",
    "\n",
    "print(dic)"
   ]
  },
  {
   "cell_type": "markdown",
   "id": "c272940a",
   "metadata": {},
   "source": [
    "### 5. Write a Python program to insertion at the beginning in OrderedDict?"
   ]
  },
  {
   "cell_type": "code",
   "execution_count": 13,
   "id": "006c53ad",
   "metadata": {},
   "outputs": [
    {
     "name": "stdout",
     "output_type": "stream",
     "text": [
      "OrderedDict([('d', 4), ('a', 1), ('b', 2), ('c', 3)])\n"
     ]
    }
   ],
   "source": [
    "from collections import OrderedDict\n",
    "\n",
    "od = OrderedDict()\n",
    "\n",
    "od['a'] = 1\n",
    "od['b'] = 2\n",
    "od['c'] = 3\n",
    "\n",
    "od.update({'d': 4})\n",
    "od.move_to_end('d', last=False)\n",
    "\n",
    "print(od)"
   ]
  },
  {
   "cell_type": "markdown",
   "id": "e56f2c51",
   "metadata": {},
   "source": [
    "### 6. Write a Python program to check order of character in string using OrderedDict()?"
   ]
  },
  {
   "cell_type": "code",
   "execution_count": 15,
   "id": "f56fdb42",
   "metadata": {},
   "outputs": [
    {
     "name": "stdout",
     "output_type": "stream",
     "text": [
      "Enter the character you want order : y\n",
      "2\n"
     ]
    }
   ],
   "source": [
    "from collections import OrderedDict\n",
    "\n",
    "string = 'aryan'\n",
    "\n",
    "dict1 = OrderedDict()\n",
    "\n",
    "for i in range(len(string)):\n",
    "    dict1[i] = string[i]\n",
    "    \n",
    "n = input('Enter the character you want order : ')\n",
    "\n",
    "for i in dict1.items():\n",
    "    if n in i:\n",
    "        print(i[0])"
   ]
  },
  {
   "cell_type": "markdown",
   "id": "cd4e2f14",
   "metadata": {},
   "source": [
    "### 7. Write a Python program to sort Python Dictionaries by Key or Value?"
   ]
  },
  {
   "cell_type": "code",
   "execution_count": 35,
   "id": "4ac0a35d",
   "metadata": {},
   "outputs": [
    {
     "name": "stdout",
     "output_type": "stream",
     "text": [
      "{'c': 2, 'n': 23, 'y': 3, 'z': 10}\n",
      "\n",
      "{'c': 2, 'y': 3, 'z': 10, 'n': 23}\n"
     ]
    }
   ],
   "source": [
    "dict1 = {'y':3,'n':23,'z':10,'c':2}\n",
    "\n",
    "dict2 = list(dict1.items())\n",
    "\n",
    "# sorting based on keys :\n",
    "dict2.sort()\n",
    "print(dict(dict2))\n",
    "\n",
    "# defining function for value sort :\n",
    "def sorting(value):\n",
    "    return value[1]\n",
    "\n",
    "print()\n",
    "\n",
    "# sorting based on values :\n",
    "dict2.sort(key=sorting)\n",
    "print(dict(dict2))"
   ]
  }
 ],
 "metadata": {
  "kernelspec": {
   "display_name": "Python 3",
   "language": "python",
   "name": "python3"
  },
  "language_info": {
   "codemirror_mode": {
    "name": "ipython",
    "version": 3
   },
   "file_extension": ".py",
   "mimetype": "text/x-python",
   "name": "python",
   "nbconvert_exporter": "python",
   "pygments_lexer": "ipython3",
   "version": "3.8.8"
  },
  "varInspector": {
   "cols": {
    "lenName": 16,
    "lenType": 16,
    "lenVar": 40
   },
   "kernels_config": {
    "python": {
     "delete_cmd_postfix": "",
     "delete_cmd_prefix": "del ",
     "library": "var_list.py",
     "varRefreshCmd": "print(var_dic_list())"
    },
    "r": {
     "delete_cmd_postfix": ") ",
     "delete_cmd_prefix": "rm(",
     "library": "var_list.r",
     "varRefreshCmd": "cat(var_dic_list()) "
    }
   },
   "types_to_exclude": [
    "module",
    "function",
    "builtin_function_or_method",
    "instance",
    "_Feature"
   ],
   "window_display": false
  }
 },
 "nbformat": 4,
 "nbformat_minor": 5
}
