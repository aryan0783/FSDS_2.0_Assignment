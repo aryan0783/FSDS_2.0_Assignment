{
 "cells": [
  {
   "cell_type": "markdown",
   "id": "328e95c7",
   "metadata": {},
   "source": [
    "### 1. Write a Python Program to Find the Factorial of a Number?"
   ]
  },
  {
   "cell_type": "code",
   "execution_count": 1,
   "id": "b32a4e32",
   "metadata": {},
   "outputs": [],
   "source": [
    "# Using the recursive approach to find the factorial :\n",
    "\n",
    "def fact(num):\n",
    "    \n",
    "    if type(num) == int or type(num) == float:\n",
    "    \n",
    "        val = num\n",
    "\n",
    "        if num<=1:\n",
    "\n",
    "            return 1\n",
    "\n",
    "        else:\n",
    "\n",
    "            return val * fact(num-1)\n",
    "        \n",
    "    else:\n",
    "        \n",
    "        return \"Please give appropriate data type data!\""
   ]
  },
  {
   "cell_type": "code",
   "execution_count": 2,
   "id": "3bd9666c",
   "metadata": {},
   "outputs": [
    {
     "data": {
      "text/plain": [
       "120"
      ]
     },
     "execution_count": 2,
     "metadata": {},
     "output_type": "execute_result"
    }
   ],
   "source": [
    "fact(5)"
   ]
  },
  {
   "cell_type": "markdown",
   "id": "510cdd82",
   "metadata": {},
   "source": [
    "### 2. Write a Python Program to Display the multiplication Table?"
   ]
  },
  {
   "cell_type": "code",
   "execution_count": 3,
   "id": "3114bac3",
   "metadata": {},
   "outputs": [],
   "source": [
    "def table(num,times):\n",
    "    \n",
    "    if (type(num) == int and type(times) == int) or (type(num) == float and type(times) == float):\n",
    "    \n",
    "        for i in range(1,times+1):\n",
    "\n",
    "            print(f\"{num} X {i} = {num*i}\")\n",
    "            \n",
    "    else :\n",
    "        \n",
    "        return \"Please give appropriate data type data!\""
   ]
  },
  {
   "cell_type": "code",
   "execution_count": 4,
   "id": "ebec563a",
   "metadata": {},
   "outputs": [
    {
     "name": "stdout",
     "output_type": "stream",
     "text": [
      "10 X 1 = 10\n",
      "10 X 2 = 20\n",
      "10 X 3 = 30\n",
      "10 X 4 = 40\n",
      "10 X 5 = 50\n",
      "10 X 6 = 60\n",
      "10 X 7 = 70\n",
      "10 X 8 = 80\n",
      "10 X 9 = 90\n",
      "10 X 10 = 100\n"
     ]
    }
   ],
   "source": [
    "table(10,10)"
   ]
  },
  {
   "cell_type": "markdown",
   "id": "47a4c731",
   "metadata": {},
   "source": [
    "### 3. Write a Python Program to Print the Fibonacci sequence?"
   ]
  },
  {
   "cell_type": "code",
   "execution_count": 5,
   "id": "1867d573",
   "metadata": {},
   "outputs": [
    {
     "name": "stdout",
     "output_type": "stream",
     "text": [
      "Enter the sequence : 10\n",
      "1\n",
      "1\n",
      "2\n",
      "3\n",
      "5\n",
      "8\n",
      "13\n",
      "21\n",
      "34\n",
      "55\n"
     ]
    }
   ],
   "source": [
    "a = 0\n",
    "b = 1\n",
    "\n",
    "n = int(input(\"Enter the sequence : \"))\n",
    "\n",
    "# Using the for loop to find the sequence :\n",
    "for i in range(n):\n",
    "    \n",
    "    c = a + b\n",
    "    a = b\n",
    "    b = c\n",
    "    print(a)"
   ]
  },
  {
   "cell_type": "code",
   "execution_count": 6,
   "id": "105cd904",
   "metadata": {},
   "outputs": [
    {
     "name": "stdout",
     "output_type": "stream",
     "text": [
      "Enter the sequence : 11\n",
      "1\n",
      "1\n",
      "2\n",
      "3\n",
      "5\n",
      "8\n",
      "13\n",
      "21\n",
      "34\n",
      "55\n",
      "89\n"
     ]
    }
   ],
   "source": [
    "a = 0\n",
    "b = 1\n",
    "\n",
    "n = int(input(\"Enter the sequence : \"))\n",
    "\n",
    "# Using the while loop to find the sequence :\n",
    "while n>0:\n",
    "    \n",
    "    c = a + b\n",
    "    a = b\n",
    "    b = c\n",
    "    print(a)\n",
    "    \n",
    "    n-=1"
   ]
  },
  {
   "cell_type": "markdown",
   "id": "6c6f009f",
   "metadata": {},
   "source": [
    "### 4. Write a Python Program to Check Armstrong Number?"
   ]
  },
  {
   "cell_type": "code",
   "execution_count": 7,
   "id": "ce58c667",
   "metadata": {},
   "outputs": [],
   "source": [
    "def armstrong(n):\n",
    "    \n",
    "    if type(n) == int or type(n) == float:\n",
    "\n",
    "        digits = len(str(n))\n",
    "\n",
    "        sum = 0\n",
    "\n",
    "        for i in str(n):\n",
    "\n",
    "            sum += int(i) ** digits\n",
    "\n",
    "        if sum == n:\n",
    "            return (f\"{n} is an armstrong number\")\n",
    "\n",
    "        else:\n",
    "            return (f\"{n} is not an armstrong number\")\n",
    "        \n",
    "    else:\n",
    "        \n",
    "        return 'Please enter the appropriate data type data!'"
   ]
  },
  {
   "cell_type": "code",
   "execution_count": 8,
   "id": "04255338",
   "metadata": {},
   "outputs": [
    {
     "data": {
      "text/plain": [
       "'153 is an armstrong number'"
      ]
     },
     "execution_count": 8,
     "metadata": {},
     "output_type": "execute_result"
    }
   ],
   "source": [
    "armstrong(153)"
   ]
  },
  {
   "cell_type": "markdown",
   "id": "3afbbf26",
   "metadata": {},
   "source": [
    "### 5. Write a Python Program to Find Armstrong Number in an Interval?"
   ]
  },
  {
   "cell_type": "code",
   "execution_count": 9,
   "id": "8ad2eca9",
   "metadata": {},
   "outputs": [],
   "source": [
    "def armstrong(n,m):\n",
    "\n",
    "    if (type(n)==int and type(m)==int) or (type(n)==float and type(m)==float):\n",
    "            \n",
    "        for i in range(n,m+1):\n",
    "\n",
    "            sum = 0\n",
    "            digits = len(str(i))\n",
    "\n",
    "            for j in str(i):\n",
    "\n",
    "                sum += int(j) ** digits\n",
    "\n",
    "            if sum == i:\n",
    "                yield (f\"{i} is an armstrong number\")\n",
    "                \n",
    "    else:\n",
    "        return \"Please give appropriate data type data!\"       \n",
    "        "
   ]
  },
  {
   "cell_type": "code",
   "execution_count": 10,
   "id": "b39d88ef",
   "metadata": {},
   "outputs": [
    {
     "name": "stdout",
     "output_type": "stream",
     "text": [
      "Enter the no. above one digit : 45\n",
      "Enter the no. above one digit : 600\n",
      "\n",
      "153 is an armstrong number\n",
      "370 is an armstrong number\n",
      "371 is an armstrong number\n",
      "407 is an armstrong number\n"
     ]
    }
   ],
   "source": [
    "n = int(input(\"Enter the no. above one digit : \"))\n",
    "m = int(input(\"Enter the no. above one digit : \"))\n",
    "\n",
    "print()\n",
    "for i in armstrong(n,m):\n",
    "    print(i)"
   ]
  },
  {
   "cell_type": "markdown",
   "id": "3876799a",
   "metadata": {},
   "source": [
    "### 6. Write a Python Program to Find the Sum of Natural Numbers?"
   ]
  },
  {
   "cell_type": "code",
   "execution_count": 11,
   "id": "5092652d",
   "metadata": {},
   "outputs": [],
   "source": [
    "def sum_of_numbers(n,m):\n",
    "    \n",
    "    if (type(n)==int and type(m)==int) or (type(n)==float and type(m)==float):\n",
    "        \n",
    "        if n==0 or m==0:\n",
    "            \n",
    "            return 'Please give natural nos.'\n",
    "        \n",
    "        sum = 0\n",
    "        \n",
    "        for i in range(n,m+1):\n",
    "            \n",
    "            sum += i\n",
    "            \n",
    "        return sum\n",
    "    \n",
    "    else :\n",
    "        \n",
    "        return \"Please give appropriate data type data!\""
   ]
  },
  {
   "cell_type": "code",
   "execution_count": 12,
   "id": "2094aff9",
   "metadata": {},
   "outputs": [
    {
     "data": {
      "text/plain": [
       "4094"
      ]
     },
     "execution_count": 12,
     "metadata": {},
     "output_type": "execute_result"
    }
   ],
   "source": [
    "sum_of_numbers(2,90)"
   ]
  }
 ],
 "metadata": {
  "kernelspec": {
   "display_name": "Python 3",
   "language": "python",
   "name": "python3"
  },
  "language_info": {
   "codemirror_mode": {
    "name": "ipython",
    "version": 3
   },
   "file_extension": ".py",
   "mimetype": "text/x-python",
   "name": "python",
   "nbconvert_exporter": "python",
   "pygments_lexer": "ipython3",
   "version": "3.8.8"
  },
  "varInspector": {
   "cols": {
    "lenName": 16,
    "lenType": 16,
    "lenVar": 40
   },
   "kernels_config": {
    "python": {
     "delete_cmd_postfix": "",
     "delete_cmd_prefix": "del ",
     "library": "var_list.py",
     "varRefreshCmd": "print(var_dic_list())"
    },
    "r": {
     "delete_cmd_postfix": ") ",
     "delete_cmd_prefix": "rm(",
     "library": "var_list.r",
     "varRefreshCmd": "cat(var_dic_list()) "
    }
   },
   "types_to_exclude": [
    "module",
    "function",
    "builtin_function_or_method",
    "instance",
    "_Feature"
   ],
   "window_display": false
  }
 },
 "nbformat": 4,
 "nbformat_minor": 5
}
