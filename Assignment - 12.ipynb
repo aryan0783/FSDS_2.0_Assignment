{
 "cells": [
  {
   "cell_type": "markdown",
   "id": "0c749464",
   "metadata": {},
   "source": [
    "### 1. In what modes should the PdfFileReader() and PdfFileWriter() File objects will be opened?"
   ]
  },
  {
   "cell_type": "markdown",
   "id": "01bf5ad3",
   "metadata": {},
   "source": [
    "- in PdfFileReader() ,file should be open in rb mode i.e read binary mode.\n",
    "- in PdfFileWriter() ,file should be open in wb mode i.e write binary mode."
   ]
  },
  {
   "cell_type": "markdown",
   "id": "b97268a2",
   "metadata": {},
   "source": [
    "### 2. From a PdfFileReader object, how do you get a Page object for page 5?"
   ]
  },
  {
   "cell_type": "markdown",
   "id": "6ad73015",
   "metadata": {},
   "source": [
    "- through getPage method we get the specific page object."
   ]
  },
  {
   "cell_type": "code",
   "execution_count": 5,
   "id": "cf6389ac",
   "metadata": {},
   "outputs": [
    {
     "name": "stdout",
     "output_type": "stream",
     "text": [
      "{'/Resources': IndirectObject(34, 0, 1927005449904), '/Type': '/Page', '/MediaBox': [0, 0, 612, 792], '/CropBox': [0, 0, 612, 792], '/BleedBox': [0, 0, 612, 792], '/TrimBox': [0, 0, 612, 792], '/Contents': IndirectObject(58, 0, 1927005449904), '/Parent': IndirectObject(1, 0, 1927005449904)}\n"
     ]
    }
   ],
   "source": [
    "import PyPDF2\n",
    "\n",
    "pdfObj = open(r'C:\\Users\\ARYAN\\result.pdf', 'rb')\n",
    "\n",
    "reader = PyPDF2.PdfFileReader(\n",
    "    pdfObj,\n",
    "    strict=True, \n",
    "    )\n",
    "\n",
    "obj_page_5 = reader.getPage(4)\n",
    "print(obj_page_5)"
   ]
  },
  {
   "cell_type": "markdown",
   "id": "e081083f",
   "metadata": {},
   "source": [
    "### 3. What PdfFileReader variable stores the number of pages in the PDF document?"
   ]
  },
  {
   "cell_type": "markdown",
   "id": "5992ef88",
   "metadata": {},
   "source": [
    "- numPages attribute has the total number of pages in a document."
   ]
  },
  {
   "cell_type": "code",
   "execution_count": 6,
   "id": "b8e7ac39",
   "metadata": {},
   "outputs": [
    {
     "data": {
      "text/plain": [
       "9"
      ]
     },
     "execution_count": 6,
     "metadata": {},
     "output_type": "execute_result"
    }
   ],
   "source": [
    "import PyPDF2\n",
    "\n",
    "pdfObj = open(r'C:\\Users\\ARYAN\\result.pdf', 'rb')\n",
    "\n",
    "reader = PyPDF2.PdfFileReader(\n",
    "    pdfObj,\n",
    "    strict=True, \n",
    "    )\n",
    "\n",
    "reader.numPages"
   ]
  },
  {
   "cell_type": "markdown",
   "id": "bb5099e6",
   "metadata": {},
   "source": [
    "### 4. If a PdfFileReader object’s PDF is encrypted with the password swordfish, what must you do before you can obtain Page objects from it?"
   ]
  },
  {
   "cell_type": "markdown",
   "id": "9f078664",
   "metadata": {},
   "source": [
    ".decrypt('swordfish')"
   ]
  },
  {
   "cell_type": "markdown",
   "id": "2eaf95cb",
   "metadata": {},
   "source": [
    "### 5. What methods do you use to rotate a page?"
   ]
  },
  {
   "cell_type": "markdown",
   "id": "4b912ae9",
   "metadata": {},
   "source": [
    "- rotateClockwise and rotateCounterClockwise methods are used to rotate the page and these methods take up degree to rotate the page."
   ]
  },
  {
   "cell_type": "markdown",
   "id": "52454774",
   "metadata": {},
   "source": [
    "### 6. What is the difference between a Run object and a Paragraph object?"
   ]
  },
  {
   "cell_type": "markdown",
   "id": "3934eccc",
   "metadata": {},
   "source": [
    "- paragraph object : a document contains multiple paragraphs.The paragraph is generally sepeated by the return or enter.\n",
    "\n",
    "- run object : it runs the group of character within the paragraph."
   ]
  },
  {
   "cell_type": "markdown",
   "id": "bdbbb47a",
   "metadata": {},
   "source": [
    "### 7. How do you obtain a list of Paragraph objects for a Document object that’s stored in a variable named doc?"
   ]
  },
  {
   "cell_type": "markdown",
   "id": "75c7020b",
   "metadata": {},
   "source": [
    "- by the use of doc.paragraphs"
   ]
  },
  {
   "cell_type": "code",
   "execution_count": null,
   "id": "e57c1937",
   "metadata": {},
   "outputs": [],
   "source": [
    "# eg :\n",
    "\n",
    "import docx\n",
    "doc = docx.Document('file_name.docx')\n",
    "doc.paragraphs"
   ]
  },
  {
   "cell_type": "markdown",
   "id": "434ff275",
   "metadata": {},
   "source": [
    "### 8. What type of object has bold, underline, italic, strike, and outline variables?"
   ]
  },
  {
   "cell_type": "markdown",
   "id": "8e8c0cc2",
   "metadata": {},
   "source": [
    "- run object has bold, underline, italic , strike and oline variables."
   ]
  },
  {
   "cell_type": "markdown",
   "id": "44a0f8ed",
   "metadata": {},
   "source": [
    "### 9. What is the difference between False, True, and None for the bold variable?"
   ]
  },
  {
   "cell_type": "markdown",
   "id": "956a710d",
   "metadata": {},
   "source": [
    "- True when the attribute is enabled.\n",
    "- False when the attribute is disabled.\n",
    "- None : it is default value which can be changed as per style."
   ]
  },
  {
   "cell_type": "markdown",
   "id": "4d5f2bd3",
   "metadata": {},
   "source": [
    "### 10. How do you create a Document object for a new Word document?"
   ]
  },
  {
   "cell_type": "markdown",
   "id": "9edc3359",
   "metadata": {},
   "source": [
    "- by the use of docx.Document() function."
   ]
  },
  {
   "cell_type": "markdown",
   "id": "43c07199",
   "metadata": {},
   "source": [
    "### 11. How do you add a paragraph with the text &#39;Hello, there!&#39; to a Document object stored in a variable named doc?"
   ]
  },
  {
   "cell_type": "code",
   "execution_count": null,
   "id": "cb5dfd2b",
   "metadata": {},
   "outputs": [],
   "source": [
    "import docx\n",
    "doc = docx.Document()\n",
    "\n",
    "doc.add_paragraph('Hello there!')\n",
    "doc.save('hellothere.docx')"
   ]
  },
  {
   "cell_type": "markdown",
   "id": "9e852f6c",
   "metadata": {},
   "source": [
    "### 12. What integers represent the levels of headings available in Word documents?"
   ]
  },
  {
   "cell_type": "markdown",
   "id": "9fb878f5",
   "metadata": {},
   "source": [
    "- the heading ranges from 0 to 4, where 0 makes it title style and 1 to 4 makes it heading and sub-heading."
   ]
  }
 ],
 "metadata": {
  "kernelspec": {
   "display_name": "Python 3",
   "language": "python",
   "name": "python3"
  },
  "language_info": {
   "codemirror_mode": {
    "name": "ipython",
    "version": 3
   },
   "file_extension": ".py",
   "mimetype": "text/x-python",
   "name": "python",
   "nbconvert_exporter": "python",
   "pygments_lexer": "ipython3",
   "version": "3.8.8"
  },
  "varInspector": {
   "cols": {
    "lenName": 16,
    "lenType": 16,
    "lenVar": 40
   },
   "kernels_config": {
    "python": {
     "delete_cmd_postfix": "",
     "delete_cmd_prefix": "del ",
     "library": "var_list.py",
     "varRefreshCmd": "print(var_dic_list())"
    },
    "r": {
     "delete_cmd_postfix": ") ",
     "delete_cmd_prefix": "rm(",
     "library": "var_list.r",
     "varRefreshCmd": "cat(var_dic_list()) "
    }
   },
   "types_to_exclude": [
    "module",
    "function",
    "builtin_function_or_method",
    "instance",
    "_Feature"
   ],
   "window_display": false
  }
 },
 "nbformat": 4,
 "nbformat_minor": 5
}
