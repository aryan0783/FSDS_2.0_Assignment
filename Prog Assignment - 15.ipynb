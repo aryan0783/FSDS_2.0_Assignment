{
 "cells": [
  {
   "cell_type": "markdown",
   "id": "52461b6e",
   "metadata": {},
   "source": [
    "### Question 1: Please write a program using generator to print the numbers which can be divisible by 5 and 7 between 0 and n in comma separated form while n is input by console.\n",
    "```\n",
    "Example:\n",
    "\n",
    "If the following n is given as input to the program:\n",
    "100\n",
    "\n",
    "Then, the output of the program should be:\n",
    "0,35,70\n",
    "```"
   ]
  },
  {
   "cell_type": "code",
   "execution_count": 46,
   "id": "132ea54a",
   "metadata": {},
   "outputs": [],
   "source": [
    "def div(n):\n",
    "    \n",
    "    values = ''\n",
    "    \n",
    "    for i in range(0,n+1):\n",
    "        \n",
    "        if i%5==0 and i%7==0:\n",
    "            \n",
    "            values += (str(i) + ',')\n",
    "            \n",
    "    yield values[:-1]"
   ]
  },
  {
   "cell_type": "code",
   "execution_count": 47,
   "id": "b4ed50eb",
   "metadata": {},
   "outputs": [
    {
     "name": "stdout",
     "output_type": "stream",
     "text": [
      "0,35,70\n"
     ]
    }
   ],
   "source": [
    "for i in div(100):\n",
    "    \n",
    "    print(i)"
   ]
  },
  {
   "cell_type": "markdown",
   "id": "1666266b",
   "metadata": {},
   "source": [
    "### Question 2: Please write a program using generator to print the even numbers between 0 and n in comma separated form while n is input by console.\n",
    "```\n",
    "Example:\n",
    "If the following n is given as input to the program:\n",
    "10\n",
    "\n",
    "Then, the output of the program should be:\n",
    "0,2,4,6,8,10\n",
    "```"
   ]
  },
  {
   "cell_type": "code",
   "execution_count": 57,
   "id": "969ba802",
   "metadata": {},
   "outputs": [],
   "source": [
    "def even(n):\n",
    "    \n",
    "    values = ''\n",
    "    \n",
    "    for i in range(0,n+1):\n",
    "        \n",
    "        if i%2==0:\n",
    "            \n",
    "            values += (str(i) + ',')\n",
    "            \n",
    "    yield values[:-1]"
   ]
  },
  {
   "cell_type": "code",
   "execution_count": 58,
   "id": "fb14078c",
   "metadata": {},
   "outputs": [
    {
     "name": "stdout",
     "output_type": "stream",
     "text": [
      "Enter the range : 10\n",
      "0,2,4,6,8,10\n"
     ]
    }
   ],
   "source": [
    "n = int(input(\"Enter the range : \"))\n",
    "\n",
    "for i in even(n):\n",
    "    print(i)"
   ]
  },
  {
   "cell_type": "markdown",
   "id": "d22971f8",
   "metadata": {},
   "source": [
    "### Question 3:\n",
    "```\n",
    "The Fibonacci Sequence is computed based on the following formula:\n",
    "f(n)=0 if n=0\n",
    "f(n)=1 if n=1\n",
    "f(n)=f(n-1)+f(n-2) if n>1\n",
    "\n",
    "Please write a program using list comprehension to print the Fibonacci Sequence in comma separated form with a given n input by console.\n",
    "\n",
    "Example:\n",
    "If the following n is given as input to the program:\n",
    "7\n",
    "\n",
    "Then, the output of the program should be:\n",
    "0,1,1,2,3,5,8,13\n",
    "```"
   ]
  },
  {
   "cell_type": "code",
   "execution_count": 112,
   "id": "209ba893",
   "metadata": {},
   "outputs": [],
   "source": [
    "def fibonacci(n):\n",
    "    if n <= 1:\n",
    "        return n\n",
    "    return fibonacci(n-1) + fibonacci(n-2)"
   ]
  },
  {
   "cell_type": "code",
   "execution_count": 113,
   "id": "603ea537",
   "metadata": {},
   "outputs": [
    {
     "name": "stdout",
     "output_type": "stream",
     "text": [
      "Enter the sequence : 9\n",
      "[0, 1, 1, 2, 3, 5, 8, 13, 21, 34]\n"
     ]
    }
   ],
   "source": [
    "n = int(input(\"Enter the sequence : \"))\n",
    "\n",
    "fib = [fibonacci(i) for i in range(n+1)]\n",
    "\n",
    "print(fib)"
   ]
  },
  {
   "cell_type": "markdown",
   "id": "468d05c9",
   "metadata": {},
   "source": [
    "### Question 4: Assuming that we have some email addresses in the &quot;username@companyname.com&quot; format, please write program to print the user name of a given email address. Both user names and company names are composed of letters only.\n",
    "```\n",
    "Example:\n",
    "If the following email address is given as input to the program:\n",
    "john@google.com\n",
    "\n",
    "Then, the output of the program should be:\n",
    "john\n",
    "```"
   ]
  },
  {
   "cell_type": "code",
   "execution_count": 77,
   "id": "63d55d61",
   "metadata": {},
   "outputs": [],
   "source": [
    "def extract_username(email):\n",
    "    \n",
    "    user = ''\n",
    "    \n",
    "    for i in email:\n",
    "        \n",
    "        if i != '@':\n",
    "            \n",
    "            user += i\n",
    "            \n",
    "        else:\n",
    "            break\n",
    "            \n",
    "    company = ''\n",
    "    \n",
    "    for i in range(len(user),len(email)):\n",
    "        \n",
    "        if email[i] != '.':\n",
    "            \n",
    "            company += email[i]\n",
    "        \n",
    "        else:\n",
    "            break\n",
    "    \n",
    "    return user,company[1:]"
   ]
  },
  {
   "cell_type": "code",
   "execution_count": 78,
   "id": "c27ccfa3",
   "metadata": {},
   "outputs": [
    {
     "data": {
      "text/plain": [
       "('john', 'google')"
      ]
     },
     "execution_count": 78,
     "metadata": {},
     "output_type": "execute_result"
    }
   ],
   "source": [
    "extract_username('john@google.com')"
   ]
  },
  {
   "cell_type": "code",
   "execution_count": 79,
   "id": "3e04703c",
   "metadata": {},
   "outputs": [
    {
     "data": {
      "text/plain": [
       "('aryanpankaj', 'gmail')"
      ]
     },
     "execution_count": 79,
     "metadata": {},
     "output_type": "execute_result"
    }
   ],
   "source": [
    "extract_username('aryanpankaj@gmail.com')"
   ]
  },
  {
   "cell_type": "markdown",
   "id": "32df56e7",
   "metadata": {},
   "source": [
    "### Question 5: Define a class named Shape and its subclass Square. The Square class has an init function which takes a length as argument. Both classes have a area function which can print the area of the shape where Shape&#39;s area is 0 by default."
   ]
  },
  {
   "cell_type": "code",
   "execution_count": 114,
   "id": "fefdc79c",
   "metadata": {},
   "outputs": [],
   "source": [
    "# concept used : inheritance and method over riding :\n",
    "\n",
    "# parent class\n",
    "class Shape:\n",
    "    \n",
    "    def area(self):\n",
    "        \n",
    "        return 'Area of the shape is 0'\n",
    "\n",
    "# child class\n",
    "class Square(Shape):\n",
    "    \n",
    "    def __init__(self,length):\n",
    "        self.length = length\n",
    "    \n",
    "    def area(self):\n",
    "        \n",
    "        return f'Area of Square is {self.length**2}'"
   ]
  },
  {
   "cell_type": "code",
   "execution_count": 116,
   "id": "6abefc8a",
   "metadata": {},
   "outputs": [
    {
     "data": {
      "text/plain": [
       "'Area of the shape is 0'"
      ]
     },
     "execution_count": 116,
     "metadata": {},
     "output_type": "execute_result"
    }
   ],
   "source": [
    "obj1 = Shape()\n",
    "\n",
    "# default area is 0\n",
    "obj1.area()"
   ]
  },
  {
   "cell_type": "code",
   "execution_count": 118,
   "id": "70d111e3",
   "metadata": {},
   "outputs": [
    {
     "data": {
      "text/plain": [
       "'Area of Square is 16'"
      ]
     },
     "execution_count": 118,
     "metadata": {},
     "output_type": "execute_result"
    }
   ],
   "source": [
    "obj2 = Square(4)\n",
    "obj2.area()"
   ]
  }
 ],
 "metadata": {
  "kernelspec": {
   "display_name": "Python 3",
   "language": "python",
   "name": "python3"
  },
  "language_info": {
   "codemirror_mode": {
    "name": "ipython",
    "version": 3
   },
   "file_extension": ".py",
   "mimetype": "text/x-python",
   "name": "python",
   "nbconvert_exporter": "python",
   "pygments_lexer": "ipython3",
   "version": "3.8.8"
  },
  "varInspector": {
   "cols": {
    "lenName": 16,
    "lenType": 16,
    "lenVar": 40
   },
   "kernels_config": {
    "python": {
     "delete_cmd_postfix": "",
     "delete_cmd_prefix": "del ",
     "library": "var_list.py",
     "varRefreshCmd": "print(var_dic_list())"
    },
    "r": {
     "delete_cmd_postfix": ") ",
     "delete_cmd_prefix": "rm(",
     "library": "var_list.r",
     "varRefreshCmd": "cat(var_dic_list()) "
    }
   },
   "types_to_exclude": [
    "module",
    "function",
    "builtin_function_or_method",
    "instance",
    "_Feature"
   ],
   "window_display": false
  }
 },
 "nbformat": 4,
 "nbformat_minor": 5
}
