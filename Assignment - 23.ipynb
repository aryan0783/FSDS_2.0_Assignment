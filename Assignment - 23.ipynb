{
 "cells": [
  {
   "cell_type": "markdown",
   "id": "4eee118b",
   "metadata": {},
   "source": [
    "### 1. What is the result of the code, and why?\n",
    "&gt;&gt;&gt; def func(a, b=6, c=8):<br>\n",
    "print(a, b, c)<br>\n",
    "&gt;&gt;&gt; func(1, 2)<br>"
   ]
  },
  {
   "cell_type": "code",
   "execution_count": 1,
   "id": "91c07c27",
   "metadata": {},
   "outputs": [],
   "source": [
    "def func(a,b=6,c=8):\n",
    "    print(a,b,c)"
   ]
  },
  {
   "cell_type": "code",
   "execution_count": 2,
   "id": "e6117c11",
   "metadata": {},
   "outputs": [
    {
     "name": "stdout",
     "output_type": "stream",
     "text": [
      "1 2 8\n"
     ]
    }
   ],
   "source": [
    "func(1,2)"
   ]
  },
  {
   "cell_type": "markdown",
   "id": "8bd2e904",
   "metadata": {},
   "source": [
    "#### Reason :\n",
    "\n",
    "- b and c argument values are default as 6 and 8 respectively so the argument passed as 1 , 2 for a and b only\n",
    "\n",
    "- a = 1 , b = 2 and c = 8(default)\n",
    "\n",
    "<br><br><br>\n",
    "<hr style=\"border:2px solid gray\">"
   ]
  },
  {
   "cell_type": "markdown",
   "id": "5ddd80ab",
   "metadata": {},
   "source": [
    "### 2. What is the result of this code, and why?\n",
    "&gt;&gt;&gt; def func(a, b, c=5):<br>\n",
    "print(a, b, c)<br>\n",
    "&gt;&gt;&gt; func(1, c=3, b=2)<br>"
   ]
  },
  {
   "cell_type": "code",
   "execution_count": 3,
   "id": "adff84c8",
   "metadata": {},
   "outputs": [
    {
     "name": "stdout",
     "output_type": "stream",
     "text": [
      "1 2 3\n"
     ]
    }
   ],
   "source": [
    "def func(a, b, c=5):\n",
    "    print(a, b, c)\n",
    "func(1, c=3, b=2)"
   ]
  },
  {
   "cell_type": "markdown",
   "id": "a523a062",
   "metadata": {},
   "source": [
    "#### Reason :\n",
    "\n",
    "- c argument value is default as 5 so the argument passed as 1 , c = 3 b = 2\n",
    "\n",
    "- a = 1 , b = 2 , c=3\n",
    "\n",
    "<br><br><br>\n",
    "<hr style=\"border:2px solid gray\">"
   ]
  },
  {
   "cell_type": "markdown",
   "id": "025d3a2d",
   "metadata": {},
   "source": [
    "### 3. How about this code: what is its result, and why?\n",
    "&gt;&gt;&gt; def func(a, *pargs):<br>\n",
    "print(a, pargs)<br>\n",
    "&gt;&gt;&gt; func(1, 2, 3)<br>"
   ]
  },
  {
   "cell_type": "code",
   "execution_count": 4,
   "id": "5523ad20",
   "metadata": {},
   "outputs": [
    {
     "name": "stdout",
     "output_type": "stream",
     "text": [
      "1 (2, 3)\n"
     ]
    }
   ],
   "source": [
    "def func(a, *pargs):\n",
    "    print(a, pargs)\n",
    "func(1, 2, 3)"
   ]
  },
  {
   "cell_type": "markdown",
   "id": "9e8fa541",
   "metadata": {},
   "source": [
    "#### Reason :\n",
    "\n",
    "- a is here positional argument which takes the value based on position so it took 1 where *pargs took rest argument i.e 2,3\n",
    "\n",
    "- a = 1 , *pargs = (2,3)\n",
    "\n",
    "<br><br><br>\n",
    "<hr style=\"border:2px solid gray\">"
   ]
  },
  {
   "cell_type": "markdown",
   "id": "b88af242",
   "metadata": {},
   "source": [
    "### 4. What does this code print, and why?\n",
    "&gt;&gt;&gt; def func(a, **kargs):<br>\n",
    "print(a, kargs)<br>\n",
    "&gt;&gt;&gt; func(a=1, c=3, b=2)<br>"
   ]
  },
  {
   "cell_type": "code",
   "execution_count": 5,
   "id": "98393032",
   "metadata": {},
   "outputs": [
    {
     "name": "stdout",
     "output_type": "stream",
     "text": [
      "1 {'c': 3, 'b': 2}\n"
     ]
    }
   ],
   "source": [
    "def func(a, **kargs):\n",
    "    print(a, kargs)\n",
    "func(a=1, c=3, b=2)"
   ]
  },
  {
   "cell_type": "markdown",
   "id": "396b9768",
   "metadata": {},
   "source": [
    "#### Reason :\n",
    "\n",
    "- a is here positional argument 1 has been give as a value where *kwargs took c = 3 and b = 2\n",
    "\n",
    "- a = 1 , kwargs = {'c' : 3,'b':2}\n",
    "\n",
    "<br><br><br>\n",
    "<hr style=\"border:2px solid gray\">"
   ]
  },
  {
   "cell_type": "markdown",
   "id": "85235383",
   "metadata": {},
   "source": [
    "### 5. What gets printed by this, and explain?\n",
    "&gt;&gt;&gt; def func(a, b, c=8, d=5): print(a, b, c, d)<br>\n",
    "&gt;&gt;&gt; func(1, *(5, 6))<br>"
   ]
  },
  {
   "cell_type": "code",
   "execution_count": 10,
   "id": "b33d796d",
   "metadata": {},
   "outputs": [
    {
     "name": "stdout",
     "output_type": "stream",
     "text": [
      "1 5 6 5\n"
     ]
    }
   ],
   "source": [
    "def func(a, b, c=8, d=5): print(a, b, c, d)\n",
    "func(1, *(5, 6))"
   ]
  },
  {
   "cell_type": "markdown",
   "id": "26ef9f66",
   "metadata": {},
   "source": [
    "#### Reason :\n",
    "\n",
    "- thisis an example of destructuring assignment where positional argument took the value as per position i.e 1 and variable such as b , c took 5,6 respectively and default value of d is 5 which is printed by function.\n",
    "\n",
    "\n",
    "- a = 1, b = 5, c = 6, d = 5\n",
    "\n",
    "<br><br><br>\n",
    "<hr style=\"border:2px solid gray\">"
   ]
  },
  {
   "cell_type": "markdown",
   "id": "cfc21822",
   "metadata": {},
   "source": [
    "### 6. what is the result of this, and explain?\n",
    "&gt;&gt;&gt; def func(a, b, c): a = 2; b[0] = &#39;x&#39;; c[&#39;a&#39;] = &#39;y&#39;<br>\n",
    "&gt;&gt;&gt; l=1; m=[1]; n={&#39;a&#39;:0}<br>\n",
    "&gt;&gt;&gt; func(l, m, n)<br>\n",
    "&gt;&gt;&gt; l, m, n<br>"
   ]
  },
  {
   "cell_type": "code",
   "execution_count": 9,
   "id": "47028391",
   "metadata": {},
   "outputs": [
    {
     "data": {
      "text/plain": [
       "(1, ['x'], {'a': 'y'})"
      ]
     },
     "execution_count": 9,
     "metadata": {},
     "output_type": "execute_result"
    }
   ],
   "source": [
    "def func(a, b, c): a = 2; b[0] = 'x'; c['a'] = 'y'\n",
    "l=1; m=[1]; n={'a':0}\n",
    "func(l, m, n)\n",
    "l, m, n"
   ]
  },
  {
   "cell_type": "markdown",
   "id": "7a852307",
   "metadata": {},
   "source": [
    "#### Reason :\n",
    "\n",
    "- function give arguments as l = 1 , m = [1] which is list containing value 1, this value 1 is being replaced with 'x'\n",
    "\n",
    "\n",
    "- n is the dictionary of 1 key value pair where value of key 'a' is replaced with 'y'\n",
    "\n",
    "\n",
    "- so we get l as 1 , m as ['x'] and n as {'a':'y'}\n",
    "\n",
    "<hr style=\"border:2px solid gray\">"
   ]
  }
 ],
 "metadata": {
  "kernelspec": {
   "display_name": "Python 3",
   "language": "python",
   "name": "python3"
  },
  "language_info": {
   "codemirror_mode": {
    "name": "ipython",
    "version": 3
   },
   "file_extension": ".py",
   "mimetype": "text/x-python",
   "name": "python",
   "nbconvert_exporter": "python",
   "pygments_lexer": "ipython3",
   "version": "3.8.8"
  },
  "varInspector": {
   "cols": {
    "lenName": 16,
    "lenType": 16,
    "lenVar": 40
   },
   "kernels_config": {
    "python": {
     "delete_cmd_postfix": "",
     "delete_cmd_prefix": "del ",
     "library": "var_list.py",
     "varRefreshCmd": "print(var_dic_list())"
    },
    "r": {
     "delete_cmd_postfix": ") ",
     "delete_cmd_prefix": "rm(",
     "library": "var_list.r",
     "varRefreshCmd": "cat(var_dic_list()) "
    }
   },
   "types_to_exclude": [
    "module",
    "function",
    "builtin_function_or_method",
    "instance",
    "_Feature"
   ],
   "window_display": false
  }
 },
 "nbformat": 4,
 "nbformat_minor": 5
}
