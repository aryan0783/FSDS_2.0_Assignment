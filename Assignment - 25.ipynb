{
 "cells": [
  {
   "cell_type": "markdown",
   "id": "f363389a",
   "metadata": {},
   "source": [
    "### 1) . What is the difference between enclosing a list comprehension in square brackets and parentheses?"
   ]
  },
  {
   "cell_type": "markdown",
   "id": "06f6a07e",
   "metadata": {},
   "source": [
    "- enclosing a list comprehension with parentheses will make it a generator object\n",
    "- enclosing a list comprehension with square brackets will give a list of elements"
   ]
  },
  {
   "cell_type": "code",
   "execution_count": 3,
   "id": "9e85f9fd",
   "metadata": {},
   "outputs": [],
   "source": [
    "# eg of list comprehension with parentheses :\n",
    "\n",
    "lis = (i for i in range(20) if i%2==0)"
   ]
  },
  {
   "cell_type": "code",
   "execution_count": 5,
   "id": "1fbadb08",
   "metadata": {},
   "outputs": [
    {
     "name": "stdout",
     "output_type": "stream",
     "text": [
      "<generator object <genexpr> at 0x0000021F8F989040>\n"
     ]
    }
   ],
   "source": [
    "print(lis)"
   ]
  },
  {
   "cell_type": "code",
   "execution_count": 4,
   "id": "4f69989e",
   "metadata": {},
   "outputs": [
    {
     "name": "stdout",
     "output_type": "stream",
     "text": [
      "0\n",
      "2\n",
      "4\n",
      "6\n",
      "8\n",
      "10\n",
      "12\n",
      "14\n",
      "16\n",
      "18\n"
     ]
    }
   ],
   "source": [
    "for i in lis:\n",
    "    \n",
    "    print(i)"
   ]
  },
  {
   "cell_type": "code",
   "execution_count": 6,
   "id": "f30b2566",
   "metadata": {},
   "outputs": [
    {
     "name": "stdout",
     "output_type": "stream",
     "text": [
      "[0, 2, 4, 6, 8, 10, 12, 14, 16, 18]\n"
     ]
    }
   ],
   "source": [
    "# eg of list comprehension with square bracket :\n",
    "\n",
    "lis = [i for i in range(20) if i%2==0]\n",
    "print(lis)"
   ]
  },
  {
   "cell_type": "markdown",
   "id": "22ef4184",
   "metadata": {},
   "source": [
    "### 2) What is the relationship between generators and iterators?"
   ]
  },
  {
   "cell_type": "markdown",
   "id": "e189d2c9",
   "metadata": {},
   "source": [
    "- generator provide a simple way to make iterator object in a user defined function using the keyword yield\n",
    "\n",
    "<br>\n",
    "\n",
    "- iterators is object that itererate over the object. Here we use the iter() and the next() functions"
   ]
  },
  {
   "cell_type": "code",
   "execution_count": 10,
   "id": "da10a004",
   "metadata": {},
   "outputs": [],
   "source": [
    "# generator :\n",
    "\n",
    "def generate(n):\n",
    "    \n",
    "    for i in range(n):\n",
    "        yield i"
   ]
  },
  {
   "cell_type": "code",
   "execution_count": 11,
   "id": "fad2d765",
   "metadata": {},
   "outputs": [
    {
     "name": "stdout",
     "output_type": "stream",
     "text": [
      "0\n",
      "1\n",
      "2\n",
      "3\n",
      "4\n",
      "5\n",
      "6\n",
      "7\n",
      "8\n",
      "9\n"
     ]
    }
   ],
   "source": [
    "for i in generate(10):\n",
    "    print(i)"
   ]
  },
  {
   "cell_type": "code",
   "execution_count": 13,
   "id": "f2e12d84",
   "metadata": {},
   "outputs": [],
   "source": [
    "# iterator :\n",
    "\n",
    "n = 'aryan'\n",
    "n = iter(n) # it converts the iterable into iterator :"
   ]
  },
  {
   "cell_type": "code",
   "execution_count": 14,
   "id": "3bce5dcf",
   "metadata": {},
   "outputs": [
    {
     "data": {
      "text/plain": [
       "'a'"
      ]
     },
     "execution_count": 14,
     "metadata": {},
     "output_type": "execute_result"
    }
   ],
   "source": [
    "next(n)"
   ]
  },
  {
   "cell_type": "code",
   "execution_count": 15,
   "id": "254422f9",
   "metadata": {},
   "outputs": [
    {
     "data": {
      "text/plain": [
       "'r'"
      ]
     },
     "execution_count": 15,
     "metadata": {},
     "output_type": "execute_result"
    }
   ],
   "source": [
    "next(n)"
   ]
  },
  {
   "cell_type": "markdown",
   "id": "8fe879d4",
   "metadata": {},
   "source": [
    "### 3) What are the signs that a function is a generator function?"
   ]
  },
  {
   "cell_type": "markdown",
   "id": "2cc78378",
   "metadata": {},
   "source": [
    "- it should have the yield keyword"
   ]
  },
  {
   "cell_type": "code",
   "execution_count": null,
   "id": "ea252c13",
   "metadata": {},
   "outputs": [],
   "source": [
    "# eg :\n",
    "\n",
    "\n",
    "# not a generator function :\n",
    "def hello():\n",
    "    \n",
    "    return \"Hello\"\n",
    "\n",
    "\n",
    "# not a generator function :\n",
    "def print_name(fname,lname):\n",
    "    \n",
    "    print(fname + ' ' + lname)\n",
    "\n",
    "    \n",
    "# it is a generator function as it has yield keyword : \n",
    "def generate_even(n):\n",
    "    \n",
    "    for i in range(n):\n",
    "        \n",
    "        if i%2==0:\n",
    "            \n",
    "            yield i"
   ]
  },
  {
   "cell_type": "markdown",
   "id": "4a1cc03a",
   "metadata": {},
   "source": [
    "### 4) What is the purpose of a yield statement?"
   ]
  },
  {
   "cell_type": "markdown",
   "id": "5d07b56e",
   "metadata": {},
   "source": [
    "- Purpose of the yield statement is to generate the values one by one and not all at once.\n",
    "- it also executes faster so it helpful in the case of longer iterator programs"
   ]
  },
  {
   "cell_type": "code",
   "execution_count": 32,
   "id": "d3608401",
   "metadata": {},
   "outputs": [],
   "source": [
    "# eg :\n",
    "\n",
    "def generate_even(n):\n",
    "    \n",
    "    for i in range(n):\n",
    "        \n",
    "        if i%2==0:\n",
    "            \n",
    "            yield i"
   ]
  },
  {
   "cell_type": "code",
   "execution_count": 20,
   "id": "c60b6d9f",
   "metadata": {},
   "outputs": [
    {
     "name": "stdout",
     "output_type": "stream",
     "text": [
      "0\n",
      "2\n",
      "4\n",
      "6\n",
      "8\n"
     ]
    }
   ],
   "source": [
    "for i in generate_even(10):\n",
    "    print(i)"
   ]
  },
  {
   "cell_type": "code",
   "execution_count": 48,
   "id": "8263b7e0",
   "metadata": {},
   "outputs": [
    {
     "name": "stdout",
     "output_type": "stream",
     "text": [
      "0.01646733283996582\n"
     ]
    }
   ],
   "source": [
    "# Calculating the execution time for the generator :\n",
    "\n",
    "import time\n",
    " \n",
    "start = time.time()\n",
    "\n",
    "lis = []\n",
    "\n",
    "for i in generate_even(100000):\n",
    "    lis += [i]\n",
    "\n",
    "end = time.time()\n",
    "\n",
    "print(end-start)"
   ]
  },
  {
   "cell_type": "markdown",
   "id": "9de86269",
   "metadata": {},
   "source": [
    "### 5) What is the relationship between map calls and list comprehensions? Make a comparison and contrast between the two."
   ]
  },
  {
   "cell_type": "markdown",
   "id": "ee4da0a1",
   "metadata": {},
   "source": [
    "- map function returns only the map object to get the values we need to convert it to list\n",
    "- map is faster\n",
    "\n",
    "<br>\n",
    "\n",
    "- list comprehension is easier to use than the map function.\n",
    "- it is quite slower"
   ]
  },
  {
   "cell_type": "code",
   "execution_count": 17,
   "id": "80d441b6",
   "metadata": {},
   "outputs": [
    {
     "name": "stdout",
     "output_type": "stream",
     "text": [
      "[5, 3, 5, 4, 3]\n"
     ]
    }
   ],
   "source": [
    "# eg map function :\n",
    "\n",
    "string = ['aryan','app','mango','kiwi','ore']\n",
    "\n",
    "# providing the length of all the element in the string list :\n",
    "lis = list(map(len,string))\n",
    "\n",
    "print(lis)"
   ]
  }
 ],
 "metadata": {
  "kernelspec": {
   "display_name": "Python 3",
   "language": "python",
   "name": "python3"
  },
  "language_info": {
   "codemirror_mode": {
    "name": "ipython",
    "version": 3
   },
   "file_extension": ".py",
   "mimetype": "text/x-python",
   "name": "python",
   "nbconvert_exporter": "python",
   "pygments_lexer": "ipython3",
   "version": "3.8.8"
  },
  "varInspector": {
   "cols": {
    "lenName": 16,
    "lenType": 16,
    "lenVar": 40
   },
   "kernels_config": {
    "python": {
     "delete_cmd_postfix": "",
     "delete_cmd_prefix": "del ",
     "library": "var_list.py",
     "varRefreshCmd": "print(var_dic_list())"
    },
    "r": {
     "delete_cmd_postfix": ") ",
     "delete_cmd_prefix": "rm(",
     "library": "var_list.r",
     "varRefreshCmd": "cat(var_dic_list()) "
    }
   },
   "types_to_exclude": [
    "module",
    "function",
    "builtin_function_or_method",
    "instance",
    "_Feature"
   ],
   "window_display": false
  }
 },
 "nbformat": 4,
 "nbformat_minor": 5
}
