{
 "cells": [
  {
   "cell_type": "markdown",
   "id": "d383e7ee",
   "metadata": {},
   "source": [
    "### Question 1: Define a class with a generator which can iterate the numbers, which are divisible by 7, between a given range 0 and n."
   ]
  },
  {
   "cell_type": "code",
   "execution_count": 1,
   "id": "b422ce97",
   "metadata": {},
   "outputs": [],
   "source": [
    "class Divisible:\n",
    "    \n",
    "    def __init__(self,stop):\n",
    "        self.start = 0\n",
    "        self.stop = stop\n",
    "        \n",
    "    # generator method :\n",
    "    def div_by_7(self):\n",
    "        \n",
    "        for i in range(self.start,self.stop):\n",
    "            \n",
    "            if i%7==0:\n",
    "                \n",
    "                yield i"
   ]
  },
  {
   "cell_type": "code",
   "execution_count": 2,
   "id": "9a1155e0",
   "metadata": {},
   "outputs": [
    {
     "name": "stdout",
     "output_type": "stream",
     "text": [
      "0\n",
      "7\n",
      "14\n",
      "21\n"
     ]
    }
   ],
   "source": [
    "obj1 = Divisible(25)\n",
    "\n",
    "for i in obj1.div_by_7():\n",
    "    print(i)"
   ]
  },
  {
   "cell_type": "markdown",
   "id": "54009de8",
   "metadata": {},
   "source": [
    "### Question 2: Write a program to compute the frequency of the words from the input. \n",
    "```\n",
    "The output should output after sorting the key alphanumerically.\n",
    "Suppose the following input is supplied to the program:\n",
    "\n",
    "New to Python or choosing between Python 2 and Python 3? Read Python 2 or\n",
    "Python 3.\n",
    "\n",
    "Then, the output should be:\n",
    "\n",
    "2:2\n",
    "3.:1\n",
    "3?:1\n",
    "New:1\n",
    "Python:5\n",
    "Read:1\n",
    "and:1\n",
    "between:1\n",
    "choosing:1\n",
    "or:2\n",
    "to:1\n",
    "```"
   ]
  },
  {
   "cell_type": "code",
   "execution_count": 14,
   "id": "7303cc2d",
   "metadata": {},
   "outputs": [
    {
     "name": "stdout",
     "output_type": "stream",
     "text": [
      "Enter the string : New to Python or choosing between Python 2 and Python 3? Read Python 2 or Python 3.\n",
      "\n",
      "{'2': 2, '3.': 1, '3?': 1, 'New': 1, 'Python': 5, 'Read': 1, 'and': 1, 'between': 1, 'choosing': 1, 'or': 2, 'to': 1}\n"
     ]
    }
   ],
   "source": [
    "# frequency calculator :\n",
    "\n",
    "n = input(\"Enter the string : \")\n",
    "\n",
    "print()\n",
    "\n",
    "lis = n.split(' ')\n",
    "dict1 = {}\n",
    "\n",
    "for i in range(len(lis)):\n",
    "    \n",
    "    count = 0\n",
    "    \n",
    "    for j in range(i,len(lis)):\n",
    "        \n",
    "        if lis[i] == lis[j]:\n",
    "            count += 1\n",
    "        \n",
    "    if lis[i] not in dict1:\n",
    "        \n",
    "        dict1[lis[i]] = count\n",
    "        \n",
    "list_ = list(dict1.items())\n",
    "list_.sort()\n",
    "print(dict(list_))"
   ]
  },
  {
   "cell_type": "markdown",
   "id": "0dbfc314",
   "metadata": {},
   "source": [
    "### Question 3: Define a class Person and its two child classes: Male and Female. All classes have a method &quot;getGender&quot; which can print &quot;Male&quot; for Male class and &quot;Female&quot; for Female class."
   ]
  },
  {
   "cell_type": "code",
   "execution_count": 15,
   "id": "0a369fd4",
   "metadata": {},
   "outputs": [],
   "source": [
    "# parent class :\n",
    "class Person:\n",
    "    \n",
    "    def getGender(self):\n",
    "        \n",
    "        return \n",
    " \n",
    "# child class :\n",
    "class Male(Person):\n",
    "    \n",
    "    def getGender(self):\n",
    "        \n",
    "        return 'The gender is Male!'\n",
    "\n",
    "# child class :\n",
    "class Female(Person):\n",
    "    \n",
    "    def getGender(self):\n",
    "        \n",
    "        return 'The gender is Female!'"
   ]
  },
  {
   "cell_type": "code",
   "execution_count": 17,
   "id": "7eaf4870",
   "metadata": {},
   "outputs": [
    {
     "name": "stdout",
     "output_type": "stream",
     "text": [
      "The gender is Male!\n",
      "The gender is Female!\n"
     ]
    }
   ],
   "source": [
    "male1 = Male()\n",
    "print(male1.getGender())\n",
    "\n",
    "female1 = Female()\n",
    "print(female1.getGender())"
   ]
  },
  {
   "cell_type": "markdown",
   "id": "cc6c4af4",
   "metadata": {},
   "source": [
    "### Question 4: Please write a program to generate all sentences where subject is in [&quot;I&quot;, &quot;You&quot;] and verb is in [&quot;Play&quot;, &quot;Love&quot;] and the object is in [&quot;Hockey&quot;,&quot;Football&quot;]."
   ]
  },
  {
   "cell_type": "code",
   "execution_count": 18,
   "id": "6e4b6c12",
   "metadata": {},
   "outputs": [],
   "source": [
    "def sentence_gen():\n",
    "    \n",
    "    subject = ['I','You']\n",
    "    verb = ['Play','Love']\n",
    "    obj = ['Hockey','Football']\n",
    "\n",
    "    for i in subject:\n",
    "\n",
    "        for j in verb:\n",
    "\n",
    "            for k in obj:\n",
    "\n",
    "                yield f\"{i} {j} {k}\""
   ]
  },
  {
   "cell_type": "code",
   "execution_count": 19,
   "id": "2bfb0627",
   "metadata": {},
   "outputs": [
    {
     "name": "stdout",
     "output_type": "stream",
     "text": [
      "I Play Hockey\n",
      "I Play Football\n",
      "I Love Hockey\n",
      "I Love Football\n",
      "You Play Hockey\n",
      "You Play Football\n",
      "You Love Hockey\n",
      "You Love Football\n"
     ]
    }
   ],
   "source": [
    "for i in sentence_gen():\n",
    "    \n",
    "    print(i)"
   ]
  },
  {
   "cell_type": "markdown",
   "id": "d708d92f",
   "metadata": {},
   "source": [
    "### Question 5: Please write a program to compress and decompress the string &quot;hello world!hello world!hello world!hello world!&quot;."
   ]
  },
  {
   "cell_type": "code",
   "execution_count": 27,
   "id": "7aa91584",
   "metadata": {},
   "outputs": [
    {
     "name": "stdout",
     "output_type": "stream",
     "text": [
      "hello world!\n"
     ]
    }
   ],
   "source": [
    "n = \"hello world!hello world!hello world!hello world!\"\n",
    "\n",
    "# compress :\n",
    "lis = n.split('!')\n",
    "lis = list(set(lis))\n",
    "\n",
    "for i in lis:\n",
    "    if len(i)<1:\n",
    "        lis.remove(i)\n",
    "        \n",
    "value = lis[0] + '!'\n",
    "print(value)"
   ]
  },
  {
   "cell_type": "code",
   "execution_count": 28,
   "id": "15301cd0",
   "metadata": {},
   "outputs": [
    {
     "name": "stdout",
     "output_type": "stream",
     "text": [
      "hello world!hello world!hello world!hello world!hello world!\n"
     ]
    }
   ],
   "source": [
    "n = \"hello world!hello world!hello world!hello world!\"\n",
    "\n",
    "# decompress :\n",
    "lis = n.split('!')\n",
    "lis = list(set(lis))\n",
    "\n",
    "for i in lis:\n",
    "    if len(i)<1:\n",
    "        lis.remove(i)\n",
    "        \n",
    "value = lis[0] + '!'\n",
    "print(n + value)"
   ]
  },
  {
   "cell_type": "markdown",
   "id": "8fa4be56",
   "metadata": {},
   "source": [
    "### Question 6: Please write a binary search function which searches an item in a sorted list. The function should return the index of element to be searched in the list."
   ]
  },
  {
   "cell_type": "code",
   "execution_count": 33,
   "id": "6e98c6dc",
   "metadata": {},
   "outputs": [],
   "source": [
    "def binary_search(lis,val):\n",
    "    \n",
    "    if type(lis) == list:\n",
    "        \n",
    "        left = 0\n",
    "        right = len(lis)-1\n",
    "        \n",
    "        while left<=right:\n",
    "            \n",
    "            mid = (left+right)//2\n",
    "            \n",
    "            if lis[mid] == val:\n",
    "                \n",
    "                return mid\n",
    "            \n",
    "            elif lis[mid] < val:\n",
    "                \n",
    "                left = mid + 1\n",
    "                \n",
    "            else :\n",
    "                \n",
    "                right = mid - 1\n",
    "                \n",
    "        return \"Not found!\"\n",
    "    \n",
    "    else :\n",
    "        \n",
    "        return \"Please give list data type data!\""
   ]
  },
  {
   "cell_type": "code",
   "execution_count": 36,
   "id": "c5591d80",
   "metadata": {},
   "outputs": [
    {
     "data": {
      "text/plain": [
       "5"
      ]
     },
     "execution_count": 36,
     "metadata": {},
     "output_type": "execute_result"
    }
   ],
   "source": [
    "binary_search([12,23,34,45,56,67,78],67)"
   ]
  }
 ],
 "metadata": {
  "kernelspec": {
   "display_name": "Python 3",
   "language": "python",
   "name": "python3"
  },
  "language_info": {
   "codemirror_mode": {
    "name": "ipython",
    "version": 3
   },
   "file_extension": ".py",
   "mimetype": "text/x-python",
   "name": "python",
   "nbconvert_exporter": "python",
   "pygments_lexer": "ipython3",
   "version": "3.8.8"
  },
  "varInspector": {
   "cols": {
    "lenName": 16,
    "lenType": 16,
    "lenVar": 40
   },
   "kernels_config": {
    "python": {
     "delete_cmd_postfix": "",
     "delete_cmd_prefix": "del ",
     "library": "var_list.py",
     "varRefreshCmd": "print(var_dic_list())"
    },
    "r": {
     "delete_cmd_postfix": ") ",
     "delete_cmd_prefix": "rm(",
     "library": "var_list.r",
     "varRefreshCmd": "cat(var_dic_list()) "
    }
   },
   "types_to_exclude": [
    "module",
    "function",
    "builtin_function_or_method",
    "instance",
    "_Feature"
   ],
   "window_display": false
  }
 },
 "nbformat": 4,
 "nbformat_minor": 5
}
