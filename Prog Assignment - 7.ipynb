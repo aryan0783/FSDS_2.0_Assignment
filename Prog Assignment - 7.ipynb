{
 "cells": [
  {
   "cell_type": "markdown",
   "id": "4acc3cf0",
   "metadata": {},
   "source": [
    "### 1. Write a Python Program to find sum of array?"
   ]
  },
  {
   "cell_type": "code",
   "execution_count": 3,
   "id": "f9442a1c",
   "metadata": {},
   "outputs": [],
   "source": [
    "def array_sum(lis):\n",
    "    \n",
    "    if type(lis) == list:\n",
    "        \n",
    "        sum = 0\n",
    "        \n",
    "        for i in lis:\n",
    "            \n",
    "            if type(i) == int or type(i) == float:\n",
    "                \n",
    "                sum += i\n",
    "                \n",
    "        return sum\n",
    "                \n",
    "    else:\n",
    "        \n",
    "        return 'Please give the appropriate data type data!'"
   ]
  },
  {
   "cell_type": "code",
   "execution_count": 4,
   "id": "64066b27",
   "metadata": {},
   "outputs": [
    {
     "data": {
      "text/plain": [
       "99"
      ]
     },
     "execution_count": 4,
     "metadata": {},
     "output_type": "execute_result"
    }
   ],
   "source": [
    "array_sum([1,2,3,4,'a','b',89])"
   ]
  },
  {
   "cell_type": "markdown",
   "id": "2229e66b",
   "metadata": {},
   "source": [
    "### 2. Write a Python Program to find largest element in an array?"
   ]
  },
  {
   "cell_type": "code",
   "execution_count": 5,
   "id": "ab7ba202",
   "metadata": {},
   "outputs": [],
   "source": [
    "def largest_ele(lis):\n",
    "    \n",
    "    if type(lis) == list:\n",
    "        \n",
    "        max_ele = lis[0]\n",
    "        \n",
    "        for i in lis:\n",
    "            \n",
    "            if type(i) == int or type(i) == float:\n",
    "                \n",
    "                if max_ele < i:\n",
    "                    \n",
    "                    max_ele = i\n",
    "                \n",
    "        return max_ele\n",
    "                \n",
    "    else:\n",
    "        \n",
    "        return 'Please give the appropriate data type data!'"
   ]
  },
  {
   "cell_type": "code",
   "execution_count": 6,
   "id": "753fe333",
   "metadata": {},
   "outputs": [
    {
     "data": {
      "text/plain": [
       "312"
      ]
     },
     "execution_count": 6,
     "metadata": {},
     "output_type": "execute_result"
    }
   ],
   "source": [
    "largest_ele([1,2,312,254,5,53])"
   ]
  },
  {
   "cell_type": "markdown",
   "id": "7c27cf56",
   "metadata": {},
   "source": [
    "### 3. Write a Python Program for array rotation?"
   ]
  },
  {
   "cell_type": "code",
   "execution_count": 7,
   "id": "8f01dad6",
   "metadata": {},
   "outputs": [
    {
     "name": "stdout",
     "output_type": "stream",
     "text": [
      "[6, 4, 6, 5, 4, 3, 2, 1]\n"
     ]
    }
   ],
   "source": [
    "n = [1,2,3,4,5,6,4,6]\n",
    "\n",
    "print(n[::-1])"
   ]
  },
  {
   "cell_type": "markdown",
   "id": "6b7a56fd",
   "metadata": {},
   "source": [
    "### 4. Write a Python Program to Split the array and add the first part to the end?"
   ]
  },
  {
   "cell_type": "code",
   "execution_count": 14,
   "id": "9b53decb",
   "metadata": {},
   "outputs": [
    {
     "name": "stdout",
     "output_type": "stream",
     "text": [
      "Enter the index to split the array : 6\n",
      "\n",
      "[7, 8, 1, 2, 3, 4, 5, 6]\n"
     ]
    }
   ],
   "source": [
    "n = [1,2,3,4,5,6,7,8]\n",
    "\n",
    "loc = int(input(\"Enter the index to split the array : \"))\n",
    "\n",
    "if len(n)<loc:\n",
    "    \n",
    "    print('Out of Index!')\n",
    "    \n",
    "else:\n",
    "    \n",
    "    print()\n",
    "    print(n[loc:]+n[:loc])"
   ]
  },
  {
   "cell_type": "markdown",
   "id": "39904ba9",
   "metadata": {},
   "source": [
    "### 5. Write a Python Program to check if given array is Monotonic?"
   ]
  },
  {
   "cell_type": "code",
   "execution_count": 18,
   "id": "ccb041e4",
   "metadata": {},
   "outputs": [],
   "source": [
    "def mono(lis):\n",
    "    \n",
    "    if type(lis) == list:\n",
    "        \n",
    "        if lis[0]>lis[1]:\n",
    "        \n",
    "            for i in range(len(lis)-1):\n",
    "            \n",
    "                if lis[i]<lis[i+1]:\n",
    "                    \n",
    "                    break\n",
    "                    \n",
    "            else:\n",
    "                \n",
    "                return 'List is monotonic decreasing!'\n",
    "            \n",
    "        elif lis[0]<lis[1]:\n",
    "        \n",
    "            for i in range(len(lis)-1):\n",
    "            \n",
    "                if lis[i]>lis[i+1]:\n",
    "                    \n",
    "                    break\n",
    "                    \n",
    "            else:\n",
    "                \n",
    "                return 'List is monotonic increasing!'\n",
    "            \n",
    "            \n",
    "        return 'List in not monotonic'\n",
    "        \n",
    "            \n",
    "    else:\n",
    "        \n",
    "        return 'Please give the appropriate data type data!'"
   ]
  },
  {
   "cell_type": "code",
   "execution_count": 16,
   "id": "1c57fc97",
   "metadata": {},
   "outputs": [
    {
     "data": {
      "text/plain": [
       "'List is monotonic increasing!'"
      ]
     },
     "execution_count": 16,
     "metadata": {},
     "output_type": "execute_result"
    }
   ],
   "source": [
    "mono([1,2,3,4,5,6])"
   ]
  },
  {
   "cell_type": "code",
   "execution_count": 17,
   "id": "a681d1b1",
   "metadata": {},
   "outputs": [
    {
     "data": {
      "text/plain": [
       "'List is monotonic decreasing!'"
      ]
     },
     "execution_count": 17,
     "metadata": {},
     "output_type": "execute_result"
    }
   ],
   "source": [
    "mono([6,5,4,3,2,1])"
   ]
  },
  {
   "cell_type": "code",
   "execution_count": 19,
   "id": "5bbbd45d",
   "metadata": {},
   "outputs": [
    {
     "data": {
      "text/plain": [
       "'List in not monotonic'"
      ]
     },
     "execution_count": 19,
     "metadata": {},
     "output_type": "execute_result"
    }
   ],
   "source": [
    "mono([1,2,3,4,5,3])"
   ]
  }
 ],
 "metadata": {
  "kernelspec": {
   "display_name": "Python 3",
   "language": "python",
   "name": "python3"
  },
  "language_info": {
   "codemirror_mode": {
    "name": "ipython",
    "version": 3
   },
   "file_extension": ".py",
   "mimetype": "text/x-python",
   "name": "python",
   "nbconvert_exporter": "python",
   "pygments_lexer": "ipython3",
   "version": "3.8.8"
  },
  "varInspector": {
   "cols": {
    "lenName": 16,
    "lenType": 16,
    "lenVar": 40
   },
   "kernels_config": {
    "python": {
     "delete_cmd_postfix": "",
     "delete_cmd_prefix": "del ",
     "library": "var_list.py",
     "varRefreshCmd": "print(var_dic_list())"
    },
    "r": {
     "delete_cmd_postfix": ") ",
     "delete_cmd_prefix": "rm(",
     "library": "var_list.r",
     "varRefreshCmd": "cat(var_dic_list()) "
    }
   },
   "types_to_exclude": [
    "module",
    "function",
    "builtin_function_or_method",
    "instance",
    "_Feature"
   ],
   "window_display": false
  }
 },
 "nbformat": 4,
 "nbformat_minor": 5
}
