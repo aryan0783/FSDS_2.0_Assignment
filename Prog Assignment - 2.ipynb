{
 "cells": [
  {
   "cell_type": "markdown",
   "id": "853b4838",
   "metadata": {},
   "source": [
    "### 1. Write a Python program to convert kilometers to miles?"
   ]
  },
  {
   "cell_type": "code",
   "execution_count": 29,
   "id": "6e7b46d7",
   "metadata": {},
   "outputs": [
    {
     "name": "stdout",
     "output_type": "stream",
     "text": [
      "Enter the distance in km : 5\n",
      "\n",
      "Kilometer : 5\tMiles : 3.11\n"
     ]
    }
   ],
   "source": [
    "distance_km = int(input(\"Enter the distance in km : \"))\n",
    "\n",
    "# formula\n",
    "distance_miles = distance_km/1.609344\n",
    "\n",
    "print(f\"\\nKilometer : {distance_km}\\tMiles : %.2f\"%distance_miles)"
   ]
  },
  {
   "cell_type": "markdown",
   "id": "0aacc620",
   "metadata": {},
   "source": [
    "### 2. Write a Python program to convert Celsius to Fahrenheit?"
   ]
  },
  {
   "cell_type": "code",
   "execution_count": 4,
   "id": "a5a53b48",
   "metadata": {},
   "outputs": [
    {
     "name": "stdout",
     "output_type": "stream",
     "text": [
      "Enter the temperature in celsius : 5\n",
      "\n",
      "Celsius : 5\tFahrenheit : 41.00\n"
     ]
    }
   ],
   "source": [
    "Celsius = int(input(\"Enter the temperature in celsius : \"))\n",
    "\n",
    "# formula :\n",
    "fahrenheit = (Celsius * 9/5) + 32\n",
    "\n",
    "print(f\"\\nCelsius : {Celsius}\\tFahrenheit : %.2f\"%fahrenheit)"
   ]
  },
  {
   "cell_type": "markdown",
   "id": "8bde270a",
   "metadata": {},
   "source": [
    "### 3. Write a Python program to display calendar?"
   ]
  },
  {
   "cell_type": "code",
   "execution_count": 10,
   "id": "7cec93e0",
   "metadata": {},
   "outputs": [
    {
     "name": "stdout",
     "output_type": "stream",
     "text": [
      "Enter the year : 2012\n",
      "                                  2012\n",
      "\n",
      "      January                   February                   March\n",
      "Mo Tu We Th Fr Sa Su      Mo Tu We Th Fr Sa Su      Mo Tu We Th Fr Sa Su\n",
      "                   1             1  2  3  4  5                1  2  3  4\n",
      " 2  3  4  5  6  7  8       6  7  8  9 10 11 12       5  6  7  8  9 10 11\n",
      " 9 10 11 12 13 14 15      13 14 15 16 17 18 19      12 13 14 15 16 17 18\n",
      "16 17 18 19 20 21 22      20 21 22 23 24 25 26      19 20 21 22 23 24 25\n",
      "23 24 25 26 27 28 29      27 28 29                  26 27 28 29 30 31\n",
      "30 31\n",
      "\n",
      "       April                      May                       June\n",
      "Mo Tu We Th Fr Sa Su      Mo Tu We Th Fr Sa Su      Mo Tu We Th Fr Sa Su\n",
      "                   1          1  2  3  4  5  6                   1  2  3\n",
      " 2  3  4  5  6  7  8       7  8  9 10 11 12 13       4  5  6  7  8  9 10\n",
      " 9 10 11 12 13 14 15      14 15 16 17 18 19 20      11 12 13 14 15 16 17\n",
      "16 17 18 19 20 21 22      21 22 23 24 25 26 27      18 19 20 21 22 23 24\n",
      "23 24 25 26 27 28 29      28 29 30 31               25 26 27 28 29 30\n",
      "30\n",
      "\n",
      "        July                     August                  September\n",
      "Mo Tu We Th Fr Sa Su      Mo Tu We Th Fr Sa Su      Mo Tu We Th Fr Sa Su\n",
      "                   1             1  2  3  4  5                      1  2\n",
      " 2  3  4  5  6  7  8       6  7  8  9 10 11 12       3  4  5  6  7  8  9\n",
      " 9 10 11 12 13 14 15      13 14 15 16 17 18 19      10 11 12 13 14 15 16\n",
      "16 17 18 19 20 21 22      20 21 22 23 24 25 26      17 18 19 20 21 22 23\n",
      "23 24 25 26 27 28 29      27 28 29 30 31            24 25 26 27 28 29 30\n",
      "30 31\n",
      "\n",
      "      October                   November                  December\n",
      "Mo Tu We Th Fr Sa Su      Mo Tu We Th Fr Sa Su      Mo Tu We Th Fr Sa Su\n",
      " 1  2  3  4  5  6  7                1  2  3  4                      1  2\n",
      " 8  9 10 11 12 13 14       5  6  7  8  9 10 11       3  4  5  6  7  8  9\n",
      "15 16 17 18 19 20 21      12 13 14 15 16 17 18      10 11 12 13 14 15 16\n",
      "22 23 24 25 26 27 28      19 20 21 22 23 24 25      17 18 19 20 21 22 23\n",
      "29 30 31                  26 27 28 29 30            24 25 26 27 28 29 30\n",
      "                                                    31\n",
      "\n"
     ]
    }
   ],
   "source": [
    "# using the calendar module :\n",
    "\n",
    "import calendar\n",
    "\n",
    "year = int(input(\"Enter the year : \"))\n",
    "\n",
    "print(calendar.calendar(year))"
   ]
  },
  {
   "cell_type": "markdown",
   "id": "b67b6b91",
   "metadata": {},
   "source": [
    "### 4. Write a Python program to solve quadratic equation?"
   ]
  },
  {
   "cell_type": "code",
   "execution_count": 19,
   "id": "406a464a",
   "metadata": {},
   "outputs": [],
   "source": [
    "import cmath  # use of complex math module :\n",
    "\n",
    "def quad_eq(a,b,c) :\n",
    "\n",
    "    if type(a) == int and type(b) == int and type(c) == int :\n",
    "        \n",
    "        # discriminant formula \n",
    "        dis = (b*b) - (4*a*c)\n",
    "        \n",
    "        if dis > 0:\n",
    "            \n",
    "            sol1 = (-b + cmath.sqrt(abs(dis)))/(2*a)\n",
    "            sol2 = (-b - cmath.sqrt(abs(dis)))/(2*a)\n",
    "            return f'Roots are real and different\\n{sol1}\\n{sol2}'\n",
    "        \n",
    "        elif dis < 0:\n",
    "            \n",
    "            sol1 = (-b + cmath.sqrt(abs(dis)))/(2*a)\n",
    "            sol2 = (-b - cmath.sqrt(abs(dis)))/(2*a)\n",
    "            return f'Roots are complex (not real)\\n{sol1}\\n{sol2}'\n",
    "        \n",
    "        elif dis == 0:\n",
    "            \n",
    "            sol1 = -b / (2*a)\n",
    "            return f'Roots are real and equal\\n{sol1}'\n",
    "        \n",
    "    else:\n",
    "        \n",
    "        return 'Please enter the appropriate data types value!'"
   ]
  },
  {
   "cell_type": "code",
   "execution_count": 20,
   "id": "089f3965",
   "metadata": {},
   "outputs": [
    {
     "name": "stdout",
     "output_type": "stream",
     "text": [
      "Roots are real and different\n",
      "(2+0j)\n",
      "(-12+0j)\n"
     ]
    }
   ],
   "source": [
    "print(quad_eq(1,10,-24))"
   ]
  },
  {
   "cell_type": "code",
   "execution_count": 21,
   "id": "97bc46d0",
   "metadata": {},
   "outputs": [
    {
     "name": "stdout",
     "output_type": "stream",
     "text": [
      "Roots are real and different\n",
      "(-0.5857864376269049+0j)\n",
      "(-3.414213562373095+0j)\n"
     ]
    }
   ],
   "source": [
    "print(quad_eq(1,4,2))"
   ]
  },
  {
   "cell_type": "markdown",
   "id": "518bba33",
   "metadata": {},
   "source": [
    "### 5. Write a Python program to swap two variables without temp variable?"
   ]
  },
  {
   "cell_type": "code",
   "execution_count": 27,
   "id": "01304c2a",
   "metadata": {},
   "outputs": [
    {
     "name": "stdout",
     "output_type": "stream",
     "text": [
      "Enter the first no. : 45\n",
      "Enter the second no. : 65\n",
      "\n",
      "a : 45\tb : 65\n",
      "a : 65\tb : 45\n"
     ]
    }
   ],
   "source": [
    "a = int(input(\"Enter the first no. : \"))\n",
    "b = int(input(\"Enter the second no. : \"))\n",
    "\n",
    "print(f\"\\na : {a}\\tb : {b}\")\n",
    "\n",
    "a , b = b , a\n",
    "\n",
    "print(f\"a : {a}\\tb : {b}\")"
   ]
  }
 ],
 "metadata": {
  "kernelspec": {
   "display_name": "Python 3",
   "language": "python",
   "name": "python3"
  },
  "language_info": {
   "codemirror_mode": {
    "name": "ipython",
    "version": 3
   },
   "file_extension": ".py",
   "mimetype": "text/x-python",
   "name": "python",
   "nbconvert_exporter": "python",
   "pygments_lexer": "ipython3",
   "version": "3.8.8"
  },
  "varInspector": {
   "cols": {
    "lenName": 16,
    "lenType": 16,
    "lenVar": 40
   },
   "kernels_config": {
    "python": {
     "delete_cmd_postfix": "",
     "delete_cmd_prefix": "del ",
     "library": "var_list.py",
     "varRefreshCmd": "print(var_dic_list())"
    },
    "r": {
     "delete_cmd_postfix": ") ",
     "delete_cmd_prefix": "rm(",
     "library": "var_list.r",
     "varRefreshCmd": "cat(var_dic_list()) "
    }
   },
   "types_to_exclude": [
    "module",
    "function",
    "builtin_function_or_method",
    "instance",
    "_Feature"
   ],
   "window_display": false
  }
 },
 "nbformat": 4,
 "nbformat_minor": 5
}
