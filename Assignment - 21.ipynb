{
 "cells": [
  {
   "cell_type": "markdown",
   "id": "38852f38",
   "metadata": {},
   "source": [
    "### 1. Add the current date to the text file today.txt as a string."
   ]
  },
  {
   "cell_type": "code",
   "execution_count": 6,
   "id": "27f861df",
   "metadata": {},
   "outputs": [],
   "source": [
    "import datetime\n",
    "\n",
    "date = datetime.datetime.now()\n",
    "\n",
    "f = open('today.txt','w')\n",
    "f.write(date.strftime('%d-%m-%y'))\n",
    "f.close()"
   ]
  },
  {
   "cell_type": "markdown",
   "id": "074dd767",
   "metadata": {},
   "source": [
    "### 2. Read the text file today.txt into the string today_string"
   ]
  },
  {
   "cell_type": "code",
   "execution_count": 9,
   "id": "ec9fd470",
   "metadata": {},
   "outputs": [
    {
     "name": "stdout",
     "output_type": "stream",
     "text": [
      "08-08-23 <class 'str'>\n"
     ]
    }
   ],
   "source": [
    "f = open('today.txt')\n",
    "today_string = f.read()\n",
    "print(today_string,type(today_string))\n",
    "f.close()"
   ]
  },
  {
   "cell_type": "markdown",
   "id": "424c15a4",
   "metadata": {},
   "source": [
    "### 3. Parse the date from today_string."
   ]
  },
  {
   "cell_type": "code",
   "execution_count": 12,
   "id": "8b833012",
   "metadata": {},
   "outputs": [
    {
     "name": "stdout",
     "output_type": "stream",
     "text": [
      "08\n",
      "08\n",
      "23\n"
     ]
    }
   ],
   "source": [
    "# unpacking the date , month , year\n",
    "d,m,y = today_string.split('-')\n",
    "\n",
    "# date :\n",
    "print(d)\n",
    "\n",
    "# month :\n",
    "print(m)\n",
    "\n",
    "# year :\n",
    "print(y)"
   ]
  },
  {
   "cell_type": "markdown",
   "id": "56f3ef19",
   "metadata": {},
   "source": [
    "### 4. List the files in your current directory"
   ]
  },
  {
   "cell_type": "code",
   "execution_count": 17,
   "id": "232f61dd",
   "metadata": {},
   "outputs": [
    {
     "data": {
      "text/plain": [
       "['.ipynb_checkpoints',\n",
       " 'Assignment - 10.ipynb',\n",
       " 'Assignment - 22.ipynb',\n",
       " 'Assignment - 23.ipynb',\n",
       " 'Assignment - 24 .ipynb',\n",
       " 'Assignment - 25.ipynb',\n",
       " 'Assignment - 6.ipynb',\n",
       " 'Assignment - 7.ipynb',\n",
       " 'Assignment - 8.ipynb',\n",
       " 'Assignment - 9.ipynb',\n",
       " 'class 29_06.ipynb',\n",
       " 'Prog Assignment - 1.ipynb',\n",
       " 'Prog Assignment - 10.ipynb',\n",
       " 'Prog Assignment - 11.ipynb',\n",
       " 'Prog Assignment - 12.ipynb',\n",
       " 'Prog Assignment - 13.ipynb',\n",
       " 'Prog Assignment - 14.ipynb',\n",
       " 'Prog Assignment - 15.ipynb',\n",
       " 'Prog Assignment - 16.ipynb',\n",
       " 'Prog Assignment - 17.ipynb',\n",
       " 'Prog Assignment - 18.ipynb',\n",
       " 'Prog Assignment - 19.ipynb',\n",
       " 'Prog Assignment - 2.ipynb',\n",
       " 'Prog Assignment - 20.ipynb',\n",
       " 'Prog Assignment - 21.ipynb',\n",
       " 'Prog Assignment - 22 .ipynb',\n",
       " 'Prog Assignment - 23.ipynb',\n",
       " 'Prog Assignment - 24.ipynb',\n",
       " 'Prog Assignment - 25.ipynb',\n",
       " 'Prog Assignment - 3.ipynb',\n",
       " 'Prog Assignment - 4.ipynb',\n",
       " 'Prog Assignment - 5.ipynb',\n",
       " 'Prog Assignment - 6.ipynb',\n",
       " 'Prog Assignment - 7.ipynb',\n",
       " 'Prog Assignment - 8.ipynb',\n",
       " 'Prog Assignment - 9.ipynb',\n",
       " 'today.txt',\n",
       " 'Untitled.ipynb']"
      ]
     },
     "execution_count": 17,
     "metadata": {},
     "output_type": "execute_result"
    }
   ],
   "source": [
    "import os\n",
    "\n",
    "os.listdir()"
   ]
  },
  {
   "cell_type": "markdown",
   "id": "c5645ee5",
   "metadata": {},
   "source": [
    "### 5. Create a list of all of the files in your parent directory (minimum five files should be available)."
   ]
  },
  {
   "cell_type": "code",
   "execution_count": 19,
   "id": "7a547342",
   "metadata": {},
   "outputs": [
    {
     "data": {
      "text/plain": [
       "['-2_July_OOPs.log',\n",
       " '.android',\n",
       " '.astropy',\n",
       " '.cache',\n",
       " '.conda',\n",
       " '.continuum',\n",
       " '.cufflinks',\n",
       " '.ebookreader',\n",
       " '.git-for-windows-updater',\n",
       " '.gitconfig',\n",
       " '.idlerc',\n",
       " '.ipynb_checkpoints',\n",
       " '.ipython',\n",
       " '.jupyter',\n",
       " '.kivy',\n",
       " '.lesshst',\n",
       " '.matplotlib',\n",
       " '.ms-ad',\n",
       " '.python_history',\n",
       " '.spyder-py3',\n",
       " '.VirtualBox',\n",
       " '.vscode',\n",
       " '01_July_OOPs.ipynb',\n",
       " '01_july_OOPs.log',\n",
       " '02_July_OOPs.ipynb',\n",
       " '10_June.ipynb',\n",
       " '11_June.ipynb',\n",
       " '17th-April.ipynb',\n",
       " '17_June.ipynb',\n",
       " '18-Apr.ipynb',\n",
       " '18_June.ipynb',\n",
       " '18_June.log',\n",
       " '19-Apr.ipynb',\n",
       " '2015_tree_data.csv',\n",
       " '20th_apr,regression_practical.ipynb',\n",
       " '20_May.ipynb',\n",
       " '21_May.ipynb',\n",
       " '3D Objects - Copy',\n",
       " '4+.docx',\n",
       " '5+.pdf',\n",
       " '9th April 2023.ipynb',\n",
       " 'a.jpg',\n",
       " 'abalone.data',\n",
       " 'abc.txt',\n",
       " 'anaconda3',\n",
       " 'Api and flask.ipynb',\n",
       " 'app.log',\n",
       " 'AppData',\n",
       " 'Application Data',\n",
       " 'aryan1.db',\n",
       " 'Assignment - 1.ipynb',\n",
       " 'Assignment - 2.ipynb',\n",
       " 'Assignment - 3.ipynb',\n",
       " 'Assignment - 4.ipynb',\n",
       " 'Assignment-5.ipynb',\n",
       " 'athlete_events.csv',\n",
       " 'batsman_season_record.csv',\n",
       " 'batter.csv',\n",
       " 'bc.data',\n",
       " 'best_shows_netflix.csv',\n",
       " 'best_show_by_year_netflix.csv',\n",
       " 'big-array.npy',\n",
       " 'Book1.csv',\n",
       " 'caarbon.csv',\n",
       " 'car.data',\n",
       " 'case.csv',\n",
       " 'cd.csv',\n",
       " 'Contacts',\n",
       " 'Cookies',\n",
       " 'data.csv',\n",
       " 'database doubts.ipynb',\n",
       " 'datatypes_packages',\n",
       " 'db practice.ipynb',\n",
       " 'deliveries.csv',\n",
       " 'Desktop',\n",
       " 'dict.log',\n",
       " 'Documents',\n",
       " 'Downloads',\n",
       " 'driverresponse.csv',\n",
       " 'ecoli.data',\n",
       " 'Eda',\n",
       " 'eda - bivariate and multivariate analysis.ipynb',\n",
       " 'eda-5.ipynb',\n",
       " 'Eda.ipynb',\n",
       " 'eda1.ipynb',\n",
       " 'eda2.ipynb',\n",
       " 'eda3.ipynb',\n",
       " 'eda_parts.ipynb',\n",
       " 'Envs',\n",
       " 'Favorites',\n",
       " 'files',\n",
       " 'Flask_',\n",
       " 'Flask_29th_July',\n",
       " 'Flight Prediction',\n",
       " 'footprint.html',\n",
       " 'Fortune 500 Companies US.csv',\n",
       " 'fours-sixes.csv',\n",
       " 'friends.csv',\n",
       " 'FSDS 2.0 Doubt',\n",
       " 'FSDS Masters',\n",
       " 'FSDS Masters_Recorded',\n",
       " 'FSDS_(fp)',\n",
       " 'Function and holiday task.ipynb',\n",
       " 'Fundamental Problems.ipynb',\n",
       " 'gayle-175.csv',\n",
       " 'geckodriver.exe',\n",
       " 'geckodriver.log',\n",
       " 'glass.data',\n",
       " 'Graph and Maps assgn.ipynb',\n",
       " 'Graphs and Charts.ipynb',\n",
       " 'GUI prgramminig.ipynb',\n",
       " 'gump.mp4',\n",
       " 'haberman.data',\n",
       " 'Head First OOPs.pdf',\n",
       " 'House Pricing',\n",
       " 'Hypothesis_Testing.ipynb',\n",
       " 'images',\n",
       " 'image_scraper.ipynb',\n",
       " 'install.log',\n",
       " 'ipl.csv',\n",
       " 'Iris.csv',\n",
       " 'jobdb.db',\n",
       " 'json.ipynb',\n",
       " 'json_res.csv',\n",
       " 'kivy turorial.ipynb',\n",
       " 'ks.csv',\n",
       " 'LandR.ipynb',\n",
       " 'Lecture - 2 Assignment.ipynb',\n",
       " 'Linear Algebra.ipynb',\n",
       " 'LinearReg.ipynb',\n",
       " 'Links',\n",
       " 'Links - Copy',\n",
       " 'list.log',\n",
       " 'Local Settings',\n",
       " 'log practice.ipynb',\n",
       " 'low.csv',\n",
       " 'lty.csv',\n",
       " 'machine.data',\n",
       " 'Mall_Customers.csv',\n",
       " 'map,reduce,filter.ipynb',\n",
       " 'maps doubts.ipynb',\n",
       " 'match.csv',\n",
       " 'matches.csv',\n",
       " 'matplotlib.ipynb',\n",
       " 'MergedFiles.pdf',\n",
       " 'Microsoft',\n",
       " 'ml algo prac.ipynb',\n",
       " 'modified.xlsx',\n",
       " 'most_video.csv',\n",
       " 'Music',\n",
       " 'My Documents',\n",
       " 'mydict.py',\n",
       " 'mymodule.py',\n",
       " 'myProject.ipynb',\n",
       " 'my_module.py',\n",
       " 'N.csv',\n",
       " 'NBA.csv',\n",
       " 'NetHood',\n",
       " 'new.txt',\n",
       " 'new1.txt',\n",
       " 'noc_regions.csv',\n",
       " 'node_modules',\n",
       " 'NTUSER.DAT',\n",
       " 'ntuser.dat.LOG1',\n",
       " 'ntuser.dat.LOG2',\n",
       " 'NTUSER.DAT{e665beb2-a9ff-11ed-a358-8e4a7f326b62}.TM.blf',\n",
       " 'NTUSER.DAT{e665beb2-a9ff-11ed-a358-8e4a7f326b62}.TMContainer00000000000000000001.regtrans-ms',\n",
       " 'NTUSER.DAT{e665beb2-a9ff-11ed-a358-8e4a7f326b62}.TMContainer00000000000000000002.regtrans-ms',\n",
       " 'ntuser.ini',\n",
       " 'OneDrive',\n",
       " 'Output.html',\n",
       " 'output.png',\n",
       " 'Output_map.html',\n",
       " 'Pandas and numpy - 2.ipynb',\n",
       " 'Pandas and Numpy.ipynb',\n",
       " 'Pandas by Codewithharry.ipynb',\n",
       " 'Pandas Extra Topics.ipynb',\n",
       " 'pandas numpy practice.ipynb',\n",
       " 'Pandas Practice.....ipynb',\n",
       " 'pdf',\n",
       " 'pdf2',\n",
       " 'pdf2result.pdf',\n",
       " 'person.db',\n",
       " 'Pictures',\n",
       " 'placement.csv',\n",
       " 'pokemon_data.xlsx',\n",
       " 'Postman',\n",
       " 'power_plants.xlsx',\n",
       " 'Pre Placement DSA Assignment - 1.ipynb',\n",
       " 'Pre Placement DSA Assignment - 2.ipynb',\n",
       " 'Pre Placement Training',\n",
       " 'PrintHood',\n",
       " 'Projects',\n",
       " 'Project_ML',\n",
       " 'public_1.txt.txt',\n",
       " 'PycharmProjects',\n",
       " 'Pyhon with data base',\n",
       " 'Python advance concepts - 2.ipynb',\n",
       " 'Python Advanced Concepts.ipynb',\n",
       " 'python doubt questions.ipynb',\n",
       " 'Python Doubts.ipynb',\n",
       " 'Python Fundamentals.ipynb',\n",
       " 'Python Fundmentals 2.ipynb',\n",
       " 'Python Problems.ipynb',\n",
       " 'Python Projects.ipynb',\n",
       " 'python with database.ipynb',\n",
       " 'Python_20_Problems.ipynb',\n",
       " 'r.csv',\n",
       " 'Recent',\n",
       " 'res.pdf',\n",
       " 'response.csv',\n",
       " 'result.pdf',\n",
       " 'Review Scrapper.ipynb',\n",
       " 'reviews',\n",
       " 'review_scrapper.ipynb',\n",
       " 'RidgeandLasso(me).ipynb',\n",
       " 'sample.png',\n",
       " 'sample.xls',\n",
       " 'sampletest.csv',\n",
       " 'Saved Games',\n",
       " 'seaborn-data',\n",
       " 'Searches',\n",
       " 'SendTo',\n",
       " 'sharma-kohli.csv',\n",
       " 'smh.csv',\n",
       " 'sp.csv',\n",
       " 'Start Menu',\n",
       " 'Statistics mock test',\n",
       " 'Statistics.ipynb',\n",
       " 'stat_prac.ipynb',\n",
       " 'taxonomy.csv',\n",
       " 'Templates',\n",
       " 'test.log',\n",
       " 'test1.log',\n",
       " 'test2.py',\n",
       " 'titanic.csv',\n",
       " 'tkinter .ipynb',\n",
       " 'tkinter practice.ipynb',\n",
       " 'toc.csv',\n",
       " 'top_comp.csv',\n",
       " 'Tuple.ipynb',\n",
       " 'Untitled.ipynb',\n",
       " 'Untitled1.ipynb',\n",
       " 'Untitled10.ipynb',\n",
       " 'Untitled11.ipynb',\n",
       " 'Untitled12.ipynb',\n",
       " 'Untitled13.ipynb',\n",
       " 'Untitled14.ipynb',\n",
       " 'Untitled15.ipynb',\n",
       " 'Untitled16.ipynb',\n",
       " 'Untitled17.ipynb',\n",
       " 'Untitled18.ipynb',\n",
       " 'Untitled19.ipynb',\n",
       " 'Untitled2.ipynb',\n",
       " 'Untitled20.ipynb',\n",
       " 'Untitled21.ipynb',\n",
       " 'Untitled22.ipynb',\n",
       " 'Untitled23.ipynb',\n",
       " 'Untitled24.ipynb',\n",
       " 'Untitled25.ipynb',\n",
       " 'Untitled26.ipynb',\n",
       " 'Untitled27.ipynb',\n",
       " 'Untitled28.ipynb',\n",
       " 'Untitled29.ipynb',\n",
       " 'Untitled3.ipynb',\n",
       " 'Untitled30.ipynb',\n",
       " 'Untitled31.ipynb',\n",
       " 'Untitled32.ipynb',\n",
       " 'Untitled33.ipynb',\n",
       " 'Untitled34.ipynb',\n",
       " 'Untitled35.ipynb',\n",
       " 'Untitled36.ipynb',\n",
       " 'Untitled37.ipynb',\n",
       " 'Untitled4.ipynb',\n",
       " 'Untitled5.ipynb',\n",
       " 'Untitled6.ipynb',\n",
       " 'Untitled7.ipynb',\n",
       " 'Untitled8.ipynb',\n",
       " 'Untitled9.ipynb',\n",
       " 'Videos',\n",
       " 'VirtualBox VMs',\n",
       " 'Vitual Environment',\n",
       " 'vk.csv',\n",
       " 'vocab.enron.txt',\n",
       " 'vocab.kos.txt',\n",
       " 'vocab.nips.txt',\n",
       " 'vocab.nytimes.txt',\n",
       " 'vocab.pubmed.txt',\n",
       " 'Web Scrapping Projects.ipynb',\n",
       " '__pycache__']"
      ]
     },
     "execution_count": 19,
     "metadata": {},
     "output_type": "execute_result"
    }
   ],
   "source": [
    "import os\n",
    "\n",
    "path = os.getcwd()\n",
    "\n",
    "# parent dir path :\n",
    "p_dir = os.path.abspath(os.path.join(path, os.pardir))\n",
    "\n",
    "os.listdir(p_dir)"
   ]
  },
  {
   "cell_type": "markdown",
   "id": "ba00ec34",
   "metadata": {},
   "source": [
    "### 6. Use multiprocessing to create three separate processes. Make each one wait a random number of seconds between one and five, print the current time, and then exit."
   ]
  },
  {
   "cell_type": "code",
   "execution_count": 34,
   "id": "b986a3d7",
   "metadata": {},
   "outputs": [],
   "source": [
    "import multiprocessing \n",
    "import time\n",
    "import random\n",
    "  \n",
    "def print_cube(num):\n",
    "    \n",
    "    time.sleep(random.choice([1,2,3,4,5])) # for random time delay\n",
    "    print(\"Cube: {}\".format(num * num * num))\n",
    "    print(time.ctime())  # for current time \n",
    "    print()\n",
    "\n",
    "def print_square(num):\n",
    "   \n",
    "    time.sleep(random.choice([1,2,3,4,5])) # for random time delay\n",
    "    print(\"Square: {}\".format(num * num))\n",
    "    print(time.ctime()) # for current time\n",
    "    print()\n",
    "\n",
    "    \n",
    "def print_add(num):\n",
    "    \n",
    "    sum = 0\n",
    "    \n",
    "    for i in range(num+1):\n",
    "        sum += i\n",
    "        \n",
    "    time.sleep(random.choice([1,2,3,4,5])) # for random time delay\n",
    "    print(sum)\n",
    "    print(time.ctime()) # for current time"
   ]
  },
  {
   "cell_type": "code",
   "execution_count": 30,
   "id": "30b3e96b",
   "metadata": {},
   "outputs": [
    {
     "name": "stdout",
     "output_type": "stream",
     "text": [
      "Cube: 125\n",
      "Tue Aug  8 23:04:02 2023\n",
      "\n",
      "Square: 36\n",
      "Tue Aug  8 23:04:03 2023\n",
      "\n",
      "28\n",
      "Tue Aug  8 23:04:07 2023\n"
     ]
    }
   ],
   "source": [
    "print_cube(5)\n",
    "print_square(6)\n",
    "print_add(7)"
   ]
  },
  {
   "cell_type": "code",
   "execution_count": 45,
   "id": "084473c7",
   "metadata": {},
   "outputs": [
    {
     "name": "stdout",
     "output_type": "stream",
     "text": [
      "Cube: 125\n",
      "Square: 36\n",
      "28\n",
      "Tue Aug  8 23:14:23 2023\n"
     ]
    }
   ],
   "source": [
    "p1 = multiprocessing.Process(target=print_square, args=(10, ))\n",
    "p2 = multiprocessing.Process(target=print_cube, args=(10, ))\n",
    "p3 = multiprocessing.Process(target=print_add, args=(10, ))\n",
    "\n",
    "print_cube(5)\n",
    "print_square(6)\n",
    "print_add(7)"
   ]
  },
  {
   "cell_type": "markdown",
   "id": "5ab60d57",
   "metadata": {},
   "source": [
    "### 7. Create a date object of your day of birth."
   ]
  },
  {
   "cell_type": "code",
   "execution_count": 47,
   "id": "9b53fddc",
   "metadata": {},
   "outputs": [
    {
     "name": "stdout",
     "output_type": "stream",
     "text": [
      "2003-02-05 00:00:00\n"
     ]
    }
   ],
   "source": [
    "import datetime\n",
    "\n",
    "dob = datetime.datetime(2003,2,5)\n",
    "\n",
    "print(dob)"
   ]
  },
  {
   "cell_type": "markdown",
   "id": "a24075e9",
   "metadata": {},
   "source": [
    "### 8. What day of the week was your day of birth?"
   ]
  },
  {
   "cell_type": "code",
   "execution_count": 51,
   "id": "19938883",
   "metadata": {},
   "outputs": [
    {
     "data": {
      "text/plain": [
       "'3 - Wednesday'"
      ]
     },
     "execution_count": 51,
     "metadata": {},
     "output_type": "execute_result"
    }
   ],
   "source": [
    "dob.strftime('%w - %A')"
   ]
  },
  {
   "cell_type": "markdown",
   "id": "fd1b3ec8",
   "metadata": {},
   "source": [
    "### 9. When will you be (or when were you) 10,000 days old?"
   ]
  },
  {
   "cell_type": "code",
   "execution_count": 52,
   "id": "15f252e7",
   "metadata": {},
   "outputs": [
    {
     "name": "stdout",
     "output_type": "stream",
     "text": [
      "2030-06-23 00:00:00\n"
     ]
    }
   ],
   "source": [
    "x = dob + datetime.timedelta(days=10000)\n",
    "print(x)"
   ]
  }
 ],
 "metadata": {
  "kernelspec": {
   "display_name": "Python 3",
   "language": "python",
   "name": "python3"
  },
  "language_info": {
   "codemirror_mode": {
    "name": "ipython",
    "version": 3
   },
   "file_extension": ".py",
   "mimetype": "text/x-python",
   "name": "python",
   "nbconvert_exporter": "python",
   "pygments_lexer": "ipython3",
   "version": "3.8.8"
  },
  "varInspector": {
   "cols": {
    "lenName": 16,
    "lenType": 16,
    "lenVar": 40
   },
   "kernels_config": {
    "python": {
     "delete_cmd_postfix": "",
     "delete_cmd_prefix": "del ",
     "library": "var_list.py",
     "varRefreshCmd": "print(var_dic_list())"
    },
    "r": {
     "delete_cmd_postfix": ") ",
     "delete_cmd_prefix": "rm(",
     "library": "var_list.r",
     "varRefreshCmd": "cat(var_dic_list()) "
    }
   },
   "types_to_exclude": [
    "module",
    "function",
    "builtin_function_or_method",
    "instance",
    "_Feature"
   ],
   "window_display": false
  }
 },
 "nbformat": 4,
 "nbformat_minor": 5
}
