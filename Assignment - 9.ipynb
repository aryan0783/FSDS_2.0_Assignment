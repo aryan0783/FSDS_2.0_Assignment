{
 "cells": [
  {
   "cell_type": "markdown",
   "id": "1ba565d5",
   "metadata": {},
   "source": [
    "### 1. To what does a relative path refer?"
   ]
  },
  {
   "cell_type": "markdown",
   "id": "76e573fa",
   "metadata": {},
   "source": [
    "- relative path refers to the path that describes a location of a directory which is relative to the file name."
   ]
  },
  {
   "cell_type": "code",
   "execution_count": 5,
   "id": "258a0cdf",
   "metadata": {},
   "outputs": [
    {
     "name": "stdout",
     "output_type": "stream",
     "text": [
      "Enter the name of the file : test.txt\n",
      "FSDS 2.0 Doubt\\test.txt\n"
     ]
    }
   ],
   "source": [
    "# eg :\n",
    "\n",
    "import os\n",
    "filename = input(\"Enter the name of the file : \")\n",
    "\n",
    "path = os.getcwd() + '\\\\' + filename\n",
    "start = 'C:\\\\Users\\\\ARYAN'\n",
    "\n",
    "relative_path = os.path.relpath(path,start)\n",
    "\n",
    "print(relative_path)"
   ]
  },
  {
   "cell_type": "markdown",
   "id": "7ec0fd7b",
   "metadata": {},
   "source": [
    "### 2. What does an absolute path start with your operating system?"
   ]
  },
  {
   "cell_type": "markdown",
   "id": "bf0ebcb1",
   "metadata": {},
   "source": [
    "- absolute path always begin from the absolute start with a root element.\n",
    "\n",
    "<br>\n",
    "\n",
    "- eg : /home/sally/statusReport "
   ]
  },
  {
   "cell_type": "markdown",
   "id": "6893eb31",
   "metadata": {},
   "source": [
    "### 3. What do the functions os.getcwd() and os.chdir() do?"
   ]
  },
  {
   "cell_type": "markdown",
   "id": "011c791e",
   "metadata": {},
   "source": [
    "- os.getcwd() : this function in os module gives the path of the current working directory.\n",
    "\n",
    "<br>\n",
    "\n",
    "- os.chdir() : this function is os module helps to change the directory."
   ]
  },
  {
   "cell_type": "code",
   "execution_count": 6,
   "id": "c8c217e2",
   "metadata": {},
   "outputs": [
    {
     "data": {
      "text/plain": [
       "'C:\\\\Users\\\\ARYAN\\\\FSDS 2.0 Doubt'"
      ]
     },
     "execution_count": 6,
     "metadata": {},
     "output_type": "execute_result"
    }
   ],
   "source": [
    "# os.getcwd() :\n",
    "\n",
    "import os\n",
    "\n",
    "os.getcwd()"
   ]
  },
  {
   "cell_type": "code",
   "execution_count": 9,
   "id": "59d353b3",
   "metadata": {},
   "outputs": [
    {
     "name": "stdout",
     "output_type": "stream",
     "text": [
      "C:\\Users\n"
     ]
    }
   ],
   "source": [
    "# os.chdir() :\n",
    "\n",
    "import os\n",
    "\n",
    "os.chdir('C:\\\\Users')\n",
    "\n",
    "print(os.getcwd())"
   ]
  },
  {
   "cell_type": "markdown",
   "id": "c02583fd",
   "metadata": {},
   "source": [
    "### 4. What are the . and .. folders?"
   ]
  },
  {
   "cell_type": "markdown",
   "id": "1806761c",
   "metadata": {},
   "source": [
    "- . folder refers to the current folder\n",
    "- .. folder refers to the folder which one level higher i.r parent folder "
   ]
  },
  {
   "cell_type": "markdown",
   "id": "c6579d9e",
   "metadata": {},
   "source": [
    "### 5. In C:\\bacon\\eggs\\spam.txt, which part is the dir name, and which part is the base name?"
   ]
  },
  {
   "cell_type": "code",
   "execution_count": 10,
   "id": "bec9d7de",
   "metadata": {},
   "outputs": [
    {
     "name": "stdout",
     "output_type": "stream",
     "text": [
      "spam.txt\n"
     ]
    }
   ],
   "source": [
    "# basename\n",
    "\n",
    "import os.path\n",
    "\n",
    "path = r'C:\\bacon\\eggs\\spam.txt'\n",
    "\n",
    "basename = os.path.basename(path)\n",
    "\n",
    "print(basename)"
   ]
  },
  {
   "cell_type": "code",
   "execution_count": 11,
   "id": "66bb27e0",
   "metadata": {},
   "outputs": [
    {
     "name": "stdout",
     "output_type": "stream",
     "text": [
      "C:\\bacon\\eggs\n"
     ]
    }
   ],
   "source": [
    "# dirname\n",
    "\n",
    "import os.path\n",
    "\n",
    "path = r'C:\\bacon\\eggs\\spam.txt'\n",
    "\n",
    "dirname = os.path.dirname(path)\n",
    "\n",
    "print(dirname)"
   ]
  },
  {
   "cell_type": "markdown",
   "id": "1001c1b6",
   "metadata": {},
   "source": [
    "### 6. What are the three “mode” arguments that can be passed to the open() function?"
   ]
  },
  {
   "cell_type": "markdown",
   "id": "82c0b0d8",
   "metadata": {},
   "source": [
    "- 'r' : open a file for reading, it is a default mode.\n",
    "\n",
    "<br>\n",
    "\n",
    "- 'w' : open a file for writing also it creates new file if it does not exists.\n",
    "\n",
    "<br>\n",
    "\n",
    "- 'a' : open a file for appending at the end of the file and also it creates new file if it does not exists."
   ]
  },
  {
   "cell_type": "code",
   "execution_count": null,
   "id": "2254f1bc",
   "metadata": {},
   "outputs": [],
   "source": [
    "# eg :\n",
    "\n",
    "# read mode :\n",
    "f = open(r'C:\\bacon\\eggs\\spam.txt')\n",
    "\n",
    "# write mode :\n",
    "f = open(r'C:\\bacon\\eggs\\spam.txt','w')\n",
    "\n",
    "# append mode :\n",
    "f = open(r'C:\\bacon\\eggs\\spam.txt','a')"
   ]
  },
  {
   "cell_type": "markdown",
   "id": "90037d98",
   "metadata": {},
   "source": [
    "### 7. What happens if an existing file is opened in write mode?"
   ]
  },
  {
   "cell_type": "markdown",
   "id": "8ecdd69c",
   "metadata": {},
   "source": [
    "- if a existing file is opened in write mode then writing any data will erase the previous data."
   ]
  },
  {
   "cell_type": "code",
   "execution_count": 16,
   "id": "4a30925a",
   "metadata": {},
   "outputs": [
    {
     "name": "stdout",
     "output_type": "stream",
     "text": [
      "Previous data :  Hello How are you?\n",
      "New data :  This is Aryan!\n"
     ]
    }
   ],
   "source": [
    "# eg :\n",
    "\n",
    "# previous data :\n",
    "f = open(r'C:\\Users\\ARYAN\\Desktop\\b\\textfile.txt')\n",
    "print('Previous data : ',f.read())\n",
    "f.close()\n",
    "\n",
    "\n",
    "# writing data :\n",
    "f = open(r'C:\\Users\\ARYAN\\Desktop\\b\\textfile.txt','w')\n",
    "f.write('This is Aryan!')\n",
    "f.close()\n",
    "\n",
    "\n",
    "# new data :\n",
    "f = open(r'C:\\Users\\ARYAN\\Desktop\\b\\textfile.txt')\n",
    "print('New data : ',f.read())\n",
    "f.close()"
   ]
  },
  {
   "cell_type": "markdown",
   "id": "589c9d5f",
   "metadata": {},
   "source": [
    "### 8. How do you tell the difference between read() and readlines()?"
   ]
  },
  {
   "cell_type": "markdown",
   "id": "fcb8a3c8",
   "metadata": {},
   "source": [
    "#### read() :\n",
    "\n",
    "- read function access the file data all at once.\n",
    "\n",
    "#### readlines() :\n",
    "\n",
    "- read function will return list containing each line in a file."
   ]
  },
  {
   "cell_type": "code",
   "execution_count": 18,
   "id": "e8e6878a",
   "metadata": {},
   "outputs": [
    {
     "name": "stdout",
     "output_type": "stream",
     "text": [
      "Hello\n",
      "How\n",
      "are\n",
      "you?\n"
     ]
    }
   ],
   "source": [
    "# eg of read() :\n",
    "\n",
    "f = open(r'C:\\Users\\ARYAN\\Desktop\\b\\textfile.txt')\n",
    "print(f.read())\n",
    "f.close()"
   ]
  },
  {
   "cell_type": "code",
   "execution_count": 19,
   "id": "e549884b",
   "metadata": {},
   "outputs": [
    {
     "name": "stdout",
     "output_type": "stream",
     "text": [
      "['Hello\\n', 'How\\n', 'are\\n', 'you?']\n"
     ]
    }
   ],
   "source": [
    "# eg of readlines() :\n",
    "\n",
    "f = open(r'C:\\Users\\ARYAN\\Desktop\\b\\textfile.txt')\n",
    "print(f.readlines())\n",
    "f.close()"
   ]
  },
  {
   "cell_type": "markdown",
   "id": "28a6a088",
   "metadata": {},
   "source": [
    "### 9. What data structure does a shelf value resemble?"
   ]
  },
  {
   "cell_type": "markdown",
   "id": "1b6de2c6",
   "metadata": {},
   "source": [
    "- it resembles in a dictionary like data structures, i.e it will have keys and value pair in it."
   ]
  },
  {
   "cell_type": "code",
   "execution_count": 20,
   "id": "9646608f",
   "metadata": {},
   "outputs": [
    {
     "data": {
      "text/plain": [
       "{'Address': 'Bangalore'}"
      ]
     },
     "execution_count": 20,
     "metadata": {},
     "output_type": "execute_result"
    }
   ],
   "source": [
    "# eg :\n",
    "{'Address':'Bangalore'}"
   ]
  }
 ],
 "metadata": {
  "kernelspec": {
   "display_name": "Python 3",
   "language": "python",
   "name": "python3"
  },
  "language_info": {
   "codemirror_mode": {
    "name": "ipython",
    "version": 3
   },
   "file_extension": ".py",
   "mimetype": "text/x-python",
   "name": "python",
   "nbconvert_exporter": "python",
   "pygments_lexer": "ipython3",
   "version": "3.8.8"
  },
  "varInspector": {
   "cols": {
    "lenName": 16,
    "lenType": 16,
    "lenVar": 40
   },
   "kernels_config": {
    "python": {
     "delete_cmd_postfix": "",
     "delete_cmd_prefix": "del ",
     "library": "var_list.py",
     "varRefreshCmd": "print(var_dic_list())"
    },
    "r": {
     "delete_cmd_postfix": ") ",
     "delete_cmd_prefix": "rm(",
     "library": "var_list.r",
     "varRefreshCmd": "cat(var_dic_list()) "
    }
   },
   "types_to_exclude": [
    "module",
    "function",
    "builtin_function_or_method",
    "instance",
    "_Feature"
   ],
   "window_display": false
  }
 },
 "nbformat": 4,
 "nbformat_minor": 5
}
